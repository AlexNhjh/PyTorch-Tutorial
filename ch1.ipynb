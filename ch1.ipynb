{
 "cells": [
  {
   "cell_type": "code",
   "id": "initial_id",
   "metadata": {
    "collapsed": true,
    "ExecuteTime": {
     "end_time": "2025-06-16T15:14:44.602712Z",
     "start_time": "2025-06-16T15:14:42.709932Z"
    }
   },
   "source": [
    "what_were_covering = {1: \"Data (prepare and load\",\n",
    "                      2: \"build model\",\n",
    "                      3: \"fit the model to data (training)\",\n",
    "                      4: \"making predictions and evaluating a model (inference)\",\n",
    "                      5: \"saving and loading a model\",\n",
    "                      6: \"putting it all together\"}\n"
   ],
   "outputs": [
    {
     "data": {
      "text/plain": [
       "{1: 'Data (prepare and load',\n",
       " 2: 'build model',\n",
       " 3: 'fit the model to data (training)',\n",
       " 4: 'making predictions and evaluating a model (inference)',\n",
       " 5: 'saving and loading a model',\n",
       " 6: 'putting it all together'}"
      ]
     },
     "execution_count": 1,
     "metadata": {},
     "output_type": "execute_result"
    }
   ],
   "execution_count": 1
  },
  {
   "metadata": {},
   "cell_type": "code",
   "outputs": [],
   "execution_count": null,
   "source": [
    "import torch\n",
    "from torch import nn #building blocks for Neural Networks\n",
    "import matplotlib.pyplot as plt\n"
   ],
   "id": "1065d27ade0dbc64"
  },
  {
   "metadata": {
    "ExecuteTime": {
     "end_time": "2025-06-16T15:27:06.726192Z",
     "start_time": "2025-06-16T15:27:06.718163Z"
    }
   },
   "cell_type": "code",
   "source": [
    "# Data (preparing and loading)\n",
    "# Y = a + bX\n",
    "weight = 0.7   #b\n",
    "bias = 0.3     #a\n",
    "\n",
    "# Create data\n",
    "start = 0\n",
    "end = 1\n",
    "step = 0.02\n",
    "X = torch.arange(start, end, step).unsqueeze(dim=1)\n",
    "y = weight * X + bias\n",
    "X[:5], y[:5]\n",
    "\n",
    "# (tensor([[0.0000],\n",
    "#          [0.0200],\n",
    "#          [0.0400],\n",
    "#          [0.0600],\n",
    "#          [0.0800]]),\n",
    "#  tensor([[0.3000],\n",
    "#          [0.3140],\n",
    "#          [0.3280],\n",
    "#          [0.3420],\n",
    "#          [0.3560]]))"
   ],
   "id": "9573f66876d647c8",
   "outputs": [
    {
     "data": {
      "text/plain": [
       "(tensor([[0.0000],\n",
       "         [0.0200],\n",
       "         [0.0400],\n",
       "         [0.0600],\n",
       "         [0.0800]]),\n",
       " tensor([[0.3000],\n",
       "         [0.3140],\n",
       "         [0.3280],\n",
       "         [0.3420],\n",
       "         [0.3560]]))"
      ]
     },
     "execution_count": 5,
     "metadata": {},
     "output_type": "execute_result"
    }
   ],
   "execution_count": 5
  },
  {
   "metadata": {
    "ExecuteTime": {
     "end_time": "2025-06-16T15:27:41.634850Z",
     "start_time": "2025-06-16T15:27:41.630470Z"
    }
   },
   "cell_type": "code",
   "source": [
    "len(X), len(y)\n",
    "#(50, 50)"
   ],
   "id": "1af663f2cf712526",
   "outputs": [
    {
     "data": {
      "text/plain": [
       "(50, 50)"
      ]
     },
     "execution_count": 6,
     "metadata": {},
     "output_type": "execute_result"
    }
   ],
   "execution_count": 6
  },
  {
   "metadata": {
    "ExecuteTime": {
     "end_time": "2025-06-16T15:37:46.163332Z",
     "start_time": "2025-06-16T15:37:46.158411Z"
    }
   },
   "cell_type": "code",
   "source": [
    "# Create a training and test set with our data\n",
    "train_split = int(0.8 * len(X))\n",
    "X_train, y_train = X[:train_split], y[:train_split] #40 training samples of X and y\n",
    "X_test, y_test = X[train_split:], y[train_split:] #10 testing samples of X and y\n",
    "\n",
    "len(X_train), len(y_train), len(X_test), len(y_test)\n",
    "#(40, 40, 10, 10)"
   ],
   "id": "f30393b592840606",
   "outputs": [
    {
     "data": {
      "text/plain": [
       "(40, 40, 10, 10)"
      ]
     },
     "execution_count": 8,
     "metadata": {},
     "output_type": "execute_result"
    }
   ],
   "execution_count": 8
  },
  {
   "metadata": {
    "ExecuteTime": {
     "end_time": "2025-06-16T15:48:17.241097Z",
     "start_time": "2025-06-16T15:48:16.902149Z"
    }
   },
   "cell_type": "code",
   "source": [
    "import matplotlib.pyplot as plt\n",
    "\n",
    "# Function to visualize data\n",
    "def plot_predictions(train_data=X_train,\n",
    "                     train_labels=y_train,\n",
    "                     test_data=X_test,\n",
    "                     test_labels=y_test,\n",
    "                     predictions=None):\n",
    "    #Plots training data, test data, and compares predictions\n",
    "\n",
    "    #Plot training data in blue\n",
    "    plt.figure(figsize=(10,7))\n",
    "    plt.scatter(train_data, train_labels, c='b', s=4, label='Training data')\n",
    "\n",
    "    #Plot test data in green\n",
    "    plt.scatter(test_data, test_labels, c='g', s=4, label='Test data')\n",
    "\n",
    "    #Are there predictions?\n",
    "    if predictions is not None:\n",
    "        plt.scatter(test_data, predictions, c='r', labels='Predictions')\n",
    "\n",
    "    plt.legend(prop={\"size\": 14})"
   ],
   "id": "35f39d12a3b5528a",
   "outputs": [],
   "execution_count": 13
  },
  {
   "metadata": {
    "ExecuteTime": {
     "end_time": "2025-06-16T15:48:19.163186Z",
     "start_time": "2025-06-16T15:48:18.873353Z"
    }
   },
   "cell_type": "code",
   "source": "plot_predictions()",
   "id": "cca095c621c42471",
   "outputs": [
    {
     "data": {
      "text/plain": [
       "<Figure size 1000x700 with 1 Axes>"
      ],
      "image/png": "[encoded data removed]"
     },
     "metadata": {},
     "output_type": "display_data"
    }
   ],
   "execution_count": 14
  },
  {
   "metadata": {},
   "cell_type": "code",
   "outputs": [],
   "execution_count": null,
   "source": [
    "class LinearRegressionModel(nn.Module): #<- almost everything in PyTorch inherits nn.Module\n",
    "    def __init__(self):\n",
    "        super().__init__()\n",
    "        #Start with RANDOM numbers and continually update these to fit the data\n",
    "        #we set the weights and bias with randn (random number)\n",
    "        self.weights = nn.Parameter(torch.randn(1,\n",
    "                                                requires_grad=True,\n",
    "                                                dtype=torch.float))\n",
    "        self.bias = nn.Parameter(torch.randn(1,\n",
    "                                             requires_grad=True,\n",
    "                                             dtype=torch.float))\n",
    "        #Forward method to define the computation in the model\n",
    "        def forward(self, x:torch.Tensor) -> torch.Tensor:\n",
    "            return self.weights * x + self.bias # y = m*x + b"
   ],
   "id": "745e04e63e6e102c"
  }
 ],
 "metadata": {
  "kernelspec": {
   "display_name": "Python 3",
   "language": "python",
   "name": "python3"
  },
  "language_info": {
   "codemirror_mode": {
    "name": "ipython",
    "version": 2
   },
   "file_extension": ".py",
   "mimetype": "text/x-python",
   "name": "python",
   "nbconvert_exporter": "python",
   "pygments_lexer": "ipython2",
   "version": "2.7.6"
  }
 },
 "nbformat": 4,
 "nbformat_minor": 5
}
