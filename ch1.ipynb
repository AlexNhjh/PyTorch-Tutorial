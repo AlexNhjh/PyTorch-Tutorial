{
 "cells": [
  {
   "cell_type": "code",
   "id": "initial_id",
   "metadata": {
    "collapsed": true,
    "ExecuteTime": {
     "end_time": "2025-06-17T21:30:04.458418Z",
     "start_time": "2025-06-17T21:30:04.451931Z"
    }
   },
   "source": [
    "what_were_covering = {1: \"Data (prepare and load\",\n",
    "                      2: \"build model\",\n",
    "                      3: \"fit the model to data (training)\",\n",
    "                      4: \"making predictions and evaluating a model (inference)\",\n",
    "                      5: \"saving and loading a model\",\n",
    "                      6: \"putting it all together\"}\n"
   ],
   "outputs": [],
   "execution_count": 1
  },
  {
   "metadata": {
    "ExecuteTime": {
     "end_time": "2025-06-17T21:30:07.413491Z",
     "start_time": "2025-06-17T21:30:04.885933Z"
    }
   },
   "cell_type": "code",
   "source": [
    "import torch\n",
    "from torch import nn #building blocks for Neural Networks\n",
    "import matplotlib.pyplot as plt\n",
    "import numpy as np\n"
   ],
   "id": "1065d27ade0dbc64",
   "outputs": [],
   "execution_count": 2
  },
  {
   "metadata": {
    "ExecuteTime": {
     "end_time": "2025-06-17T21:30:07.431885Z",
     "start_time": "2025-06-17T21:30:07.422601Z"
    }
   },
   "cell_type": "code",
   "source": [
    "# Data (preparing and loading)\n",
    "# Y = a + bX\n",
    "weight = 0.7   #b\n",
    "bias = 0.3     #a\n",
    "\n",
    "# Create data\n",
    "start = 0\n",
    "end = 1\n",
    "step = 0.02\n",
    "X = torch.arange(start, end, step).unsqueeze(dim=1)\n",
    "y = weight * X + bias\n",
    "X[:5], y[:5]\n",
    "\n",
    "# (tensor([[0.0000],\n",
    "#          [0.0200],\n",
    "#          [0.0400],\n",
    "#          [0.0600],\n",
    "#          [0.0800]]),\n",
    "#  tensor([[0.3000],\n",
    "#          [0.3140],\n",
    "#          [0.3280],\n",
    "#          [0.3420],\n",
    "#          [0.3560]]))"
   ],
   "id": "9573f66876d647c8",
   "outputs": [
    {
     "data": {
      "text/plain": [
       "(tensor([[0.0000],\n",
       "         [0.0200],\n",
       "         [0.0400],\n",
       "         [0.0600],\n",
       "         [0.0800]]),\n",
       " tensor([[0.3000],\n",
       "         [0.3140],\n",
       "         [0.3280],\n",
       "         [0.3420],\n",
       "         [0.3560]]))"
      ]
     },
     "execution_count": 3,
     "metadata": {},
     "output_type": "execute_result"
    }
   ],
   "execution_count": 3
  },
  {
   "metadata": {
    "ExecuteTime": {
     "end_time": "2025-06-17T21:30:07.452540Z",
     "start_time": "2025-06-17T21:30:07.448314Z"
    }
   },
   "cell_type": "code",
   "source": [
    "len(X), len(y)\n",
    "#(50, 50)"
   ],
   "id": "1af663f2cf712526",
   "outputs": [
    {
     "data": {
      "text/plain": [
       "(50, 50)"
      ]
     },
     "execution_count": 4,
     "metadata": {},
     "output_type": "execute_result"
    }
   ],
   "execution_count": 4
  },
  {
   "metadata": {
    "ExecuteTime": {
     "end_time": "2025-06-17T21:30:07.476522Z",
     "start_time": "2025-06-17T21:30:07.471120Z"
    }
   },
   "cell_type": "code",
   "source": [
    "# Create a training and test set with our data\n",
    "train_split = int(0.8 * len(X))\n",
    "X_train, y_train = X[:train_split], y[:train_split] #40 training samples of X and y\n",
    "X_test, y_test = X[train_split:], y[train_split:] #10 testing samples of X and y\n",
    "\n",
    "len(X_train), len(y_train), len(X_test), len(y_test)\n",
    "#(40, 40, 10, 10)"
   ],
   "id": "f30393b592840606",
   "outputs": [
    {
     "data": {
      "text/plain": [
       "(40, 40, 10, 10)"
      ]
     },
     "execution_count": 5,
     "metadata": {},
     "output_type": "execute_result"
    }
   ],
   "execution_count": 5
  },
  {
   "metadata": {
    "ExecuteTime": {
     "end_time": "2025-06-17T22:09:03.652364Z",
     "start_time": "2025-06-17T22:09:03.647400Z"
    }
   },
   "cell_type": "code",
   "source": [
    "import matplotlib.pyplot as plt\n",
    "\n",
    "# Function to visualize data\n",
    "def plot_predictions(train_data,\n",
    "                     train_labels,\n",
    "                     test_data,\n",
    "                     test_labels,\n",
    "                     predictions):\n",
    "    #Plots training data, test data, and compares predictions\n",
    "\n",
    "    #Plot training data in blue\n",
    "    plt.figure(figsize=(10,7))\n",
    "    plt.scatter(train_data, train_labels, c='b', s=4, label='Training data')\n",
    "\n",
    "    #Plot test data in green\n",
    "    plt.scatter(test_data, test_labels, c='g', s=4, label='Test data')\n",
    "\n",
    "    #Are there predictions?\n",
    "    if predictions is not None:\n",
    "        plt.scatter(test_data, predictions, c='r', s=4, label='Predictions')\n",
    "\n",
    "    plt.legend(prop={\"size\": 14})"
   ],
   "id": "35f39d12a3b5528a",
   "outputs": [],
   "execution_count": 56
  },
  {
   "metadata": {
    "ExecuteTime": {
     "end_time": "2025-06-17T21:30:07.526755Z",
     "start_time": "2025-06-17T21:30:07.522328Z"
    }
   },
   "cell_type": "code",
   "source": [
    "class LinearRegressionModel(nn.Module): #<- almost everything in PyTorch inherits nn.Module\n",
    "    def __init__(self):\n",
    "        super().__init__()\n",
    "        #Start with RANDOM numbers and continually update these to fit the data\n",
    "        #we set the weights and bias with randn (random number)\n",
    "        self.weights = nn.Parameter(torch.randn(1,\n",
    "                                                requires_grad=True,\n",
    "                                                dtype=torch.float))\n",
    "        self.bias = nn.Parameter(torch.randn(1,\n",
    "                                             requires_grad=True,\n",
    "                                             dtype=torch.float))\n",
    "        #Forward method to define the computation in the model\n",
    "    def forward(self, x:torch.Tensor) -> torch.Tensor:\n",
    "        return self.weights * x + self.bias # y = m*x + b"
   ],
   "id": "745e04e63e6e102c",
   "outputs": [],
   "execution_count": 7
  },
  {
   "metadata": {},
   "cell_type": "markdown",
   "source": "### Lets check what is inside our model",
   "id": "1353297d56cc8ca2"
  },
  {
   "metadata": {
    "ExecuteTime": {
     "end_time": "2025-06-17T22:28:04.789639Z",
     "start_time": "2025-06-17T22:28:04.782395Z"
    }
   },
   "cell_type": "code",
   "source": [
    "#Create a random seed to ensure similar values from our model every time\n",
    "torch.manual_seed(42)\n",
    "\n",
    "model_0 = LinearRegressionModel()\n",
    "\n",
    "list(model_0.parameters())\n",
    "# [Parameter containing:\n",
    "#  tensor([0.3367], requires_grad=True),\n",
    "#  Parameter containing:\n",
    "#  tensor([0.1288], requires_grad=True)]"
   ],
   "id": "f3c6491b3c4bb501",
   "outputs": [
    {
     "data": {
      "text/plain": [
       "[Parameter containing:\n",
       " tensor([0.3367], requires_grad=True),\n",
       " Parameter containing:\n",
       " tensor([0.1288], requires_grad=True)]"
      ]
     },
     "execution_count": 96,
     "metadata": {},
     "output_type": "execute_result"
    }
   ],
   "execution_count": 96
  },
  {
   "metadata": {
    "ExecuteTime": {
     "end_time": "2025-06-17T22:20:22.468596Z",
     "start_time": "2025-06-17T22:20:22.463384Z"
    }
   },
   "cell_type": "code",
   "source": [
    "# List named parameters\n",
    "model_0.state_dict()\n",
    "#OrderedDict([('weights', tensor([0.3367])), ('bias', tensor([0.1288]))])"
   ],
   "id": "7c419dfeaf8f64e",
   "outputs": [
    {
     "data": {
      "text/plain": [
       "OrderedDict([('weights', tensor([0.3367])), ('bias', tensor([0.1288]))])"
      ]
     },
     "execution_count": 69,
     "metadata": {},
     "output_type": "execute_result"
    }
   ],
   "execution_count": 69
  },
  {
   "metadata": {
    "ExecuteTime": {
     "end_time": "2025-06-17T22:20:23.983446Z",
     "start_time": "2025-06-17T22:20:23.979286Z"
    }
   },
   "cell_type": "code",
   "source": [
    "#Our goal is to make these match\n",
    "weight, bias\n",
    "#(0.7, 0.3)"
   ],
   "id": "2e7229fdb2b5c81c",
   "outputs": [
    {
     "data": {
      "text/plain": [
       "(0.7, 0.3)"
      ]
     },
     "execution_count": 70,
     "metadata": {},
     "output_type": "execute_result"
    }
   ],
   "execution_count": 70
  },
  {
   "metadata": {
    "ExecuteTime": {
     "end_time": "2025-06-17T22:20:25.126952Z",
     "start_time": "2025-06-17T22:20:25.121372Z"
    }
   },
   "cell_type": "code",
   "source": [
    "X_test, y_test\n",
    "# (tensor([[0.8000],   #  tensor([[0.8600],\n",
    "#          [0.8200],   #          [0.8740],\n",
    "#          [0.8400],   #          [0.8880],\n",
    "#          [0.8600],   #          [0.9020],\n",
    "#          [0.8800],   #          [0.9160],\n",
    "#          [0.9000],   #          [0.9300],\n",
    "#          [0.9200],   #          [0.9440],\n",
    "#          [0.9400],   #          [0.9580],\n",
    "#          [0.9600],   #          [0.9720],\n",
    "#          [0.9800]]), #          [0.9860]]))"
   ],
   "id": "9dec67995a9d8251",
   "outputs": [
    {
     "data": {
      "text/plain": [
       "(tensor([[0.8000],\n",
       "         [0.8200],\n",
       "         [0.8400],\n",
       "         [0.8600],\n",
       "         [0.8800],\n",
       "         [0.9000],\n",
       "         [0.9200],\n",
       "         [0.9400],\n",
       "         [0.9600],\n",
       "         [0.9800]]),\n",
       " tensor([[0.8600],\n",
       "         [0.8740],\n",
       "         [0.8880],\n",
       "         [0.9020],\n",
       "         [0.9160],\n",
       "         [0.9300],\n",
       "         [0.9440],\n",
       "         [0.9580],\n",
       "         [0.9720],\n",
       "         [0.9860]]))"
      ]
     },
     "execution_count": 71,
     "metadata": {},
     "output_type": "execute_result"
    }
   ],
   "execution_count": 71
  },
  {
   "metadata": {
    "ExecuteTime": {
     "end_time": "2025-06-17T22:28:10.035718Z",
     "start_time": "2025-06-17T22:28:10.030724Z"
    }
   },
   "cell_type": "code",
   "source": [
    "#Make predictions with model\n",
    "with torch.inference_mode():\n",
    "    y_preds = model_0(X_test)\n",
    "\n",
    "y_preds\n",
    "# 0,0.39816\n",
    "# 1,0.40490\n",
    "# 2,0.41163\n",
    "# 3,0.41836\n",
    "# 4,0.42510\n",
    "# 5,0.43183\n",
    "# 6,0.43856\n",
    "# 7,0.44530\n",
    "# 8,0.45203\n",
    "# 9,0.45877\n"
   ],
   "id": "ecfc2ecb05ab82e6",
   "outputs": [
    {
     "data": {
      "text/plain": [
       "tensor([[0.3982],\n",
       "        [0.4049],\n",
       "        [0.4116],\n",
       "        [0.4184],\n",
       "        [0.4251],\n",
       "        [0.4318],\n",
       "        [0.4386],\n",
       "        [0.4453],\n",
       "        [0.4520],\n",
       "        [0.4588]])"
      ]
     },
     "execution_count": 97,
     "metadata": {},
     "output_type": "execute_result"
    }
   ],
   "execution_count": 97
  },
  {
   "metadata": {
    "ExecuteTime": {
     "end_time": "2025-06-17T22:20:30.693087Z",
     "start_time": "2025-06-17T22:20:30.539424Z"
    }
   },
   "cell_type": "code",
   "source": "plot_predictions(X_train, y_train, X_test, y_test, y_preds)",
   "id": "bc44f5aa7aa6e65b",
   "outputs": [
    {
     "data": {
      "text/plain": [
       "<Figure size 1000x700 with 1 Axes>"
      ],
      "image/png": "[encoded data removed]"
     },
     "metadata": {},
     "output_type": "display_data"
    }
   ],
   "execution_count": 73
  },
  {
   "metadata": {
    "ExecuteTime": {
     "end_time": "2025-06-17T21:59:58.650590Z",
     "start_time": "2025-06-17T21:59:58.644765Z"
    }
   },
   "cell_type": "code",
   "source": "model_0.state_dict()",
   "id": "e290360c42b07e77",
   "outputs": [
    {
     "data": {
      "text/plain": [
       "OrderedDict([('weights', tensor([0.3367])), ('bias', tensor([0.1288]))])"
      ]
     },
     "execution_count": 45,
     "metadata": {},
     "output_type": "execute_result"
    }
   ],
   "execution_count": 45
  },
  {
   "metadata": {
    "ExecuteTime": {
     "end_time": "2025-06-17T22:28:15.425573Z",
     "start_time": "2025-06-17T22:28:15.422104Z"
    }
   },
   "cell_type": "code",
   "source": [
    "# Setup a loss function\n",
    "loss_fn = nn.L1Loss()\n",
    "\n",
    "# Setup an optimizer. Requires parameters, e.g. weight and bias\n",
    "optimizer = torch.optim.SGD(params=model_0.parameters(),\n",
    "                            lr = 0.01) # lr = learning rate"
   ],
   "id": "e32eaa862d04ebc2",
   "outputs": [],
   "execution_count": 98
  },
  {
   "metadata": {
    "ExecuteTime": {
     "end_time": "2025-06-17T22:28:17.440493Z",
     "start_time": "2025-06-17T22:28:17.437505Z"
    }
   },
   "cell_type": "code",
   "source": [
    "epoch_count = []\n",
    "loss_values = []\n",
    "test_loss_values = []"
   ],
   "id": "547947c711e62c61",
   "outputs": [],
   "execution_count": 99
  },
  {
   "metadata": {
    "ExecuteTime": {
     "end_time": "2025-06-17T22:28:18.397714Z",
     "start_time": "2025-06-17T22:28:18.299842Z"
    }
   },
   "cell_type": "code",
   "source": [
    "torch.manual_seed(42)\n",
    "# One loop through the data\n",
    "epochs = 200\n",
    "\n",
    "#1. Loop through the data\n",
    "for epoch in range(epochs):\n",
    "    #Set the model to training mode. Sets all parameters that have gradients to require gradients\n",
    "    model_0.train()\n",
    "\n",
    "    # 1. Forward pass\n",
    "    y_pred = model_0(X_train) #learn patterns on the training data\n",
    "\n",
    "    # 2. Calculate loss\n",
    "    loss = loss_fn(y_pred, y_train)\n",
    "\n",
    "    # 3. Optimizer zero grad\n",
    "    optimizer.zero_grad()  # think of as zero'ing out the optimizer\n",
    "\n",
    "    # 4. Perform backpropagation with respect to the models parameters\n",
    "    loss.backward()\n",
    "\n",
    "    # 5. Step the optimizer (perform gradient descent)\n",
    "    optimizer.step()\n",
    "\n",
    "    # Use for model testing\n",
    "    # Sets the model to evalutation mode. Turns off gradient tracking\n",
    "    model_0.eval()\n",
    "    with torch.inference_mode(): #turns off gradient tracking and a couple more things\n",
    "        # 1. Forward pass\n",
    "        test_pred = model_0(X_test)  #X_test has never been seen by the model\n",
    "\n",
    "        # 2. Calculate the loss      #y_test has never been seen by the model\n",
    "        test_loss = loss_fn(test_pred, y_test)\n",
    "        if epoch % 10 == 0:\n",
    "            print(f\"Epoch: {epoch} | loss: {loss} | Test Loss: {test_loss}\")\n",
    "            print(test_pred, y_test)\n",
    "            epoch_count.append(epoch)\n",
    "            loss_values.append(loss)\n",
    "            test_loss_values.append(test_loss)\n",
    "# Epoch: 0 | loss: 0.31288138031959534 | Test Loss: 0.48106518387794495\n",
    "# Epoch: 10 | loss: 0.1976713240146637 | Test Loss: 0.3463551998138428\n",
    "# Epoch: 20 | loss: 0.08908725529909134 | Test Loss: 0.21729660034179688\n",
    "# Epoch: 30 | loss: 0.053148526698350906 | Test Loss: 0.14464017748832703\n",
    "# Epoch: 40 | loss: 0.04543796554207802 | Test Loss: 0.11360953003168106\n",
    "# Epoch: 50 | loss: 0.04167863354086876 | Test Loss: 0.09919948130846024\n",
    "# Epoch: 60 | loss: 0.03818932920694351 | Test Loss: 0.08886633068323135\n",
    "# Epoch: 70 | loss: 0.03476089984178543 | Test Loss: 0.0805937647819519\n",
    "# Epoch: 80 | loss: 0.03132382780313492 | Test Loss: 0.07232122868299484\n",
    "# Epoch: 90 | loss: 0.02788739837706089 | Test Loss: 0.06473556160926819\n"
   ],
   "id": "15c8db453e03f750",
   "outputs": [
    {
     "name": "stdout",
     "output_type": "stream",
     "text": [
      "Epoch: 0 | loss: 0.31288138031959534 | Test Loss: 0.48106518387794495\n",
      "tensor([[0.4113],\n",
      "        [0.4181],\n",
      "        [0.4249],\n",
      "        [0.4317],\n",
      "        [0.4385],\n",
      "        [0.4453],\n",
      "        [0.4522],\n",
      "        [0.4590],\n",
      "        [0.4658],\n",
      "        [0.4726]]) tensor([[0.8600],\n",
      "        [0.8740],\n",
      "        [0.8880],\n",
      "        [0.9020],\n",
      "        [0.9160],\n",
      "        [0.9300],\n",
      "        [0.9440],\n",
      "        [0.9580],\n",
      "        [0.9720],\n",
      "        [0.9860]])\n",
      "Epoch: 10 | loss: 0.1976713240146637 | Test Loss: 0.3463551998138428\n",
      "tensor([[0.5425],\n",
      "        [0.5501],\n",
      "        [0.5577],\n",
      "        [0.5653],\n",
      "        [0.5728],\n",
      "        [0.5804],\n",
      "        [0.5880],\n",
      "        [0.5956],\n",
      "        [0.6032],\n",
      "        [0.6108]]) tensor([[0.8600],\n",
      "        [0.8740],\n",
      "        [0.8880],\n",
      "        [0.9020],\n",
      "        [0.9160],\n",
      "        [0.9300],\n",
      "        [0.9440],\n",
      "        [0.9580],\n",
      "        [0.9720],\n",
      "        [0.9860]])\n",
      "Epoch: 20 | loss: 0.08908725529909134 | Test Loss: 0.21729660034179688\n",
      "tensor([[0.6680],\n",
      "        [0.6764],\n",
      "        [0.6848],\n",
      "        [0.6932],\n",
      "        [0.7015],\n",
      "        [0.7099],\n",
      "        [0.7183],\n",
      "        [0.7266],\n",
      "        [0.7350],\n",
      "        [0.7434]]) tensor([[0.8600],\n",
      "        [0.8740],\n",
      "        [0.8880],\n",
      "        [0.9020],\n",
      "        [0.9160],\n",
      "        [0.9300],\n",
      "        [0.9440],\n",
      "        [0.9580],\n",
      "        [0.9720],\n",
      "        [0.9860]])\n",
      "Epoch: 30 | loss: 0.053148526698350906 | Test Loss: 0.14464017748832703\n",
      "tensor([[0.7378],\n",
      "        [0.7468],\n",
      "        [0.7558],\n",
      "        [0.7648],\n",
      "        [0.7738],\n",
      "        [0.7829],\n",
      "        [0.7919],\n",
      "        [0.8009],\n",
      "        [0.8099],\n",
      "        [0.8190]]) tensor([[0.8600],\n",
      "        [0.8740],\n",
      "        [0.8880],\n",
      "        [0.9020],\n",
      "        [0.9160],\n",
      "        [0.9300],\n",
      "        [0.9440],\n",
      "        [0.9580],\n",
      "        [0.9720],\n",
      "        [0.9860]])\n",
      "Epoch: 40 | loss: 0.04543796554207802 | Test Loss: 0.11360953003168106\n",
      "tensor([[0.7667],\n",
      "        [0.7762],\n",
      "        [0.7857],\n",
      "        [0.7951],\n",
      "        [0.8046],\n",
      "        [0.8141],\n",
      "        [0.8236],\n",
      "        [0.8331],\n",
      "        [0.8426],\n",
      "        [0.8521]]) tensor([[0.8600],\n",
      "        [0.8740],\n",
      "        [0.8880],\n",
      "        [0.9020],\n",
      "        [0.9160],\n",
      "        [0.9300],\n",
      "        [0.9440],\n",
      "        [0.9580],\n",
      "        [0.9720],\n",
      "        [0.9860]])\n",
      "Epoch: 50 | loss: 0.04167863354086876 | Test Loss: 0.09919948130846024\n",
      "tensor([[0.7794],\n",
      "        [0.7892],\n",
      "        [0.7991],\n",
      "        [0.8090],\n",
      "        [0.8189],\n",
      "        [0.8287],\n",
      "        [0.8386],\n",
      "        [0.8485],\n",
      "        [0.8584],\n",
      "        [0.8682]]) tensor([[0.8600],\n",
      "        [0.8740],\n",
      "        [0.8880],\n",
      "        [0.9020],\n",
      "        [0.9160],\n",
      "        [0.9300],\n",
      "        [0.9440],\n",
      "        [0.9580],\n",
      "        [0.9720],\n",
      "        [0.9860]])\n",
      "Epoch: 60 | loss: 0.03818932920694351 | Test Loss: 0.08886633068323135\n",
      "tensor([[0.7881],\n",
      "        [0.7983],\n",
      "        [0.8086],\n",
      "        [0.8188],\n",
      "        [0.8290],\n",
      "        [0.8392],\n",
      "        [0.8495],\n",
      "        [0.8597],\n",
      "        [0.8699],\n",
      "        [0.8802]]) tensor([[0.8600],\n",
      "        [0.8740],\n",
      "        [0.8880],\n",
      "        [0.9020],\n",
      "        [0.9160],\n",
      "        [0.9300],\n",
      "        [0.9440],\n",
      "        [0.9580],\n",
      "        [0.9720],\n",
      "        [0.9860]])\n",
      "Epoch: 70 | loss: 0.03476089984178543 | Test Loss: 0.0805937647819519\n",
      "tensor([[0.7948],\n",
      "        [0.8054],\n",
      "        [0.8160],\n",
      "        [0.8265],\n",
      "        [0.8371],\n",
      "        [0.8477],\n",
      "        [0.8583],\n",
      "        [0.8688],\n",
      "        [0.8794],\n",
      "        [0.8900]]) tensor([[0.8600],\n",
      "        [0.8740],\n",
      "        [0.8880],\n",
      "        [0.9020],\n",
      "        [0.9160],\n",
      "        [0.9300],\n",
      "        [0.9440],\n",
      "        [0.9580],\n",
      "        [0.9720],\n",
      "        [0.9860]])\n",
      "Epoch: 80 | loss: 0.03132382780313492 | Test Loss: 0.07232122868299484\n",
      "tensor([[0.8015],\n",
      "        [0.8125],\n",
      "        [0.8234],\n",
      "        [0.8343],\n",
      "        [0.8452],\n",
      "        [0.8561],\n",
      "        [0.8671],\n",
      "        [0.8780],\n",
      "        [0.8889],\n",
      "        [0.8998]]) tensor([[0.8600],\n",
      "        [0.8740],\n",
      "        [0.8880],\n",
      "        [0.9020],\n",
      "        [0.9160],\n",
      "        [0.9300],\n",
      "        [0.9440],\n",
      "        [0.9580],\n",
      "        [0.9720],\n",
      "        [0.9860]])\n",
      "Epoch: 90 | loss: 0.02788739837706089 | Test Loss: 0.06473556160926819\n",
      "tensor([[0.8076],\n",
      "        [0.8189],\n",
      "        [0.8301],\n",
      "        [0.8414],\n",
      "        [0.8526],\n",
      "        [0.8639],\n",
      "        [0.8752],\n",
      "        [0.8864],\n",
      "        [0.8977],\n",
      "        [0.9089]]) tensor([[0.8600],\n",
      "        [0.8740],\n",
      "        [0.8880],\n",
      "        [0.9020],\n",
      "        [0.9160],\n",
      "        [0.9300],\n",
      "        [0.9440],\n",
      "        [0.9580],\n",
      "        [0.9720],\n",
      "        [0.9860]])\n",
      "Epoch: 100 | loss: 0.024458957836031914 | Test Loss: 0.05646304413676262\n",
      "tensor([[0.8143],\n",
      "        [0.8259],\n",
      "        [0.8375],\n",
      "        [0.8491],\n",
      "        [0.8607],\n",
      "        [0.8723],\n",
      "        [0.8839],\n",
      "        [0.8955],\n",
      "        [0.9071],\n",
      "        [0.9187]]) tensor([[0.8600],\n",
      "        [0.8740],\n",
      "        [0.8880],\n",
      "        [0.9020],\n",
      "        [0.9160],\n",
      "        [0.9300],\n",
      "        [0.9440],\n",
      "        [0.9580],\n",
      "        [0.9720],\n",
      "        [0.9860]])\n",
      "Epoch: 110 | loss: 0.021020207554101944 | Test Loss: 0.04819049686193466\n",
      "tensor([[0.8211],\n",
      "        [0.8330],\n",
      "        [0.8449],\n",
      "        [0.8569],\n",
      "        [0.8688],\n",
      "        [0.8808],\n",
      "        [0.8927],\n",
      "        [0.9047],\n",
      "        [0.9166],\n",
      "        [0.9286]]) tensor([[0.8600],\n",
      "        [0.8740],\n",
      "        [0.8880],\n",
      "        [0.9020],\n",
      "        [0.9160],\n",
      "        [0.9300],\n",
      "        [0.9440],\n",
      "        [0.9580],\n",
      "        [0.9720],\n",
      "        [0.9860]])\n",
      "Epoch: 120 | loss: 0.01758546568453312 | Test Loss: 0.04060482233762741\n",
      "tensor([[0.8271],\n",
      "        [0.8394],\n",
      "        [0.8517],\n",
      "        [0.8640],\n",
      "        [0.8763],\n",
      "        [0.8885],\n",
      "        [0.9008],\n",
      "        [0.9131],\n",
      "        [0.9254],\n",
      "        [0.9377]]) tensor([[0.8600],\n",
      "        [0.8740],\n",
      "        [0.8880],\n",
      "        [0.9020],\n",
      "        [0.9160],\n",
      "        [0.9300],\n",
      "        [0.9440],\n",
      "        [0.9580],\n",
      "        [0.9720],\n",
      "        [0.9860]])\n",
      "Epoch: 130 | loss: 0.014155393466353416 | Test Loss: 0.03233227878808975\n",
      "tensor([[0.8339],\n",
      "        [0.8465],\n",
      "        [0.8591],\n",
      "        [0.8717],\n",
      "        [0.8844],\n",
      "        [0.8970],\n",
      "        [0.9096],\n",
      "        [0.9222],\n",
      "        [0.9349],\n",
      "        [0.9475]]) tensor([[0.8600],\n",
      "        [0.8740],\n",
      "        [0.8880],\n",
      "        [0.9020],\n",
      "        [0.9160],\n",
      "        [0.9300],\n",
      "        [0.9440],\n",
      "        [0.9580],\n",
      "        [0.9720],\n",
      "        [0.9860]])\n",
      "Epoch: 140 | loss: 0.010716589167714119 | Test Loss: 0.024059748277068138\n",
      "tensor([[0.8406],\n",
      "        [0.8535],\n",
      "        [0.8665],\n",
      "        [0.8795],\n",
      "        [0.8925],\n",
      "        [0.9054],\n",
      "        [0.9184],\n",
      "        [0.9314],\n",
      "        [0.9443],\n",
      "        [0.9573]]) tensor([[0.8600],\n",
      "        [0.8740],\n",
      "        [0.8880],\n",
      "        [0.9020],\n",
      "        [0.9160],\n",
      "        [0.9300],\n",
      "        [0.9440],\n",
      "        [0.9580],\n",
      "        [0.9720],\n",
      "        [0.9860]])\n",
      "Epoch: 150 | loss: 0.0072835334576666355 | Test Loss: 0.016474086791276932\n",
      "tensor([[0.8466],\n",
      "        [0.8599],\n",
      "        [0.8733],\n",
      "        [0.8866],\n",
      "        [0.8999],\n",
      "        [0.9132],\n",
      "        [0.9265],\n",
      "        [0.9398],\n",
      "        [0.9531],\n",
      "        [0.9664]]) tensor([[0.8600],\n",
      "        [0.8740],\n",
      "        [0.8880],\n",
      "        [0.9020],\n",
      "        [0.9160],\n",
      "        [0.9300],\n",
      "        [0.9440],\n",
      "        [0.9580],\n",
      "        [0.9720],\n",
      "        [0.9860]])\n",
      "Epoch: 160 | loss: 0.0038517764769494534 | Test Loss: 0.008201557211577892\n",
      "tensor([[0.8534],\n",
      "        [0.8670],\n",
      "        [0.8807],\n",
      "        [0.8943],\n",
      "        [0.9080],\n",
      "        [0.9216],\n",
      "        [0.9353],\n",
      "        [0.9489],\n",
      "        [0.9626],\n",
      "        [0.9762]]) tensor([[0.8600],\n",
      "        [0.8740],\n",
      "        [0.8880],\n",
      "        [0.9020],\n",
      "        [0.9160],\n",
      "        [0.9300],\n",
      "        [0.9440],\n",
      "        [0.9580],\n",
      "        [0.9720],\n",
      "        [0.9860]])\n",
      "Epoch: 170 | loss: 0.008932482451200485 | Test Loss: 0.005023092031478882\n",
      "tensor([[0.8554],\n",
      "        [0.8693],\n",
      "        [0.8832],\n",
      "        [0.8971],\n",
      "        [0.9110],\n",
      "        [0.9249],\n",
      "        [0.9388],\n",
      "        [0.9527],\n",
      "        [0.9666],\n",
      "        [0.9805]]) tensor([[0.8600],\n",
      "        [0.8740],\n",
      "        [0.8880],\n",
      "        [0.9020],\n",
      "        [0.9160],\n",
      "        [0.9300],\n",
      "        [0.9440],\n",
      "        [0.9580],\n",
      "        [0.9720],\n",
      "        [0.9860]])\n",
      "Epoch: 180 | loss: 0.008932482451200485 | Test Loss: 0.005023092031478882\n",
      "tensor([[0.8554],\n",
      "        [0.8693],\n",
      "        [0.8832],\n",
      "        [0.8971],\n",
      "        [0.9110],\n",
      "        [0.9249],\n",
      "        [0.9388],\n",
      "        [0.9527],\n",
      "        [0.9666],\n",
      "        [0.9805]]) tensor([[0.8600],\n",
      "        [0.8740],\n",
      "        [0.8880],\n",
      "        [0.9020],\n",
      "        [0.9160],\n",
      "        [0.9300],\n",
      "        [0.9440],\n",
      "        [0.9580],\n",
      "        [0.9720],\n",
      "        [0.9860]])\n",
      "Epoch: 190 | loss: 0.008932482451200485 | Test Loss: 0.005023092031478882\n",
      "tensor([[0.8554],\n",
      "        [0.8693],\n",
      "        [0.8832],\n",
      "        [0.8971],\n",
      "        [0.9110],\n",
      "        [0.9249],\n",
      "        [0.9388],\n",
      "        [0.9527],\n",
      "        [0.9666],\n",
      "        [0.9805]]) tensor([[0.8600],\n",
      "        [0.8740],\n",
      "        [0.8880],\n",
      "        [0.9020],\n",
      "        [0.9160],\n",
      "        [0.9300],\n",
      "        [0.9440],\n",
      "        [0.9580],\n",
      "        [0.9720],\n",
      "        [0.9860]])\n"
     ]
    }
   ],
   "execution_count": 100
  },
  {
   "metadata": {
    "ExecuteTime": {
     "end_time": "2025-06-17T22:27:59.319583Z",
     "start_time": "2025-06-17T22:27:59.314441Z"
    }
   },
   "cell_type": "code",
   "source": [
    "model_0.state_dict()\n",
    "#OrderedDict([('weights', tensor([0.6990])), ('bias', tensor([0.3093]))])"
   ],
   "id": "f7b46b642b1d45c7",
   "outputs": [
    {
     "data": {
      "text/plain": [
       "OrderedDict([('weights', tensor([0.3367])), ('bias', tensor([0.1288]))])"
      ]
     },
     "execution_count": 94,
     "metadata": {},
     "output_type": "execute_result"
    }
   ],
   "execution_count": 94
  },
  {
   "metadata": {
    "ExecuteTime": {
     "end_time": "2025-06-17T22:28:22.273181Z",
     "start_time": "2025-06-17T22:28:22.116097Z"
    }
   },
   "cell_type": "code",
   "source": [
    "#update y predictions and graph\n",
    "with torch.inference_mode():\n",
    "    y_preds_new = model_0(X_test)\n",
    "\n",
    "plot_predictions(X_train, y_train, X_test, y_test, y_preds_new)"
   ],
   "id": "db7adba571a51b1",
   "outputs": [
    {
     "data": {
      "text/plain": [
       "<Figure size 1000x700 with 1 Axes>"
      ],
      "image/png": "[encoded data removed]"
     },
     "metadata": {},
     "output_type": "display_data"
    }
   ],
   "execution_count": 101
  },
  {
   "metadata": {
    "ExecuteTime": {
     "end_time": "2025-06-17T22:27:22.118303Z",
     "start_time": "2025-06-17T22:27:22.115918Z"
    }
   },
   "cell_type": "code",
   "source": "",
   "id": "3ad4c8f768b1caf3",
   "outputs": [],
   "execution_count": null
  },
  {
   "metadata": {
    "ExecuteTime": {
     "end_time": "2025-06-17T22:28:24.678844Z",
     "start_time": "2025-06-17T22:28:24.564331Z"
    }
   },
   "cell_type": "code",
   "source": [
    "# Plotting Our Loss Functions\n",
    "import numpy as np\n",
    "plt.plot(epoch_count, np.array(torch.tensor(loss_values).numpy()), label=\"Training Loss\")\n",
    "plt.plot(epoch_count, np.array(torch.tensor(test_loss_values).numpy()), label=\"Test Loss\") #We must convert our tensors to numpy arrays so Matplotlib can work with them\n",
    "plt.title(\"Training Loss and Test Loss Curves\")\n",
    "plt.ylabel(\"Loss\")\n",
    "plt.xlabel(\"Epochs\")"
   ],
   "id": "d70620246cfebcbc",
   "outputs": [
    {
     "data": {
      "text/plain": [
       "Text(0.5, 0, 'Epochs')"
      ]
     },
     "execution_count": 102,
     "metadata": {},
     "output_type": "execute_result"
    },
    {
     "data": {
      "text/plain": [
       "<Figure size 640x480 with 1 Axes>"
      ],
      "image/png": "[encoded data removed]"
     },
     "metadata": {},
     "output_type": "display_data"
    }
   ],
   "execution_count": 102
  }
 ],
 "metadata": {
  "kernelspec": {
   "display_name": "Python 3",
   "language": "python",
   "name": "python3"
  },
  "language_info": {
   "codemirror_mode": {
    "name": "ipython",
    "version": 2
   },
   "file_extension": ".py",
   "mimetype": "text/x-python",
   "name": "python",
   "nbconvert_exporter": "python",
   "pygments_lexer": "ipython2",
   "version": "2.7.6"
  }
 },
 "nbformat": 4,
 "nbformat_minor": 5
}
