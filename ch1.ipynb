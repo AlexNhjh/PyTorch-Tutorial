{
 "cells": [
  {
   "cell_type": "code",
   "id": "initial_id",
   "metadata": {
    "collapsed": true,
    "ExecuteTime": {
     "end_time": "2025-06-17T15:07:08.083460Z",
     "start_time": "2025-06-17T15:07:08.080009Z"
    }
   },
   "source": [
    "what_were_covering = {1: \"Data (prepare and load\",\n",
    "                      2: \"build model\",\n",
    "                      3: \"fit the model to data (training)\",\n",
    "                      4: \"making predictions and evaluating a model (inference)\",\n",
    "                      5: \"saving and loading a model\",\n",
    "                      6: \"putting it all together\"}\n"
   ],
   "outputs": [],
   "execution_count": 98
  },
  {
   "metadata": {
    "ExecuteTime": {
     "end_time": "2025-06-17T15:07:08.109085Z",
     "start_time": "2025-06-17T15:07:08.105069Z"
    }
   },
   "cell_type": "code",
   "source": [
    "import torch\n",
    "from torch import nn #building blocks for Neural Networks\n",
    "import matplotlib.pyplot as plt\n"
   ],
   "id": "1065d27ade0dbc64",
   "outputs": [],
   "execution_count": 99
  },
  {
   "metadata": {
    "ExecuteTime": {
     "end_time": "2025-06-17T15:07:08.140359Z",
     "start_time": "2025-06-17T15:07:08.132833Z"
    }
   },
   "cell_type": "code",
   "source": [
    "# Data (preparing and loading)\n",
    "# Y = a + bX\n",
    "weight = 0.7   #b\n",
    "bias = 0.3     #a\n",
    "\n",
    "# Create data\n",
    "start = 0\n",
    "end = 1\n",
    "step = 0.02\n",
    "X = torch.arange(start, end, step).unsqueeze(dim=1)\n",
    "y = weight * X + bias\n",
    "X[:5], y[:5]\n",
    "\n",
    "# (tensor([[0.0000],\n",
    "#          [0.0200],\n",
    "#          [0.0400],\n",
    "#          [0.0600],\n",
    "#          [0.0800]]),\n",
    "#  tensor([[0.3000],\n",
    "#          [0.3140],\n",
    "#          [0.3280],\n",
    "#          [0.3420],\n",
    "#          [0.3560]]))"
   ],
   "id": "9573f66876d647c8",
   "outputs": [
    {
     "data": {
      "text/plain": [
       "(tensor([[0.0000],\n",
       "         [0.0200],\n",
       "         [0.0400],\n",
       "         [0.0600],\n",
       "         [0.0800]]),\n",
       " tensor([[0.3000],\n",
       "         [0.3140],\n",
       "         [0.3280],\n",
       "         [0.3420],\n",
       "         [0.3560]]))"
      ]
     },
     "execution_count": 100,
     "metadata": {},
     "output_type": "execute_result"
    }
   ],
   "execution_count": 100
  },
  {
   "metadata": {
    "ExecuteTime": {
     "end_time": "2025-06-17T15:07:08.166708Z",
     "start_time": "2025-06-17T15:07:08.161222Z"
    }
   },
   "cell_type": "code",
   "source": [
    "len(X), len(y)\n",
    "#(50, 50)"
   ],
   "id": "1af663f2cf712526",
   "outputs": [
    {
     "data": {
      "text/plain": [
       "(50, 50)"
      ]
     },
     "execution_count": 101,
     "metadata": {},
     "output_type": "execute_result"
    }
   ],
   "execution_count": 101
  },
  {
   "metadata": {
    "ExecuteTime": {
     "end_time": "2025-06-17T15:07:08.204346Z",
     "start_time": "2025-06-17T15:07:08.197046Z"
    }
   },
   "cell_type": "code",
   "source": [
    "# Create a training and test set with our data\n",
    "train_split = int(0.8 * len(X))\n",
    "X_train, y_train = X[:train_split], y[:train_split] #40 training samples of X and y\n",
    "X_test, y_test = X[train_split:], y[train_split:] #10 testing samples of X and y\n",
    "\n",
    "len(X_train), len(y_train), len(X_test), len(y_test)\n",
    "#(40, 40, 10, 10)"
   ],
   "id": "f30393b592840606",
   "outputs": [
    {
     "data": {
      "text/plain": [
       "(40, 40, 10, 10)"
      ]
     },
     "execution_count": 102,
     "metadata": {},
     "output_type": "execute_result"
    }
   ],
   "execution_count": 102
  },
  {
   "metadata": {
    "ExecuteTime": {
     "end_time": "2025-06-17T15:07:08.248276Z",
     "start_time": "2025-06-17T15:07:08.241693Z"
    }
   },
   "cell_type": "code",
   "source": [
    "import matplotlib.pyplot as plt\n",
    "\n",
    "# Function to visualize data\n",
    "def plot_predictions(train_data=X_train,\n",
    "                     train_labels=y_train,\n",
    "                     test_data=X_test,\n",
    "                     test_labels=y_test,\n",
    "                     predictions=None):\n",
    "    #Plots training data, test data, and compares predictions\n",
    "\n",
    "    #Plot training data in blue\n",
    "    plt.figure(figsize=(10,7))\n",
    "    plt.scatter(train_data, train_labels, c='b', s=4, label='Training data')\n",
    "\n",
    "    #Plot test data in green\n",
    "    plt.scatter(test_data, test_labels, c='g', s=4, label='Test data')\n",
    "\n",
    "    #Are there predictions?\n",
    "    if predictions is not None:\n",
    "        plt.scatter(test_data, predictions, c='r', label='Predictions')\n",
    "\n",
    "    plt.legend(prop={\"size\": 14})"
   ],
   "id": "35f39d12a3b5528a",
   "outputs": [],
   "execution_count": 103
  },
  {
   "metadata": {
    "ExecuteTime": {
     "end_time": "2025-06-17T15:07:08.423404Z",
     "start_time": "2025-06-17T15:07:08.266595Z"
    }
   },
   "cell_type": "code",
   "source": "plot_predictions()",
   "id": "cca095c621c42471",
   "outputs": [
    {
     "data": {
      "text/plain": [
       "<Figure size 1000x700 with 1 Axes>"
      ],
      "image/png": "[encoded data removed]"
     },
     "metadata": {},
     "output_type": "display_data"
    }
   ],
   "execution_count": 104
  },
  {
   "metadata": {
    "ExecuteTime": {
     "end_time": "2025-06-17T15:07:08.448604Z",
     "start_time": "2025-06-17T15:07:08.443101Z"
    }
   },
   "cell_type": "code",
   "source": [
    "class LinearRegressionModel(nn.Module): #<- almost everything in PyTorch inherits nn.Module\n",
    "    def __init__(self):\n",
    "        super().__init__()\n",
    "        #Start with RANDOM numbers and continually update these to fit the data\n",
    "        #we set the weights and bias with randn (random number)\n",
    "        self.weights = nn.Parameter(torch.randn(1,\n",
    "                                                requires_grad=True,\n",
    "                                                dtype=torch.float))\n",
    "        self.bias = nn.Parameter(torch.randn(1,\n",
    "                                             requires_grad=True,\n",
    "                                             dtype=torch.float))\n",
    "        #Forward method to define the computation in the model\n",
    "    def forward(self, x:torch.Tensor) -> torch.Tensor:\n",
    "        return self.weights * x + self.bias # y = m*x + b"
   ],
   "id": "745e04e63e6e102c",
   "outputs": [],
   "execution_count": 105
  },
  {
   "metadata": {},
   "cell_type": "markdown",
   "source": "### Lets check what is inside our model",
   "id": "1353297d56cc8ca2"
  },
  {
   "metadata": {
    "ExecuteTime": {
     "end_time": "2025-06-17T15:07:08.496365Z",
     "start_time": "2025-06-17T15:07:08.470683Z"
    }
   },
   "cell_type": "code",
   "source": [
    "#Create a random seed to ensure similar values from our model every time\n",
    "torch.manual_seed(42)\n",
    "\n",
    "model_0 = LinearRegressionModel()\n",
    "\n",
    "list(model_0.parameters())\n",
    "# [Parameter containing:\n",
    "#  tensor([0.3367], requires_grad=True),\n",
    "#  Parameter containing:\n",
    "#  tensor([0.1288], requires_grad=True)]"
   ],
   "id": "f3c6491b3c4bb501",
   "outputs": [
    {
     "data": {
      "text/plain": [
       "[Parameter containing:\n",
       " tensor([0.3367], requires_grad=True),\n",
       " Parameter containing:\n",
       " tensor([0.1288], requires_grad=True)]"
      ]
     },
     "execution_count": 106,
     "metadata": {},
     "output_type": "execute_result"
    }
   ],
   "execution_count": 106
  },
  {
   "metadata": {
    "ExecuteTime": {
     "end_time": "2025-06-17T15:07:08.540778Z",
     "start_time": "2025-06-17T15:07:08.534379Z"
    }
   },
   "cell_type": "code",
   "source": [
    "# List named parameters\n",
    "model_0.state_dict()\n",
    "#OrderedDict([('weights', tensor([0.3367])), ('bias', tensor([0.1288]))])"
   ],
   "id": "7c419dfeaf8f64e",
   "outputs": [
    {
     "data": {
      "text/plain": [
       "OrderedDict([('weights', tensor([0.3367])), ('bias', tensor([0.1288]))])"
      ]
     },
     "execution_count": 107,
     "metadata": {},
     "output_type": "execute_result"
    }
   ],
   "execution_count": 107
  },
  {
   "metadata": {
    "ExecuteTime": {
     "end_time": "2025-06-17T15:07:08.586847Z",
     "start_time": "2025-06-17T15:07:08.580849Z"
    }
   },
   "cell_type": "code",
   "source": [
    "#Our goal is to make these match\n",
    "weight, bias\n",
    "#(0.7, 0.3)"
   ],
   "id": "2e7229fdb2b5c81c",
   "outputs": [
    {
     "data": {
      "text/plain": [
       "(0.7, 0.3)"
      ]
     },
     "execution_count": 108,
     "metadata": {},
     "output_type": "execute_result"
    }
   ],
   "execution_count": 108
  },
  {
   "metadata": {
    "ExecuteTime": {
     "end_time": "2025-06-17T15:07:08.639347Z",
     "start_time": "2025-06-17T15:07:08.631411Z"
    }
   },
   "cell_type": "code",
   "source": [
    "X_test, y_test\n",
    "# (tensor([[0.8000],   #  tensor([[0.8600],\n",
    "#          [0.8200],   #          [0.8740],\n",
    "#          [0.8400],   #          [0.8880],\n",
    "#          [0.8600],   #          [0.9020],\n",
    "#          [0.8800],   #          [0.9160],\n",
    "#          [0.9000],   #          [0.9300],\n",
    "#          [0.9200],   #          [0.9440],\n",
    "#          [0.9400],   #          [0.9580],\n",
    "#          [0.9600],   #          [0.9720],\n",
    "#          [0.9800]]), #          [0.9860]]))"
   ],
   "id": "9dec67995a9d8251",
   "outputs": [
    {
     "data": {
      "text/plain": [
       "(tensor([[0.8000],\n",
       "         [0.8200],\n",
       "         [0.8400],\n",
       "         [0.8600],\n",
       "         [0.8800],\n",
       "         [0.9000],\n",
       "         [0.9200],\n",
       "         [0.9400],\n",
       "         [0.9600],\n",
       "         [0.9800]]),\n",
       " tensor([[0.8600],\n",
       "         [0.8740],\n",
       "         [0.8880],\n",
       "         [0.9020],\n",
       "         [0.9160],\n",
       "         [0.9300],\n",
       "         [0.9440],\n",
       "         [0.9580],\n",
       "         [0.9720],\n",
       "         [0.9860]]))"
      ]
     },
     "execution_count": 109,
     "metadata": {},
     "output_type": "execute_result"
    }
   ],
   "execution_count": 109
  },
  {
   "metadata": {
    "ExecuteTime": {
     "end_time": "2025-06-17T15:07:08.676251Z",
     "start_time": "2025-06-17T15:07:08.670116Z"
    }
   },
   "cell_type": "code",
   "source": [
    "#Make predictions with model\n",
    "with torch.inference_mode():\n",
    "    y_preds = model_0(X_test)\n",
    "\n",
    "y_preds\n",
    "# 0,0.39816\n",
    "# 1,0.40490\n",
    "# 2,0.41163\n",
    "# 3,0.41836\n",
    "# 4,0.42510\n",
    "# 5,0.43183\n",
    "# 6,0.43856\n",
    "# 7,0.44530\n",
    "# 8,0.45203\n",
    "# 9,0.45877\n"
   ],
   "id": "ecfc2ecb05ab82e6",
   "outputs": [
    {
     "data": {
      "text/plain": [
       "tensor([[0.3982],\n",
       "        [0.4049],\n",
       "        [0.4116],\n",
       "        [0.4184],\n",
       "        [0.4251],\n",
       "        [0.4318],\n",
       "        [0.4386],\n",
       "        [0.4453],\n",
       "        [0.4520],\n",
       "        [0.4588]])"
      ]
     },
     "execution_count": 110,
     "metadata": {},
     "output_type": "execute_result"
    }
   ],
   "execution_count": 110
  },
  {
   "metadata": {
    "ExecuteTime": {
     "end_time": "2025-06-17T15:07:08.894242Z",
     "start_time": "2025-06-17T15:07:08.746496Z"
    }
   },
   "cell_type": "code",
   "source": "plot_predictions(predictions=y_preds)",
   "id": "bc44f5aa7aa6e65b",
   "outputs": [
    {
     "data": {
      "text/plain": [
       "<Figure size 1000x700 with 1 Axes>"
      ],
      "image/png": "[encoded data removed]"
     },
     "metadata": {},
     "output_type": "display_data"
    }
   ],
   "execution_count": 111
  },
  {
   "metadata": {
    "ExecuteTime": {
     "end_time": "2025-06-17T15:07:09.160208Z",
     "start_time": "2025-06-17T15:07:09.154208Z"
    }
   },
   "cell_type": "code",
   "source": "model_0.state_dict()",
   "id": "e290360c42b07e77",
   "outputs": [
    {
     "data": {
      "text/plain": [
       "OrderedDict([('weights', tensor([0.3367])), ('bias', tensor([0.1288]))])"
      ]
     },
     "execution_count": 112,
     "metadata": {},
     "output_type": "execute_result"
    }
   ],
   "execution_count": 112
  },
  {
   "metadata": {
    "ExecuteTime": {
     "end_time": "2025-06-17T15:07:09.218958Z",
     "start_time": "2025-06-17T15:07:09.214230Z"
    }
   },
   "cell_type": "code",
   "source": [
    "# Setup a loss function\n",
    "loss_fn = nn.L1Loss()\n",
    "\n",
    "# Setup an optimizer. Requires parameters, e.g. weight and bias\n",
    "optimizer = torch.optim.SGD(params=model_0.parameters(),\n",
    "                            lr = 0.01) # lr = learning rate"
   ],
   "id": "e32eaa862d04ebc2",
   "outputs": [],
   "execution_count": 113
  },
  {
   "metadata": {
    "ExecuteTime": {
     "end_time": "2025-06-17T15:07:09.258196Z",
     "start_time": "2025-06-17T15:07:09.253687Z"
    }
   },
   "cell_type": "code",
   "source": [
    "# One loop through the data\n",
    "epochs = 1\n",
    "\n",
    "#1. Loop through the data\n",
    "for epoch in range(epochs):\n",
    "    # Set the model to training mode. Sets all parameters that have gradients to require gradients\n",
    "    model_0.train()\n",
    "\n",
    "    # 1. Forward pass\n",
    "    y_pred = model_0(X_train) #learn patterns on the training data\n",
    "\n",
    "    # 2. Calculate loss\n",
    "    loss = loss_fn(y_pred, y_train)\n",
    "\n",
    "    # 3. Optimizer zero grad\n",
    "    optimizer.zero_grad()  # think of as zero'ing out the optimizer\n",
    "\n",
    "    # 4. Perform backpropagation with respect to the models parameters\n",
    "    loss.backward()\n",
    "\n",
    "    # 5. Step the optimizer (perform gradient descent)\n",
    "    optimizer.step()\n",
    "\n",
    "    # Sets the model to evalutation mode. Turns off gradient tracking\n",
    "    # model_0.eval()"
   ],
   "id": "15c8db453e03f750",
   "outputs": [],
   "execution_count": 114
  },
  {
   "metadata": {
    "ExecuteTime": {
     "end_time": "2025-06-17T15:07:09.280231Z",
     "start_time": "2025-06-17T15:07:09.274434Z"
    }
   },
   "cell_type": "code",
   "source": "model_0.state_dict()",
   "id": "f7b46b642b1d45c7",
   "outputs": [
    {
     "data": {
      "text/plain": [
       "OrderedDict([('weights', tensor([0.3406])), ('bias', tensor([0.1388]))])"
      ]
     },
     "execution_count": 115,
     "metadata": {},
     "output_type": "execute_result"
    }
   ],
   "execution_count": 115
  }
 ],
 "metadata": {
  "kernelspec": {
   "display_name": "Python 3",
   "language": "python",
   "name": "python3"
  },
  "language_info": {
   "codemirror_mode": {
    "name": "ipython",
    "version": 2
   },
   "file_extension": ".py",
   "mimetype": "text/x-python",
   "name": "python",
   "nbconvert_exporter": "python",
   "pygments_lexer": "ipython2",
   "version": "2.7.6"
  }
 },
 "nbformat": 4,
 "nbformat_minor": 5
}
