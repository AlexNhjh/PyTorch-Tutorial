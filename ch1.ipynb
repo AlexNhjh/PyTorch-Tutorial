{
 "cells": [
  {
   "cell_type": "code",
   "id": "initial_id",
   "metadata": {
    "collapsed": true,
    "ExecuteTime": {
     "end_time": "2025-06-18T12:16:12.908133Z",
     "start_time": "2025-06-18T12:16:12.904314Z"
    }
   },
   "source": [
    "what_were_covering = {1: \"Data (prepare and load\",\n",
    "                      2: \"build model\",\n",
    "                      3: \"fit the model to data (training)\",\n",
    "                      4: \"making predictions and evaluating a model (inference)\",\n",
    "                      5: \"saving and loading a model\",\n",
    "                      6: \"putting it all together\"}\n"
   ],
   "outputs": [],
   "execution_count": 21
  },
  {
   "metadata": {
    "ExecuteTime": {
     "end_time": "2025-06-18T12:16:12.932826Z",
     "start_time": "2025-06-18T12:16:12.929343Z"
    }
   },
   "cell_type": "code",
   "source": [
    "import torch\n",
    "from torch import nn #building blocks for Neural Networks\n",
    "import matplotlib.pyplot as plt\n",
    "import numpy as np\n"
   ],
   "id": "1065d27ade0dbc64",
   "outputs": [],
   "execution_count": 22
  },
  {
   "metadata": {
    "ExecuteTime": {
     "end_time": "2025-06-18T12:16:13.071174Z",
     "start_time": "2025-06-18T12:16:13.064929Z"
    }
   },
   "cell_type": "code",
   "source": [
    "# Data (preparing and loading)\n",
    "# Y = a + bX\n",
    "weight = 0.7   #b\n",
    "bias = 0.3     #a\n",
    "\n",
    "# Create data\n",
    "start = 0\n",
    "end = 1\n",
    "step = 0.02\n",
    "X = torch.arange(start, end, step).unsqueeze(dim=1)\n",
    "y = weight * X + bias\n",
    "X[:5], y[:5]\n",
    "\n",
    "# (tensor([[0.0000],\n",
    "#          [0.0200],\n",
    "#          [0.0400],\n",
    "#          [0.0600],\n",
    "#          [0.0800]]),\n",
    "#  tensor([[0.3000],\n",
    "#          [0.3140],\n",
    "#          [0.3280],\n",
    "#          [0.3420],\n",
    "#          [0.3560]]))"
   ],
   "id": "9573f66876d647c8",
   "outputs": [
    {
     "data": {
      "text/plain": [
       "(tensor([[0.0000],\n",
       "         [0.0200],\n",
       "         [0.0400],\n",
       "         [0.0600],\n",
       "         [0.0800]]),\n",
       " tensor([[0.3000],\n",
       "         [0.3140],\n",
       "         [0.3280],\n",
       "         [0.3420],\n",
       "         [0.3560]]))"
      ]
     },
     "execution_count": 23,
     "metadata": {},
     "output_type": "execute_result"
    }
   ],
   "execution_count": 23
  },
  {
   "metadata": {
    "ExecuteTime": {
     "end_time": "2025-06-18T12:16:13.147701Z",
     "start_time": "2025-06-18T12:16:13.142700Z"
    }
   },
   "cell_type": "code",
   "source": [
    "len(X), len(y)\n",
    "#(50, 50)"
   ],
   "id": "1af663f2cf712526",
   "outputs": [
    {
     "data": {
      "text/plain": [
       "(50, 50)"
      ]
     },
     "execution_count": 24,
     "metadata": {},
     "output_type": "execute_result"
    }
   ],
   "execution_count": 24
  },
  {
   "metadata": {
    "ExecuteTime": {
     "end_time": "2025-06-18T12:16:13.189316Z",
     "start_time": "2025-06-18T12:16:13.183194Z"
    }
   },
   "cell_type": "code",
   "source": [
    "# Create a training and test set with our data\n",
    "train_split = int(0.8 * len(X))\n",
    "X_train, y_train = X[:train_split], y[:train_split] #40 training samples of X and y\n",
    "X_test, y_test = X[train_split:], y[train_split:] #10 testing samples of X and y\n",
    "\n",
    "len(X_train), len(y_train), len(X_test), len(y_test)\n",
    "#(40, 40, 10, 10)"
   ],
   "id": "f30393b592840606",
   "outputs": [
    {
     "data": {
      "text/plain": [
       "(40, 40, 10, 10)"
      ]
     },
     "execution_count": 25,
     "metadata": {},
     "output_type": "execute_result"
    }
   ],
   "execution_count": 25
  },
  {
   "metadata": {
    "ExecuteTime": {
     "end_time": "2025-06-18T12:16:13.231386Z",
     "start_time": "2025-06-18T12:16:13.227385Z"
    }
   },
   "cell_type": "code",
   "source": [
    "import matplotlib.pyplot as plt\n",
    "\n",
    "# Function to visualize data\n",
    "def plot_predictions(train_data,\n",
    "                     train_labels,\n",
    "                     test_data,\n",
    "                     test_labels,\n",
    "                     predictions):\n",
    "    #Plots training data, test data, and compares predictions\n",
    "\n",
    "    #Plot training data in blue\n",
    "    plt.figure(figsize=(10,7))\n",
    "    plt.scatter(train_data, train_labels, c='b', s=4, label='Training data')\n",
    "\n",
    "    #Plot test data in green\n",
    "    plt.scatter(test_data, test_labels, c='g', s=4, label='Test data')\n",
    "\n",
    "    #Are there predictions?\n",
    "    if predictions is not None:\n",
    "        plt.scatter(test_data, predictions, c='r', s=4, label='Predictions')\n",
    "\n",
    "    plt.legend(prop={\"size\": 14})"
   ],
   "id": "35f39d12a3b5528a",
   "outputs": [],
   "execution_count": 26
  },
  {
   "metadata": {
    "ExecuteTime": {
     "end_time": "2025-06-18T12:16:13.257840Z",
     "start_time": "2025-06-18T12:16:13.253840Z"
    }
   },
   "cell_type": "code",
   "source": [
    "class LinearRegressionModel(nn.Module): #<- almost everything in PyTorch inherits nn.Module\n",
    "    def __init__(self):\n",
    "        super().__init__()\n",
    "        #Start with RANDOM numbers and continually update these to fit the data\n",
    "        #we set the weights and bias with randn (random number)\n",
    "        self.weights = nn.Parameter(torch.randn(1,\n",
    "                                                requires_grad=True,\n",
    "                                                dtype=torch.float))\n",
    "        self.bias = nn.Parameter(torch.randn(1,\n",
    "                                             requires_grad=True,\n",
    "                                             dtype=torch.float))\n",
    "        #Forward method to define the computation in the model\n",
    "    def forward(self, x:torch.Tensor) -> torch.Tensor:\n",
    "        return self.weights * x + self.bias # y = m*x + b"
   ],
   "id": "745e04e63e6e102c",
   "outputs": [],
   "execution_count": 27
  },
  {
   "metadata": {},
   "cell_type": "markdown",
   "source": "### Lets check what is inside our model",
   "id": "1353297d56cc8ca2"
  },
  {
   "metadata": {
    "ExecuteTime": {
     "end_time": "2025-06-18T12:16:13.286487Z",
     "start_time": "2025-06-18T12:16:13.280396Z"
    }
   },
   "cell_type": "code",
   "source": [
    "#Create a random seed to ensure similar values from our model every time\n",
    "torch.manual_seed(42)\n",
    "\n",
    "model_0 = LinearRegressionModel()\n",
    "\n",
    "list(model_0.parameters())\n",
    "# [Parameter containing:\n",
    "#  tensor([0.3367], requires_grad=True),\n",
    "#  Parameter containing:\n",
    "#  tensor([0.1288], requires_grad=True)]"
   ],
   "id": "f3c6491b3c4bb501",
   "outputs": [
    {
     "data": {
      "text/plain": [
       "[Parameter containing:\n",
       " tensor([0.3367], requires_grad=True),\n",
       " Parameter containing:\n",
       " tensor([0.1288], requires_grad=True)]"
      ]
     },
     "execution_count": 28,
     "metadata": {},
     "output_type": "execute_result"
    }
   ],
   "execution_count": 28
  },
  {
   "metadata": {
    "ExecuteTime": {
     "end_time": "2025-06-18T12:16:13.321018Z",
     "start_time": "2025-06-18T12:16:13.315833Z"
    }
   },
   "cell_type": "code",
   "source": [
    "# List named parameters\n",
    "model_0.state_dict()\n",
    "#OrderedDict([('weights', tensor([0.3367])), ('bias', tensor([0.1288]))])"
   ],
   "id": "7c419dfeaf8f64e",
   "outputs": [
    {
     "data": {
      "text/plain": [
       "OrderedDict([('weights', tensor([0.3367])), ('bias', tensor([0.1288]))])"
      ]
     },
     "execution_count": 29,
     "metadata": {},
     "output_type": "execute_result"
    }
   ],
   "execution_count": 29
  },
  {
   "metadata": {
    "ExecuteTime": {
     "end_time": "2025-06-18T12:16:13.356626Z",
     "start_time": "2025-06-18T12:16:13.352124Z"
    }
   },
   "cell_type": "code",
   "source": [
    "#Our goal is to make these match\n",
    "weight, bias\n",
    "#(0.7, 0.3)"
   ],
   "id": "2e7229fdb2b5c81c",
   "outputs": [
    {
     "data": {
      "text/plain": [
       "(0.7, 0.3)"
      ]
     },
     "execution_count": 30,
     "metadata": {},
     "output_type": "execute_result"
    }
   ],
   "execution_count": 30
  },
  {
   "metadata": {
    "ExecuteTime": {
     "end_time": "2025-06-18T12:16:13.387981Z",
     "start_time": "2025-06-18T12:16:13.381632Z"
    }
   },
   "cell_type": "code",
   "source": [
    "X_test, y_test\n",
    "# (tensor([[0.8000],   #  tensor([[0.8600],\n",
    "#          [0.8200],   #          [0.8740],\n",
    "#          [0.8400],   #          [0.8880],\n",
    "#          [0.8600],   #          [0.9020],\n",
    "#          [0.8800],   #          [0.9160],\n",
    "#          [0.9000],   #          [0.9300],\n",
    "#          [0.9200],   #          [0.9440],\n",
    "#          [0.9400],   #          [0.9580],\n",
    "#          [0.9600],   #          [0.9720],\n",
    "#          [0.9800]]), #          [0.9860]]))"
   ],
   "id": "9dec67995a9d8251",
   "outputs": [
    {
     "data": {
      "text/plain": [
       "(tensor([[0.8000],\n",
       "         [0.8200],\n",
       "         [0.8400],\n",
       "         [0.8600],\n",
       "         [0.8800],\n",
       "         [0.9000],\n",
       "         [0.9200],\n",
       "         [0.9400],\n",
       "         [0.9600],\n",
       "         [0.9800]]),\n",
       " tensor([[0.8600],\n",
       "         [0.8740],\n",
       "         [0.8880],\n",
       "         [0.9020],\n",
       "         [0.9160],\n",
       "         [0.9300],\n",
       "         [0.9440],\n",
       "         [0.9580],\n",
       "         [0.9720],\n",
       "         [0.9860]]))"
      ]
     },
     "execution_count": 31,
     "metadata": {},
     "output_type": "execute_result"
    }
   ],
   "execution_count": 31
  },
  {
   "metadata": {
    "ExecuteTime": {
     "end_time": "2025-06-18T12:16:13.416528Z",
     "start_time": "2025-06-18T12:16:13.411252Z"
    }
   },
   "cell_type": "code",
   "source": [
    "#Make predictions with model\n",
    "with torch.inference_mode():\n",
    "    y_preds = model_0(X_test)\n",
    "\n",
    "y_preds\n",
    "# 0,0.39816\n",
    "# 1,0.40490\n",
    "# 2,0.41163\n",
    "# 3,0.41836\n",
    "# 4,0.42510\n",
    "# 5,0.43183\n",
    "# 6,0.43856\n",
    "# 7,0.44530\n",
    "# 8,0.45203\n",
    "# 9,0.45877\n"
   ],
   "id": "ecfc2ecb05ab82e6",
   "outputs": [
    {
     "data": {
      "text/plain": [
       "tensor([[0.3982],\n",
       "        [0.4049],\n",
       "        [0.4116],\n",
       "        [0.4184],\n",
       "        [0.4251],\n",
       "        [0.4318],\n",
       "        [0.4386],\n",
       "        [0.4453],\n",
       "        [0.4520],\n",
       "        [0.4588]])"
      ]
     },
     "execution_count": 32,
     "metadata": {},
     "output_type": "execute_result"
    }
   ],
   "execution_count": 32
  },
  {
   "metadata": {
    "ExecuteTime": {
     "end_time": "2025-06-18T12:16:13.476123Z",
     "start_time": "2025-06-18T12:16:13.470119Z"
    }
   },
   "cell_type": "code",
   "source": "model_0.state_dict()",
   "id": "e290360c42b07e77",
   "outputs": [
    {
     "data": {
      "text/plain": [
       "OrderedDict([('weights', tensor([0.3367])), ('bias', tensor([0.1288]))])"
      ]
     },
     "execution_count": 33,
     "metadata": {},
     "output_type": "execute_result"
    }
   ],
   "execution_count": 33
  },
  {
   "metadata": {
    "ExecuteTime": {
     "end_time": "2025-06-18T12:16:13.529542Z",
     "start_time": "2025-06-18T12:16:13.525540Z"
    }
   },
   "cell_type": "code",
   "source": [
    "# Setup a loss function\n",
    "loss_fn = nn.L1Loss()\n",
    "\n",
    "# Setup an optimizer. Requires parameters, e.g. weight and bias\n",
    "optimizer = torch.optim.SGD(params=model_0.parameters(),\n",
    "                            lr = 0.01) # lr = learning rate"
   ],
   "id": "e32eaa862d04ebc2",
   "outputs": [],
   "execution_count": 34
  },
  {
   "metadata": {
    "ExecuteTime": {
     "end_time": "2025-06-18T12:16:13.568276Z",
     "start_time": "2025-06-18T12:16:13.564277Z"
    }
   },
   "cell_type": "code",
   "source": [
    "epoch_count = []\n",
    "loss_values = []\n",
    "test_loss_values = []"
   ],
   "id": "547947c711e62c61",
   "outputs": [],
   "execution_count": 35
  },
  {
   "metadata": {
    "ExecuteTime": {
     "end_time": "2025-06-18T12:16:13.673316Z",
     "start_time": "2025-06-18T12:16:13.591320Z"
    }
   },
   "cell_type": "code",
   "source": [
    "torch.manual_seed(42)\n",
    "# One loop through the data\n",
    "epochs = 200\n",
    "\n",
    "#1. Loop through the data\n",
    "for epoch in range(epochs):\n",
    "    #Set the model to training mode. Sets all parameters that have gradients to require gradients\n",
    "    model_0.train()\n",
    "\n",
    "    # 1. Forward pass\n",
    "    y_pred = model_0(X_train) #learn patterns on the training data\n",
    "\n",
    "    # 2. Calculate loss\n",
    "    loss = loss_fn(y_pred, y_train)\n",
    "\n",
    "    # 3. Optimizer zero grad\n",
    "    optimizer.zero_grad()  # think of as zero'ing out the optimizer\n",
    "\n",
    "    # 4. Perform backpropagation with respect to the models parameters\n",
    "    loss.backward()\n",
    "\n",
    "    # 5. Step the optimizer (perform gradient descent)\n",
    "    optimizer.step()\n",
    "\n",
    "    # Use for model testing\n",
    "    # Sets the model to evalutation mode. Turns off gradient tracking\n",
    "    model_0.eval()\n",
    "    with torch.inference_mode(): #turns off gradient tracking and a couple more things\n",
    "        # 1. Forward pass\n",
    "        test_pred = model_0(X_test)  #X_test has never been seen by the model\n",
    "\n",
    "        # 2. Calculate the loss      #y_test has never been seen by the model\n",
    "        test_loss = loss_fn(test_pred, y_test)\n",
    "        if epoch % 10 == 0:\n",
    "            print(f\"Epoch: {epoch} | loss: {loss} | Test Loss: {test_loss}\")\n",
    "            print(test_pred, y_test)\n",
    "            epoch_count.append(epoch)\n",
    "            loss_values.append(loss)\n",
    "            test_loss_values.append(test_loss)\n",
    "# Epoch: 0 | loss: 0.31288138031959534 | Test Loss: 0.48106518387794495\n",
    "# Epoch: 10 | loss: 0.1976713240146637 | Test Loss: 0.3463551998138428\n",
    "# Epoch: 20 | loss: 0.08908725529909134 | Test Loss: 0.21729660034179688\n",
    "# Epoch: 30 | loss: 0.053148526698350906 | Test Loss: 0.14464017748832703\n",
    "# Epoch: 40 | loss: 0.04543796554207802 | Test Loss: 0.11360953003168106\n",
    "# Epoch: 50 | loss: 0.04167863354086876 | Test Loss: 0.09919948130846024\n",
    "# Epoch: 60 | loss: 0.03818932920694351 | Test Loss: 0.08886633068323135\n",
    "# Epoch: 70 | loss: 0.03476089984178543 | Test Loss: 0.0805937647819519\n",
    "# Epoch: 80 | loss: 0.03132382780313492 | Test Loss: 0.07232122868299484\n",
    "# Epoch: 90 | loss: 0.02788739837706089 | Test Loss: 0.06473556160926819\n"
   ],
   "id": "15c8db453e03f750",
   "outputs": [
    {
     "name": "stdout",
     "output_type": "stream",
     "text": [
      "Epoch: 0 | loss: 0.31288138031959534 | Test Loss: 0.48106518387794495\n",
      "tensor([[0.4113],\n",
      "        [0.4181],\n",
      "        [0.4249],\n",
      "        [0.4317],\n",
      "        [0.4385],\n",
      "        [0.4453],\n",
      "        [0.4522],\n",
      "        [0.4590],\n",
      "        [0.4658],\n",
      "        [0.4726]]) tensor([[0.8600],\n",
      "        [0.8740],\n",
      "        [0.8880],\n",
      "        [0.9020],\n",
      "        [0.9160],\n",
      "        [0.9300],\n",
      "        [0.9440],\n",
      "        [0.9580],\n",
      "        [0.9720],\n",
      "        [0.9860]])\n",
      "Epoch: 10 | loss: 0.1976713240146637 | Test Loss: 0.3463551998138428\n",
      "tensor([[0.5425],\n",
      "        [0.5501],\n",
      "        [0.5577],\n",
      "        [0.5653],\n",
      "        [0.5728],\n",
      "        [0.5804],\n",
      "        [0.5880],\n",
      "        [0.5956],\n",
      "        [0.6032],\n",
      "        [0.6108]]) tensor([[0.8600],\n",
      "        [0.8740],\n",
      "        [0.8880],\n",
      "        [0.9020],\n",
      "        [0.9160],\n",
      "        [0.9300],\n",
      "        [0.9440],\n",
      "        [0.9580],\n",
      "        [0.9720],\n",
      "        [0.9860]])\n",
      "Epoch: 20 | loss: 0.08908725529909134 | Test Loss: 0.21729660034179688\n",
      "tensor([[0.6680],\n",
      "        [0.6764],\n",
      "        [0.6848],\n",
      "        [0.6932],\n",
      "        [0.7015],\n",
      "        [0.7099],\n",
      "        [0.7183],\n",
      "        [0.7266],\n",
      "        [0.7350],\n",
      "        [0.7434]]) tensor([[0.8600],\n",
      "        [0.8740],\n",
      "        [0.8880],\n",
      "        [0.9020],\n",
      "        [0.9160],\n",
      "        [0.9300],\n",
      "        [0.9440],\n",
      "        [0.9580],\n",
      "        [0.9720],\n",
      "        [0.9860]])\n",
      "Epoch: 30 | loss: 0.053148526698350906 | Test Loss: 0.14464017748832703\n",
      "tensor([[0.7378],\n",
      "        [0.7468],\n",
      "        [0.7558],\n",
      "        [0.7648],\n",
      "        [0.7738],\n",
      "        [0.7829],\n",
      "        [0.7919],\n",
      "        [0.8009],\n",
      "        [0.8099],\n",
      "        [0.8190]]) tensor([[0.8600],\n",
      "        [0.8740],\n",
      "        [0.8880],\n",
      "        [0.9020],\n",
      "        [0.9160],\n",
      "        [0.9300],\n",
      "        [0.9440],\n",
      "        [0.9580],\n",
      "        [0.9720],\n",
      "        [0.9860]])\n",
      "Epoch: 40 | loss: 0.04543796554207802 | Test Loss: 0.11360953003168106\n",
      "tensor([[0.7667],\n",
      "        [0.7762],\n",
      "        [0.7857],\n",
      "        [0.7951],\n",
      "        [0.8046],\n",
      "        [0.8141],\n",
      "        [0.8236],\n",
      "        [0.8331],\n",
      "        [0.8426],\n",
      "        [0.8521]]) tensor([[0.8600],\n",
      "        [0.8740],\n",
      "        [0.8880],\n",
      "        [0.9020],\n",
      "        [0.9160],\n",
      "        [0.9300],\n",
      "        [0.9440],\n",
      "        [0.9580],\n",
      "        [0.9720],\n",
      "        [0.9860]])\n",
      "Epoch: 50 | loss: 0.04167863354086876 | Test Loss: 0.09919948130846024\n",
      "tensor([[0.7794],\n",
      "        [0.7892],\n",
      "        [0.7991],\n",
      "        [0.8090],\n",
      "        [0.8189],\n",
      "        [0.8287],\n",
      "        [0.8386],\n",
      "        [0.8485],\n",
      "        [0.8584],\n",
      "        [0.8682]]) tensor([[0.8600],\n",
      "        [0.8740],\n",
      "        [0.8880],\n",
      "        [0.9020],\n",
      "        [0.9160],\n",
      "        [0.9300],\n",
      "        [0.9440],\n",
      "        [0.9580],\n",
      "        [0.9720],\n",
      "        [0.9860]])\n",
      "Epoch: 60 | loss: 0.03818932920694351 | Test Loss: 0.08886633068323135\n",
      "tensor([[0.7881],\n",
      "        [0.7983],\n",
      "        [0.8086],\n",
      "        [0.8188],\n",
      "        [0.8290],\n",
      "        [0.8392],\n",
      "        [0.8495],\n",
      "        [0.8597],\n",
      "        [0.8699],\n",
      "        [0.8802]]) tensor([[0.8600],\n",
      "        [0.8740],\n",
      "        [0.8880],\n",
      "        [0.9020],\n",
      "        [0.9160],\n",
      "        [0.9300],\n",
      "        [0.9440],\n",
      "        [0.9580],\n",
      "        [0.9720],\n",
      "        [0.9860]])\n",
      "Epoch: 70 | loss: 0.03476089984178543 | Test Loss: 0.0805937647819519\n",
      "tensor([[0.7948],\n",
      "        [0.8054],\n",
      "        [0.8160],\n",
      "        [0.8265],\n",
      "        [0.8371],\n",
      "        [0.8477],\n",
      "        [0.8583],\n",
      "        [0.8688],\n",
      "        [0.8794],\n",
      "        [0.8900]]) tensor([[0.8600],\n",
      "        [0.8740],\n",
      "        [0.8880],\n",
      "        [0.9020],\n",
      "        [0.9160],\n",
      "        [0.9300],\n",
      "        [0.9440],\n",
      "        [0.9580],\n",
      "        [0.9720],\n",
      "        [0.9860]])\n",
      "Epoch: 80 | loss: 0.03132382780313492 | Test Loss: 0.07232122868299484\n",
      "tensor([[0.8015],\n",
      "        [0.8125],\n",
      "        [0.8234],\n",
      "        [0.8343],\n",
      "        [0.8452],\n",
      "        [0.8561],\n",
      "        [0.8671],\n",
      "        [0.8780],\n",
      "        [0.8889],\n",
      "        [0.8998]]) tensor([[0.8600],\n",
      "        [0.8740],\n",
      "        [0.8880],\n",
      "        [0.9020],\n",
      "        [0.9160],\n",
      "        [0.9300],\n",
      "        [0.9440],\n",
      "        [0.9580],\n",
      "        [0.9720],\n",
      "        [0.9860]])\n",
      "Epoch: 90 | loss: 0.02788739837706089 | Test Loss: 0.06473556160926819\n",
      "tensor([[0.8076],\n",
      "        [0.8189],\n",
      "        [0.8301],\n",
      "        [0.8414],\n",
      "        [0.8526],\n",
      "        [0.8639],\n",
      "        [0.8752],\n",
      "        [0.8864],\n",
      "        [0.8977],\n",
      "        [0.9089]]) tensor([[0.8600],\n",
      "        [0.8740],\n",
      "        [0.8880],\n",
      "        [0.9020],\n",
      "        [0.9160],\n",
      "        [0.9300],\n",
      "        [0.9440],\n",
      "        [0.9580],\n",
      "        [0.9720],\n",
      "        [0.9860]])\n",
      "Epoch: 100 | loss: 0.024458957836031914 | Test Loss: 0.05646304413676262\n",
      "tensor([[0.8143],\n",
      "        [0.8259],\n",
      "        [0.8375],\n",
      "        [0.8491],\n",
      "        [0.8607],\n",
      "        [0.8723],\n",
      "        [0.8839],\n",
      "        [0.8955],\n",
      "        [0.9071],\n",
      "        [0.9187]]) tensor([[0.8600],\n",
      "        [0.8740],\n",
      "        [0.8880],\n",
      "        [0.9020],\n",
      "        [0.9160],\n",
      "        [0.9300],\n",
      "        [0.9440],\n",
      "        [0.9580],\n",
      "        [0.9720],\n",
      "        [0.9860]])\n",
      "Epoch: 110 | loss: 0.021020207554101944 | Test Loss: 0.04819049686193466\n",
      "tensor([[0.8211],\n",
      "        [0.8330],\n",
      "        [0.8449],\n",
      "        [0.8569],\n",
      "        [0.8688],\n",
      "        [0.8808],\n",
      "        [0.8927],\n",
      "        [0.9047],\n",
      "        [0.9166],\n",
      "        [0.9286]]) tensor([[0.8600],\n",
      "        [0.8740],\n",
      "        [0.8880],\n",
      "        [0.9020],\n",
      "        [0.9160],\n",
      "        [0.9300],\n",
      "        [0.9440],\n",
      "        [0.9580],\n",
      "        [0.9720],\n",
      "        [0.9860]])\n",
      "Epoch: 120 | loss: 0.01758546568453312 | Test Loss: 0.04060482233762741\n",
      "tensor([[0.8271],\n",
      "        [0.8394],\n",
      "        [0.8517],\n",
      "        [0.8640],\n",
      "        [0.8763],\n",
      "        [0.8885],\n",
      "        [0.9008],\n",
      "        [0.9131],\n",
      "        [0.9254],\n",
      "        [0.9377]]) tensor([[0.8600],\n",
      "        [0.8740],\n",
      "        [0.8880],\n",
      "        [0.9020],\n",
      "        [0.9160],\n",
      "        [0.9300],\n",
      "        [0.9440],\n",
      "        [0.9580],\n",
      "        [0.9720],\n",
      "        [0.9860]])\n",
      "Epoch: 130 | loss: 0.014155393466353416 | Test Loss: 0.03233227878808975\n",
      "tensor([[0.8339],\n",
      "        [0.8465],\n",
      "        [0.8591],\n",
      "        [0.8717],\n",
      "        [0.8844],\n",
      "        [0.8970],\n",
      "        [0.9096],\n",
      "        [0.9222],\n",
      "        [0.9349],\n",
      "        [0.9475]]) tensor([[0.8600],\n",
      "        [0.8740],\n",
      "        [0.8880],\n",
      "        [0.9020],\n",
      "        [0.9160],\n",
      "        [0.9300],\n",
      "        [0.9440],\n",
      "        [0.9580],\n",
      "        [0.9720],\n",
      "        [0.9860]])\n",
      "Epoch: 140 | loss: 0.010716589167714119 | Test Loss: 0.024059748277068138\n",
      "tensor([[0.8406],\n",
      "        [0.8535],\n",
      "        [0.8665],\n",
      "        [0.8795],\n",
      "        [0.8925],\n",
      "        [0.9054],\n",
      "        [0.9184],\n",
      "        [0.9314],\n",
      "        [0.9443],\n",
      "        [0.9573]]) tensor([[0.8600],\n",
      "        [0.8740],\n",
      "        [0.8880],\n",
      "        [0.9020],\n",
      "        [0.9160],\n",
      "        [0.9300],\n",
      "        [0.9440],\n",
      "        [0.9580],\n",
      "        [0.9720],\n",
      "        [0.9860]])\n",
      "Epoch: 150 | loss: 0.0072835334576666355 | Test Loss: 0.016474086791276932\n",
      "tensor([[0.8466],\n",
      "        [0.8599],\n",
      "        [0.8733],\n",
      "        [0.8866],\n",
      "        [0.8999],\n",
      "        [0.9132],\n",
      "        [0.9265],\n",
      "        [0.9398],\n",
      "        [0.9531],\n",
      "        [0.9664]]) tensor([[0.8600],\n",
      "        [0.8740],\n",
      "        [0.8880],\n",
      "        [0.9020],\n",
      "        [0.9160],\n",
      "        [0.9300],\n",
      "        [0.9440],\n",
      "        [0.9580],\n",
      "        [0.9720],\n",
      "        [0.9860]])\n",
      "Epoch: 160 | loss: 0.0038517764769494534 | Test Loss: 0.008201557211577892\n",
      "tensor([[0.8534],\n",
      "        [0.8670],\n",
      "        [0.8807],\n",
      "        [0.8943],\n",
      "        [0.9080],\n",
      "        [0.9216],\n",
      "        [0.9353],\n",
      "        [0.9489],\n",
      "        [0.9626],\n",
      "        [0.9762]]) tensor([[0.8600],\n",
      "        [0.8740],\n",
      "        [0.8880],\n",
      "        [0.9020],\n",
      "        [0.9160],\n",
      "        [0.9300],\n",
      "        [0.9440],\n",
      "        [0.9580],\n",
      "        [0.9720],\n",
      "        [0.9860]])\n",
      "Epoch: 170 | loss: 0.008932482451200485 | Test Loss: 0.005023092031478882\n",
      "tensor([[0.8554],\n",
      "        [0.8693],\n",
      "        [0.8832],\n",
      "        [0.8971],\n",
      "        [0.9110],\n",
      "        [0.9249],\n",
      "        [0.9388],\n",
      "        [0.9527],\n",
      "        [0.9666],\n",
      "        [0.9805]]) tensor([[0.8600],\n",
      "        [0.8740],\n",
      "        [0.8880],\n",
      "        [0.9020],\n",
      "        [0.9160],\n",
      "        [0.9300],\n",
      "        [0.9440],\n",
      "        [0.9580],\n",
      "        [0.9720],\n",
      "        [0.9860]])\n",
      "Epoch: 180 | loss: 0.008932482451200485 | Test Loss: 0.005023092031478882\n",
      "tensor([[0.8554],\n",
      "        [0.8693],\n",
      "        [0.8832],\n",
      "        [0.8971],\n",
      "        [0.9110],\n",
      "        [0.9249],\n",
      "        [0.9388],\n",
      "        [0.9527],\n",
      "        [0.9666],\n",
      "        [0.9805]]) tensor([[0.8600],\n",
      "        [0.8740],\n",
      "        [0.8880],\n",
      "        [0.9020],\n",
      "        [0.9160],\n",
      "        [0.9300],\n",
      "        [0.9440],\n",
      "        [0.9580],\n",
      "        [0.9720],\n",
      "        [0.9860]])\n",
      "Epoch: 190 | loss: 0.008932482451200485 | Test Loss: 0.005023092031478882\n",
      "tensor([[0.8554],\n",
      "        [0.8693],\n",
      "        [0.8832],\n",
      "        [0.8971],\n",
      "        [0.9110],\n",
      "        [0.9249],\n",
      "        [0.9388],\n",
      "        [0.9527],\n",
      "        [0.9666],\n",
      "        [0.9805]]) tensor([[0.8600],\n",
      "        [0.8740],\n",
      "        [0.8880],\n",
      "        [0.9020],\n",
      "        [0.9160],\n",
      "        [0.9300],\n",
      "        [0.9440],\n",
      "        [0.9580],\n",
      "        [0.9720],\n",
      "        [0.9860]])\n"
     ]
    }
   ],
   "execution_count": 36
  },
  {
   "metadata": {
    "ExecuteTime": {
     "end_time": "2025-06-18T12:16:14.101714Z",
     "start_time": "2025-06-18T12:16:14.096394Z"
    }
   },
   "cell_type": "code",
   "source": [
    "model_0.state_dict()\n",
    "#OrderedDict([('weights', tensor([0.6990])), ('bias', tensor([0.3093]))])"
   ],
   "id": "f7b46b642b1d45c7",
   "outputs": [
    {
     "data": {
      "text/plain": [
       "OrderedDict([('weights', tensor([0.6990])), ('bias', tensor([0.3093]))])"
      ]
     },
     "execution_count": 41,
     "metadata": {},
     "output_type": "execute_result"
    }
   ],
   "execution_count": 41
  },
  {
   "metadata": {
    "ExecuteTime": {
     "end_time": "2025-06-18T12:16:13.739684Z",
     "start_time": "2025-06-18T12:16:13.736683Z"
    }
   },
   "cell_type": "code",
   "source": [
    "import numpy as np\n",
    "def convert(tensor):\n",
    "    return tensor.detach().numpy()"
   ],
   "id": "6ac044b13e929470",
   "outputs": [],
   "execution_count": 38
  },
  {
   "metadata": {
    "ExecuteTime": {
     "end_time": "2025-06-18T12:16:13.909801Z",
     "start_time": "2025-06-18T12:16:13.763525Z"
    }
   },
   "cell_type": "code",
   "source": [
    "#update y predictions and graph\n",
    "with torch.inference_mode():\n",
    "    y_preds_new = model_0(X_test)\n",
    "\n",
    "plot_predictions(convert(X_train), convert(y_train), convert(X_test)\n",
    "                 , convert(y_test), convert(y_preds_new))"
   ],
   "id": "db7adba571a51b1",
   "outputs": [
    {
     "data": {
      "text/plain": [
       "<Figure size 1000x700 with 1 Axes>"
      ],
      "image/png": "[encoded data removed]"
     },
     "metadata": {},
     "output_type": "display_data"
    }
   ],
   "execution_count": 39
  },
  {
   "metadata": {
    "ExecuteTime": {
     "end_time": "2025-06-18T12:16:13.940722Z",
     "start_time": "2025-06-18T12:16:13.938205Z"
    }
   },
   "cell_type": "code",
   "source": "",
   "id": "3ad4c8f768b1caf3",
   "outputs": [],
   "execution_count": null
  },
  {
   "metadata": {
    "ExecuteTime": {
     "end_time": "2025-06-18T12:16:16.499103Z",
     "start_time": "2025-06-18T12:16:16.394752Z"
    }
   },
   "cell_type": "code",
   "source": [
    "# Plotting Our Loss Functions\n",
    "import numpy as np\n",
    "plt.plot(epoch_count, np.array(torch.tensor(loss_values).numpy()), label=\"Training Loss\")\n",
    "plt.plot(epoch_count, np.array(torch.tensor(test_loss_values).numpy()), label=\"Test Loss\") #We must convert our tensors to numpy arrays so Matplotlib can work with them\n",
    "plt.title(\"Training Loss and Test Loss Curves\")\n",
    "plt.ylabel(\"Loss\")\n",
    "plt.xlabel(\"Epochs\")"
   ],
   "id": "d70620246cfebcbc",
   "outputs": [
    {
     "data": {
      "text/plain": [
       "Text(0.5, 0, 'Epochs')"
      ]
     },
     "execution_count": 42,
     "metadata": {},
     "output_type": "execute_result"
    },
    {
     "data": {
      "text/plain": [
       "<Figure size 640x480 with 1 Axes>"
      ],
      "image/png": "[encoded data removed]"
     },
     "metadata": {},
     "output_type": "display_data"
    }
   ],
   "execution_count": 42
  },
  {
   "metadata": {
    "ExecuteTime": {
     "end_time": "2025-06-18T12:27:51.782957Z",
     "start_time": "2025-06-18T12:27:51.767157Z"
    }
   },
   "cell_type": "code",
   "source": [
    "#Saving a model in Pytorch\n",
    "from pathlib import Path\n",
    "\n",
    "# 1. Create model directory\n",
    "MODEL_PATH = Path(\"models\")\n",
    "MODEL_PATH.mkdir(parents=True, exist_ok=True) #if it already exists, it will throw error\n",
    "\n",
    "# 2. Create model save path\n",
    "MODEL_NAME = \"01_pytorch_workflow_model_0.pth\" #PyTorch objects have pth extension\n",
    "MODEL_SAVE_PATH = MODEL_PATH / MODEL_NAME\n",
    "\n",
    "# 3. Save the model state dict\n",
    "print(f\"Saving model to: {MODEL_SAVE_PATH}\")\n",
    "torch.save(obj=model_0.state_dict(),\n",
    "           f=MODEL_SAVE_PATH)\n",
    "#Saving model to: models\\01_pytorch_workflow_model_0.pth"
   ],
   "id": "5ef3ba721148ee1a",
   "outputs": [
    {
     "name": "stdout",
     "output_type": "stream",
     "text": [
      "Saving model to: models\\01_pytorch_workflow_model_0.pth\n"
     ]
    }
   ],
   "execution_count": 44
  },
  {
   "metadata": {
    "ExecuteTime": {
     "end_time": "2025-06-18T12:44:56.386145Z",
     "start_time": "2025-06-18T12:44:56.375491Z"
    }
   },
   "cell_type": "code",
   "source": [
    "# Loading a PyTorch Model\n",
    "# Create a new instance of our model class and load the saved state_dict()\n",
    "loaded_model_0 = LinearRegressionModel()\n",
    "\n",
    "# Load Saved state_dict() of model 0 (get the updated parameters, not the default ones)\n",
    "loaded_model_0.load_state_dict(torch.load(MODEL_SAVE_PATH))\n",
    "#<All keys matched successfully>"
   ],
   "id": "74c4bc86badb86ed",
   "outputs": [
    {
     "data": {
      "text/plain": [
       "<All keys matched successfully>"
      ]
     },
     "execution_count": 46,
     "metadata": {},
     "output_type": "execute_result"
    }
   ],
   "execution_count": 46
  },
  {
   "metadata": {
    "ExecuteTime": {
     "end_time": "2025-06-18T12:45:31.605501Z",
     "start_time": "2025-06-18T12:45:31.599731Z"
    }
   },
   "cell_type": "code",
   "source": [
    "loaded_model_0.state_dict()\n",
    "#OrderedDict([('weights', tensor([0.6990])), ('bias', tensor([0.3093]))])"
   ],
   "id": "c9301cff685c0e0",
   "outputs": [
    {
     "data": {
      "text/plain": [
       "OrderedDict([('weights', tensor([0.6990])), ('bias', tensor([0.3093]))])"
      ]
     },
     "execution_count": 47,
     "metadata": {},
     "output_type": "execute_result"
    }
   ],
   "execution_count": 47
  },
  {
   "metadata": {
    "ExecuteTime": {
     "end_time": "2025-06-18T12:48:22.988949Z",
     "start_time": "2025-06-18T12:48:22.983841Z"
    }
   },
   "cell_type": "code",
   "source": [
    "#Make some predictions with our loaded model\n",
    "loaded_model_0.eval()\n",
    "model_0.eval()\n",
    "with torch.inference_mode():\n",
    "    loaded_model_preds = loaded_model_0(X_test)\n",
    "    y_preds = model_0(X_test)\n",
    "# Compare loaded model predictions with original model\n",
    "loaded_model_preds == y_preds\n",
    "# 0,True\n",
    "# 1,True\n",
    "# 2,True\n",
    "# 3,True\n",
    "# 4,True\n",
    "# 5,True\n",
    "# 6,True\n",
    "# 7,True\n",
    "# 8,True\n",
    "# 9,True\n"
   ],
   "id": "fb7dd1d96ebd734d",
   "outputs": [
    {
     "data": {
      "text/plain": [
       "tensor([[True],\n",
       "        [True],\n",
       "        [True],\n",
       "        [True],\n",
       "        [True],\n",
       "        [True],\n",
       "        [True],\n",
       "        [True],\n",
       "        [True],\n",
       "        [True]])"
      ]
     },
     "execution_count": 51,
     "metadata": {},
     "output_type": "execute_result"
    }
   ],
   "execution_count": 51
  },
  {
   "metadata": {},
   "cell_type": "code",
   "outputs": [],
   "execution_count": null,
   "source": [
    "model_0.eval()\n",
    "with torch.inference_mode():\n",
    "    y_preds = model_0(X_test)"
   ],
   "id": "3167b94d71c93f1b"
  },
  {
   "metadata": {
    "ExecuteTime": {
     "end_time": "2025-06-18T12:53:50.904807Z",
     "start_time": "2025-06-18T12:53:50.899892Z"
    }
   },
   "cell_type": "code",
   "source": [
    "import torch\n",
    "from torch import nn\n",
    "import matplotlib.pyplot as plt\n",
    "\n",
    "torch.__version__\n",
    "#'2.7.1+cpu'"
   ],
   "id": "46852616abbb2296",
   "outputs": [
    {
     "data": {
      "text/plain": [
       "'2.7.1+cpu'"
      ]
     },
     "execution_count": 52,
     "metadata": {},
     "output_type": "execute_result"
    }
   ],
   "execution_count": 52
  },
  {
   "metadata": {
    "ExecuteTime": {
     "end_time": "2025-06-18T12:55:38.601209Z",
     "start_time": "2025-06-18T12:55:38.597658Z"
    }
   },
   "cell_type": "code",
   "source": [
    "device = 'cuda' if torch.cuda.is_available() else 'cpu'\n",
    "print(device)\n",
    "#cpu"
   ],
   "id": "4b4be9e2ae663a1c",
   "outputs": [
    {
     "name": "stdout",
     "output_type": "stream",
     "text": [
      "cpu\n"
     ]
    }
   ],
   "execution_count": 54
  },
  {
   "metadata": {
    "ExecuteTime": {
     "end_time": "2025-06-18T14:27:41.460051Z",
     "start_time": "2025-06-18T14:27:41.346780Z"
    }
   },
   "cell_type": "code",
   "source": [
    "weight = 0.3\n",
    "bias = 0.9\n",
    "\n",
    "# Create range values\n",
    "start = 0\n",
    "end = 1\n",
    "step = 0.01\n",
    "\n",
    "#Create X and y (features and labels)\n",
    "X = torch.arange(start, end, step).unsqueeze(dim=1)\n",
    "y = weight * X + bias\n",
    "\n",
    "#Split data\n",
    "train_split = int(0.8 * len(X))\n",
    "X_train, y_train = X[:train_split], y[:train_split]\n",
    "X_test, y_test = X[train_split:], y[train_split:]\n",
    "\n",
    "plot_predictions(X_train, y_train, X_test, y_test, None)"
   ],
   "id": "7b48394455c5a1b1",
   "outputs": [
    {
     "data": {
      "text/plain": [
       "<Figure size 1000x700 with 1 Axes>"
      ],
      "image/png": "[encoded data removed]"
     },
     "metadata": {},
     "output_type": "display_data"
    }
   ],
   "execution_count": 89
  },
  {
   "metadata": {
    "ExecuteTime": {
     "end_time": "2025-06-18T14:31:35.476902Z",
     "start_time": "2025-06-18T14:31:35.468744Z"
    }
   },
   "cell_type": "code",
   "source": [
    "# Create a linear model by subclassing nn.Module\n",
    "class LinearRegressionModel_v2(nn.Module):\n",
    "    def __init__(self):\n",
    "        super().__init__()\n",
    "        # Use nn.Linear() instead of creating by hand. Also called a linear transformation\n",
    "        self.linear_layer = nn.Linear(in_features=1,  #one value of X equates to 1 value of y\n",
    "                                      out_features=1)\n",
    "\n",
    "    def forward(self, x: torch.Tensor) -> torch.Tensor:\n",
    "        return self.linear_layer(x)\n",
    "\n",
    "torch.manual_seed(42)\n",
    "model_1 = LinearRegressionModel_v2()\n",
    "model_1.state_dict()\n",
    "# OrderedDict([('linear_layer.weight', tensor([[0.7645]])),\n",
    "#              ('linear_layer.bias', tensor([0.8300]))])"
   ],
   "id": "4007379ca5a1de1e",
   "outputs": [
    {
     "data": {
      "text/plain": [
       "OrderedDict([('linear_layer.weight', tensor([[0.7645]])),\n",
       "             ('linear_layer.bias', tensor([0.8300]))])"
      ]
     },
     "execution_count": 90,
     "metadata": {},
     "output_type": "execute_result"
    }
   ],
   "execution_count": 90
  },
  {
   "metadata": {
    "ExecuteTime": {
     "end_time": "2025-06-18T14:31:38.670411Z",
     "start_time": "2025-06-18T14:31:38.666413Z"
    }
   },
   "cell_type": "code",
   "source": [
    "loss_fn = nn.L1Loss()\n",
    "optimizer = torch.optim.SGD(params=model_1.parameters(),\n",
    "                            lr = 0.01)"
   ],
   "id": "6650003b089e2907",
   "outputs": [],
   "execution_count": 91
  },
  {
   "metadata": {
    "ExecuteTime": {
     "end_time": "2025-06-18T14:32:21.750974Z",
     "start_time": "2025-06-18T14:32:21.649743Z"
    }
   },
   "cell_type": "code",
   "source": [
    "torch.manual_seed(42)\n",
    "\n",
    "epochs = 300\n",
    "\n",
    "for epoch in range(epochs):\n",
    "    model_1.train()\n",
    "    # 1. Forward pass\n",
    "    y_pred = model_1(X_train)\n",
    "    # 2. Calculate the loss\n",
    "    loss = loss_fn(y_pred, y_train)\n",
    "    # 3. Optimizer zero grad\n",
    "    optimizer.zero_grad()\n",
    "    # 4. Perform backpropagation\n",
    "    loss.backward()\n",
    "    # 5. Optimizer step\n",
    "    optimizer.step()\n",
    "\n",
    "    #Testing\n",
    "    model_1.eval()\n",
    "    with torch.inference_mode():\n",
    "        test_pred = model_1(X_test)   #Make test predictions from X inputs\n",
    "\n",
    "        test_loss = loss_fn(test_pred, y_test) # calculate test loss between our prediction and the values we have set aside (y_test)\n",
    "    if epoch % 20 == 0:\n",
    "        print(f\"Epoch: {epoch} | loss: {loss} | Test Loss: {test_loss}\")\n",
    "model_1.state_dict(), weight, bias\n",
    "# (OrderedDict([('linear_layer.weight', tensor([[0.4005]])),\n",
    "#               ('linear_layer.bias', tensor([0.0915]))]),\n",
    "#  0.4,\n",
    "#  0.1)"
   ],
   "id": "14fd2ef16e1380ce",
   "outputs": [
    {
     "name": "stdout",
     "output_type": "stream",
     "text": [
      "Epoch: 0 | loss: 0.12756133079528809 | Test Loss: 0.33650320768356323\n",
      "Epoch: 20 | loss: 0.08187223970890045 | Test Loss: 0.2184026539325714\n",
      "Epoch: 40 | loss: 0.07207288593053818 | Test Loss: 0.17458662390708923\n",
      "Epoch: 60 | loss: 0.06507987529039383 | Test Loss: 0.15310418605804443\n",
      "Epoch: 80 | loss: 0.05822876840829849 | Test Loss: 0.1367770880460739\n",
      "Epoch: 100 | loss: 0.05137667804956436 | Test Loss: 0.12079393863677979\n",
      "Epoch: 120 | loss: 0.044525571167469025 | Test Loss: 0.10446684062480927\n",
      "Epoch: 140 | loss: 0.037674423307180405 | Test Loss: 0.08813951164484024\n",
      "Epoch: 160 | loss: 0.03082224354147911 | Test Loss: 0.0721558928489685\n",
      "Epoch: 180 | loss: 0.02397105097770691 | Test Loss: 0.055828340351581573\n",
      "Epoch: 200 | loss: 0.01711984910070896 | Test Loss: 0.03950077295303345\n",
      "Epoch: 220 | loss: 0.010267667472362518 | Test Loss: 0.02351721003651619\n",
      "Epoch: 240 | loss: 0.0034169009886682034 | Test Loss: 0.007191836833953857\n",
      "Epoch: 260 | loss: 0.007878491654992104 | Test Loss: 0.007064247038215399\n",
      "Epoch: 280 | loss: 0.007878491654992104 | Test Loss: 0.007064247038215399\n"
     ]
    },
    {
     "data": {
      "text/plain": [
       "(OrderedDict([('linear_layer.weight', tensor([[0.3028]])),\n",
       "              ('linear_layer.bias', tensor([0.8910]))]),\n",
       " 0.3,\n",
       " 0.9)"
      ]
     },
     "execution_count": 92,
     "metadata": {},
     "output_type": "execute_result"
    }
   ],
   "execution_count": 92
  },
  {
   "metadata": {
    "ExecuteTime": {
     "end_time": "2025-06-18T14:32:37.998067Z",
     "start_time": "2025-06-18T14:32:37.870836Z"
    }
   },
   "cell_type": "code",
   "source": [
    "with torch.inference_mode():\n",
    "    y_preds_new = model_1(X_test)\n",
    "plot_predictions(X_train, y_train, X_test, y_test, y_preds_new)"
   ],
   "id": "487ca6961a735f60",
   "outputs": [
    {
     "data": {
      "text/plain": [
       "<Figure size 1000x700 with 1 Axes>"
      ],
      "image/png": "[encoded data removed]"
     },
     "metadata": {},
     "output_type": "display_data"
    }
   ],
   "execution_count": 93
  },
  {
   "metadata": {
    "ExecuteTime": {
     "end_time": "2025-06-18T14:06:27.828022Z",
     "start_time": "2025-06-18T14:06:27.823509Z"
    }
   },
   "cell_type": "code",
   "source": [
    "from pathlib import Path\n",
    "\n",
    "MODEL_PATH = Path(\"models\")\n",
    "MODEL_PATH.mkdir(parents=True, exist_ok=True)\n",
    "\n",
    "MODEL_NAME = \"01_pytorch_workflow_model_1.pth\"\n",
    "MODEL_SAVE_PATH = MODEL_PATH / MODEL_NAME\n",
    "\n",
    "torch.save(obj=model_1.state_dict(),\n",
    "           f=MODEL_SAVE_PATH)"
   ],
   "id": "12336383700f4a57",
   "outputs": [],
   "execution_count": 83
  },
  {
   "metadata": {
    "ExecuteTime": {
     "end_time": "2025-06-18T14:19:17.717305Z",
     "start_time": "2025-06-18T14:19:17.689798Z"
    }
   },
   "cell_type": "code",
   "source": [
    "# Create a new instance of linear regression model v2\n",
    "loaded_model_1 = LinearRegressionModel_v2()\n",
    "# load saved model_1 state_dict\n",
    "loaded_model_1.load_state_dict(torch.load(MODEL_SAVE_PATH))"
   ],
   "id": "7c6b8f052b6ba915",
   "outputs": [
    {
     "data": {
      "text/plain": [
       "<All keys matched successfully>"
      ]
     },
     "execution_count": 86,
     "metadata": {},
     "output_type": "execute_result"
    }
   ],
   "execution_count": 86
  },
  {
   "metadata": {
    "ExecuteTime": {
     "end_time": "2025-06-18T14:19:43.402943Z",
     "start_time": "2025-06-18T14:19:43.397641Z"
    }
   },
   "cell_type": "code",
   "source": [
    "loaded_model_1.state_dict()\n",
    "#OrderedDict([('linear_layer.weight', tensor([[0.4005]])),\n",
    "#             ('linear_layer.bias', tensor([0.0915]))])"
   ],
   "id": "e5190b89a0652da5",
   "outputs": [
    {
     "data": {
      "text/plain": [
       "OrderedDict([('linear_layer.weight', tensor([[0.4005]])),\n",
       "             ('linear_layer.bias', tensor([0.0915]))])"
      ]
     },
     "execution_count": 87,
     "metadata": {},
     "output_type": "execute_result"
    }
   ],
   "execution_count": 87
  },
  {
   "metadata": {
    "ExecuteTime": {
     "end_time": "2025-06-18T14:21:01.955323Z",
     "start_time": "2025-06-18T14:21:01.950418Z"
    }
   },
   "cell_type": "code",
   "source": [
    "loaded_model_1.eval()\n",
    "with torch.inference_mode():\n",
    "    loaded_model_1_preds = loaded_model_1(X_test)\n",
    "\n",
    "loaded_model_1_preds == y_preds_new\n",
    "# 0,True\n",
    "# 1,True\n",
    "# 2,True\n",
    "# 3,True\n",
    "# 4,True\n",
    "# 5,True\n",
    "# 6,True\n",
    "# 7,True\n",
    "# 8,True\n",
    "# 9,True"
   ],
   "id": "1de358b564e41b09",
   "outputs": [
    {
     "data": {
      "text/plain": [
       "tensor([[True],\n",
       "        [True],\n",
       "        [True],\n",
       "        [True],\n",
       "        [True],\n",
       "        [True],\n",
       "        [True],\n",
       "        [True],\n",
       "        [True],\n",
       "        [True]])"
      ]
     },
     "execution_count": 88,
     "metadata": {},
     "output_type": "execute_result"
    }
   ],
   "execution_count": 88
  },
  {
   "metadata": {},
   "cell_type": "code",
   "outputs": [],
   "execution_count": null,
   "source": "",
   "id": "ece38bcba2d7018f"
  }
 ],
 "metadata": {
  "kernelspec": {
   "display_name": "Python 3",
   "language": "python",
   "name": "python3"
  },
  "language_info": {
   "codemirror_mode": {
    "name": "ipython",
    "version": 2
   },
   "file_extension": ".py",
   "mimetype": "text/x-python",
   "name": "python",
   "nbconvert_exporter": "python",
   "pygments_lexer": "ipython2",
   "version": "2.7.6"
  }
 },
 "nbformat": 4,
 "nbformat_minor": 5
}
