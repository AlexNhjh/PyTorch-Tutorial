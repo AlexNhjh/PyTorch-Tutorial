{
 "cells": [
  {
   "cell_type": "code",
   "id": "initial_id",
   "metadata": {
    "collapsed": true,
    "ExecuteTime": {
     "end_time": "2025-06-17T21:15:07.135415Z",
     "start_time": "2025-06-17T21:15:06.153665Z"
    }
   },
   "source": [
    "import torch\n",
    "import pandas as pd\n",
    "import numpy as np\n",
    "import matplotlib.pyplot as plt\n",
    "print(torch.__version__)\n",
    "import random"
   ],
   "outputs": [
    {
     "ename": "ModuleNotFoundError",
     "evalue": "No module named 'torch'",
     "output_type": "error",
     "traceback": [
      "\u001B[31m---------------------------------------------------------------------------\u001B[39m",
      "\u001B[31mModuleNotFoundError\u001B[39m                       Traceback (most recent call last)",
      "\u001B[36mCell\u001B[39m\u001B[36m \u001B[39m\u001B[32mIn[1]\u001B[39m\u001B[32m, line 1\u001B[39m\n\u001B[32m----> \u001B[39m\u001B[32m1\u001B[39m \u001B[38;5;28;01mimport\u001B[39;00m\u001B[38;5;250m \u001B[39m\u001B[34;01mtorch\u001B[39;00m\n\u001B[32m      2\u001B[39m \u001B[38;5;28;01mimport\u001B[39;00m\u001B[38;5;250m \u001B[39m\u001B[34;01mpandas\u001B[39;00m\u001B[38;5;250m \u001B[39m\u001B[38;5;28;01mas\u001B[39;00m\u001B[38;5;250m \u001B[39m\u001B[34;01mpd\u001B[39;00m\n\u001B[32m      3\u001B[39m \u001B[38;5;28;01mimport\u001B[39;00m\u001B[38;5;250m \u001B[39m\u001B[34;01mnumpy\u001B[39;00m\u001B[38;5;250m \u001B[39m\u001B[38;5;28;01mas\u001B[39;00m\u001B[38;5;250m \u001B[39m\u001B[34;01mnp\u001B[39;00m\n",
      "\u001B[31mModuleNotFoundError\u001B[39m: No module named 'torch'"
     ]
    }
   ],
   "execution_count": 1
  },
  {
   "metadata": {
    "ExecuteTime": {
     "end_time": "2025-06-17T21:15:16.070315Z",
     "start_time": "2025-06-16T11:56:07.592270Z"
    }
   },
   "cell_type": "code",
   "source": [
    "#init a tensor (scalar)\n",
    "scalar = torch.tensor(7)\n",
    "scalar\n",
    "#Returns tensor(7)"
   ],
   "id": "444e57bf28aed3bf",
   "outputs": [
    {
     "data": {
      "text/plain": [
       "tensor(7)"
      ]
     },
     "execution_count": 110,
     "metadata": {},
     "output_type": "execute_result"
    }
   ],
   "execution_count": 110
  },
  {
   "metadata": {
    "ExecuteTime": {
     "end_time": "2025-06-17T21:15:16.108355200Z",
     "start_time": "2025-06-16T11:56:07.625008Z"
    }
   },
   "cell_type": "code",
   "source": [
    "scalar.ndim\n",
    "#returns 0, it is a 0 dimensional vector"
   ],
   "id": "243582ed108a7cb1",
   "outputs": [
    {
     "data": {
      "text/plain": [
       "0"
      ]
     },
     "execution_count": 111,
     "metadata": {},
     "output_type": "execute_result"
    }
   ],
   "execution_count": 111
  },
  {
   "metadata": {
    "ExecuteTime": {
     "end_time": "2025-06-17T21:15:16.169837Z",
     "start_time": "2025-06-16T11:56:07.649263Z"
    }
   },
   "cell_type": "code",
   "source": [
    "scalar.item()\n",
    "# returns 7. Get tensor back as python int"
   ],
   "id": "7d9e15b9a54a8eef",
   "outputs": [
    {
     "data": {
      "text/plain": [
       "7"
      ]
     },
     "execution_count": 112,
     "metadata": {},
     "output_type": "execute_result"
    }
   ],
   "execution_count": 112
  },
  {
   "metadata": {
    "ExecuteTime": {
     "end_time": "2025-06-17T21:15:16.186265700Z",
     "start_time": "2025-06-16T11:56:07.674113Z"
    }
   },
   "cell_type": "code",
   "source": [
    "#Vector\n",
    "vector = torch.tensor([7,7])\n",
    "vector\n",
    "#tensor([7, 7])"
   ],
   "id": "d7998d4c0355bece",
   "outputs": [
    {
     "data": {
      "text/plain": [
       "tensor([7, 7])"
      ]
     },
     "execution_count": 113,
     "metadata": {},
     "output_type": "execute_result"
    }
   ],
   "execution_count": 113
  },
  {
   "metadata": {
    "ExecuteTime": {
     "end_time": "2025-06-17T21:15:16.215685700Z",
     "start_time": "2025-06-16T11:56:07.698675Z"
    }
   },
   "cell_type": "code",
   "source": [
    "vector.ndim\n",
    "# returns 1. think of dimensions of a tensor as the number of nested square brackets"
   ],
   "id": "2b5d905a7a4304e7",
   "outputs": [
    {
     "data": {
      "text/plain": [
       "1"
      ]
     },
     "execution_count": 114,
     "metadata": {},
     "output_type": "execute_result"
    }
   ],
   "execution_count": 114
  },
  {
   "metadata": {
    "ExecuteTime": {
     "end_time": "2025-06-17T21:15:16.236478500Z",
     "start_time": "2025-06-16T11:56:07.720410Z"
    }
   },
   "cell_type": "code",
   "source": [
    "vector.shape\n",
    "#torch.Size([2])"
   ],
   "id": "a11d621694b8b313",
   "outputs": [
    {
     "data": {
      "text/plain": [
       "torch.Size([2])"
      ]
     },
     "execution_count": 115,
     "metadata": {},
     "output_type": "execute_result"
    }
   ],
   "execution_count": 115
  },
  {
   "metadata": {
    "ExecuteTime": {
     "end_time": "2025-06-17T21:15:16.286572600Z",
     "start_time": "2025-06-16T11:56:07.742320Z"
    }
   },
   "cell_type": "code",
   "source": [
    "#MATRIX\n",
    "MATRIX = torch.tensor([[7,8],\n",
    "                       [9,10]])\n",
    "MATRIX.shape, MATRIX.ndim\n",
    "#(torch.Size([2, 2]), 2)"
   ],
   "id": "4c254b04c9de80f5",
   "outputs": [
    {
     "data": {
      "text/plain": [
       "(torch.Size([2, 2]), 2)"
      ]
     },
     "execution_count": 116,
     "metadata": {},
     "output_type": "execute_result"
    }
   ],
   "execution_count": 116
  },
  {
   "metadata": {
    "ExecuteTime": {
     "end_time": "2025-06-17T21:15:16.307251300Z",
     "start_time": "2025-06-16T11:56:07.766271Z"
    }
   },
   "cell_type": "code",
   "source": [
    "#TENSOR\n",
    "TENSOR = torch.tensor([[[1,2,3],\n",
    "                        [3,6,9],\n",
    "                        [2,5,4]],\n",
    "                       [[5,6,8],\n",
    "                        [9,10,11],\n",
    "                        [13,14,15]]])\n",
    "TENSOR.shape, TENSOR.ndim\n",
    "#(torch.Size([1, 3, 3]), 3)"
   ],
   "id": "6dffa8144990a765",
   "outputs": [
    {
     "data": {
      "text/plain": [
       "(torch.Size([2, 3, 3]), 3)"
      ]
     },
     "execution_count": 117,
     "metadata": {},
     "output_type": "execute_result"
    }
   ],
   "execution_count": 117
  },
  {
   "metadata": {
    "ExecuteTime": {
     "end_time": "2025-06-17T21:15:16.347941200Z",
     "start_time": "2025-06-16T11:56:07.809399Z"
    }
   },
   "cell_type": "code",
   "source": "TENSOR\n",
   "id": "9a43199e519cebb9",
   "outputs": [
    {
     "data": {
      "text/plain": [
       "tensor([[[ 1,  2,  3],\n",
       "         [ 3,  6,  9],\n",
       "         [ 2,  5,  4]],\n",
       "\n",
       "        [[ 5,  6,  8],\n",
       "         [ 9, 10, 11],\n",
       "         [13, 14, 15]]])"
      ]
     },
     "execution_count": 118,
     "metadata": {},
     "output_type": "execute_result"
    }
   ],
   "execution_count": 118
  },
  {
   "metadata": {},
   "cell_type": "markdown",
   "source": [
    "### CH13 - Creating Random Tensors\n",
    "\n",
    "\n"
   ],
   "id": "1f4e897a42514635"
  },
  {
   "metadata": {
    "ExecuteTime": {
     "end_time": "2025-06-17T21:15:16.367404500Z",
     "start_time": "2025-06-16T11:56:07.843275Z"
    }
   },
   "cell_type": "code",
   "source": [
    "# Create a random tensor of size (3,4)\n",
    "random_tensor = torch.rand(3,4)\n",
    "random_tensor\n",
    "#0.00333,0.83908,0.47228,0.84238\n",
    "#0.69856,0.58338,0.54370,0.24816\n",
    "#0.52106,0.59562,0.00936,0.40265\n",
    "\n"
   ],
   "id": "5119d3a2aa323874",
   "outputs": [
    {
     "data": {
      "text/plain": [
       "tensor([[0.8883, 0.6868, 0.1886, 0.9347],\n",
       "        [0.2212, 0.1300, 0.2161, 0.0521],\n",
       "        [0.4270, 0.2372, 0.6401, 0.6823]])"
      ]
     },
     "execution_count": 119,
     "metadata": {},
     "output_type": "execute_result"
    }
   ],
   "execution_count": 119
  },
  {
   "metadata": {
    "ExecuteTime": {
     "end_time": "2025-06-17T21:15:16.397465900Z",
     "start_time": "2025-06-16T11:56:07.905537Z"
    }
   },
   "cell_type": "code",
   "source": [
    "# Create a random tensor with similar shape to an image\n",
    "random_image_size_tensor = torch.rand(size=(224,224,3)) #height, width, color channels (RGB)\n",
    "random_image_size_tensor.shape, random_image_size_tensor.ndim\n",
    "# (torch.Size([224, 224, 3]), 3)"
   ],
   "id": "a4d15cc798d640fb",
   "outputs": [
    {
     "data": {
      "text/plain": [
       "(torch.Size([224, 224, 3]), 3)"
      ]
     },
     "execution_count": 120,
     "metadata": {},
     "output_type": "execute_result"
    }
   ],
   "execution_count": 120
  },
  {
   "metadata": {
    "ExecuteTime": {
     "end_time": "2025-06-17T21:15:16.417196600Z",
     "start_time": "2025-06-16T11:56:07.963565Z"
    }
   },
   "cell_type": "code",
   "source": [
    "# Tensor of Zeros and Ones\n",
    "zero = torch.zeros(size=(3,4))\n",
    "zero\n",
    "# 0.00000,0.00000,0.00000,0.00000\n",
    "# 0.00000,0.00000,0.00000,0.00000\n",
    "# 0.00000,0.00000,0.00000,0.00000\n",
    "\n"
   ],
   "id": "8e9ad277739b88be",
   "outputs": [
    {
     "data": {
      "text/plain": [
       "tensor([[0., 0., 0., 0.],\n",
       "        [0., 0., 0., 0.],\n",
       "        [0., 0., 0., 0.]])"
      ]
     },
     "execution_count": 121,
     "metadata": {},
     "output_type": "execute_result"
    }
   ],
   "execution_count": 121
  },
  {
   "metadata": {
    "ExecuteTime": {
     "end_time": "2025-06-17T21:15:16.440391800Z",
     "start_time": "2025-06-16T11:56:08.055593Z"
    }
   },
   "cell_type": "code",
   "source": [
    "# Anything multiplied by zero matrix is 0 matrix\n",
    "zero * random_tensor\n",
    "# 0.00000,0.00000,0.00000,0.00000\n",
    "# 0.00000,0.00000,0.00000,0.00000\n",
    "# 0.00000,0.00000,0.00000,0.00000\n"
   ],
   "id": "e11f8c864d768959",
   "outputs": [
    {
     "data": {
      "text/plain": [
       "tensor([[0., 0., 0., 0.],\n",
       "        [0., 0., 0., 0.],\n",
       "        [0., 0., 0., 0.]])"
      ]
     },
     "execution_count": 122,
     "metadata": {},
     "output_type": "execute_result"
    }
   ],
   "execution_count": 122
  },
  {
   "metadata": {
    "ExecuteTime": {
     "end_time": "2025-06-17T21:15:16.455093600Z",
     "start_time": "2025-06-16T11:56:08.181461Z"
    }
   },
   "cell_type": "code",
   "source": [
    "# Anything Multiplied by a one matrix is itself\n",
    "ones = torch.ones(size=(3,4))\n",
    "ones\n",
    "# 1.00000,1.00000,1.00000,1.00000\n",
    "# 1.00000,1.00000,1.00000,1.00000\n",
    "# 1.00000,1.00000,1.00000,1.00000"
   ],
   "id": "622ef950cd7aa4f5",
   "outputs": [
    {
     "data": {
      "text/plain": [
       "tensor([[1., 1., 1., 1.],\n",
       "        [1., 1., 1., 1.],\n",
       "        [1., 1., 1., 1.]])"
      ]
     },
     "execution_count": 123,
     "metadata": {},
     "output_type": "execute_result"
    }
   ],
   "execution_count": 123
  },
  {
   "metadata": {
    "ExecuteTime": {
     "end_time": "2025-06-17T21:15:16.482588900Z",
     "start_time": "2025-06-16T11:56:08.340265Z"
    }
   },
   "cell_type": "code",
   "source": [
    "# default data type is torch.float32\n",
    "ones.dtype\n",
    "#torch.float32"
   ],
   "id": "a66b0d9bbdb105a9",
   "outputs": [
    {
     "data": {
      "text/plain": [
       "torch.float32"
      ]
     },
     "execution_count": 124,
     "metadata": {},
     "output_type": "execute_result"
    }
   ],
   "execution_count": 124
  },
  {
   "metadata": {
    "ExecuteTime": {
     "end_time": "2025-06-17T21:15:16.501173100Z",
     "start_time": "2025-06-16T11:56:08.478925Z"
    }
   },
   "cell_type": "code",
   "source": [
    "# Use torch.arange() to create a tensor of len 10 in order\n",
    "one_to_ten = torch.arange(0,10)\n",
    "# tensor([0, 1, 2, 3, 4, 5, 6, 7, 8, 9])"
   ],
   "id": "ad45ea75a90d25",
   "outputs": [],
   "execution_count": 125
  },
  {
   "metadata": {
    "ExecuteTime": {
     "end_time": "2025-06-17T21:15:16.539867Z",
     "start_time": "2025-06-16T11:56:08.556955Z"
    }
   },
   "cell_type": "code",
   "source": [
    "torch.arange(start=0, end=77, step=11)\n",
    "# tensor([ 0, 11, 22, 33, 44, 55, 66])"
   ],
   "id": "60665bd39d7f7a6f",
   "outputs": [
    {
     "data": {
      "text/plain": [
       "tensor([ 0, 11, 22, 33, 44, 55, 66])"
      ]
     },
     "execution_count": 126,
     "metadata": {},
     "output_type": "execute_result"
    }
   ],
   "execution_count": 126
  },
  {
   "metadata": {
    "ExecuteTime": {
     "end_time": "2025-06-17T21:15:16.552396400Z",
     "start_time": "2025-06-16T11:56:08.680309Z"
    }
   },
   "cell_type": "code",
   "source": [
    "# Creating tensors like (copy attributes of another tensor)\n",
    "ten_zeros = torch.full_like(input = one_to_ten, fill_value = random.randint(0,5))\n",
    "ten_zeros\n",
    "# tensor([0, 0, 0, 0, 0, 0, 0, 0, 0, 0])"
   ],
   "id": "e74780d7a3e8b17c",
   "outputs": [
    {
     "data": {
      "text/plain": [
       "tensor([0, 0, 0, 0, 0, 0, 0, 0, 0, 0])"
      ]
     },
     "execution_count": 127,
     "metadata": {},
     "output_type": "execute_result"
    }
   ],
   "execution_count": 127
  },
  {
   "metadata": {
    "ExecuteTime": {
     "end_time": "2025-06-17T21:15:16.574708900Z",
     "start_time": "2025-06-16T11:56:08.732468Z"
    }
   },
   "cell_type": "code",
   "source": [
    "# Float 32 tensor is default data type\n",
    "float_32_tensor = torch.tensor([3.0, 6.0, 9.0],\n",
    "                               dtype = None,        # Data Type (int, float32, float16, etc)\n",
    "                               device=None,         # Default is CPU\n",
    "                               requires_grad=False) # Track the gradient of the tensor as it goes through certain operations. worry about later\n",
    "float_32_tensor, float_32_tensor.dtype"
   ],
   "id": "4555546b0f45c58c",
   "outputs": [
    {
     "data": {
      "text/plain": [
       "(tensor([3., 6., 9.]), torch.float32)"
      ]
     },
     "execution_count": 128,
     "metadata": {},
     "output_type": "execute_result"
    }
   ],
   "execution_count": 128
  },
  {
   "metadata": {
    "ExecuteTime": {
     "end_time": "2025-06-17T21:15:16.590571400Z",
     "start_time": "2025-06-16T11:56:08.830391Z"
    }
   },
   "cell_type": "code",
   "source": [
    "# Refactor float_32 tensor\n",
    "float_16_tensor = float_32_tensor.type(torch.float16)\n",
    "float_16_tensor\n",
    "# tensor([3., 6., 9.], dtype=torch.float16)"
   ],
   "id": "8cd3b14e617149fd",
   "outputs": [
    {
     "data": {
      "text/plain": [
       "tensor([3., 6., 9.], dtype=torch.float16)"
      ]
     },
     "execution_count": 129,
     "metadata": {},
     "output_type": "execute_result"
    }
   ],
   "execution_count": 129
  },
  {
   "metadata": {
    "ExecuteTime": {
     "end_time": "2025-06-17T21:15:16.626414700Z",
     "start_time": "2025-06-16T11:56:08.925934Z"
    }
   },
   "cell_type": "code",
   "source": [
    "# multiplying a 16 x 32 converts the output to a 32\n",
    "x = float_16_tensor * float_32_tensor\n",
    "x, x.dtype\n",
    "# (tensor([ 9., 36., 81.]), torch.float32)"
   ],
   "id": "1177674b0670c236",
   "outputs": [
    {
     "data": {
      "text/plain": [
       "(tensor([ 9., 36., 81.]), torch.float32)"
      ]
     },
     "execution_count": 130,
     "metadata": {},
     "output_type": "execute_result"
    }
   ],
   "execution_count": 130
  },
  {
   "metadata": {
    "ExecuteTime": {
     "end_time": "2025-06-17T21:15:16.644025200Z",
     "start_time": "2025-06-16T11:56:08.966225Z"
    }
   },
   "cell_type": "code",
   "source": [
    "# Operations on different dtypes doesnt always work\n",
    "int_32_tensor = torch.tensor([3, 6, 9], dtype=torch.int32)\n",
    "int_32_tensor * float_32_tensor"
   ],
   "id": "17ead2ba69a59a3a",
   "outputs": [
    {
     "data": {
      "text/plain": [
       "tensor([ 9., 36., 81.])"
      ]
     },
     "execution_count": 131,
     "metadata": {},
     "output_type": "execute_result"
    }
   ],
   "execution_count": 131
  },
  {
   "metadata": {
    "ExecuteTime": {
     "end_time": "2025-06-17T21:15:16.701067400Z",
     "start_time": "2025-06-16T11:56:09.013485Z"
    }
   },
   "cell_type": "code",
   "source": [
    "# Getting Information from tensors\n",
    "# e.g. Shape, Datatype, and Device\n",
    "float_16_tensor.shape, float_16_tensor.ndim, float_16_tensor.device\n",
    "# (torch.Size([3]), 1, device(type='cpu'))"
   ],
   "id": "aeeb6ac7f2b866df",
   "outputs": [
    {
     "data": {
      "text/plain": [
       "(torch.Size([3]), 1, device(type='cpu'))"
      ]
     },
     "execution_count": 132,
     "metadata": {},
     "output_type": "execute_result"
    }
   ],
   "execution_count": 132
  },
  {
   "metadata": {
    "ExecuteTime": {
     "end_time": "2025-06-17T21:15:16.712735700Z",
     "start_time": "2025-06-16T11:56:09.059066Z"
    }
   },
   "cell_type": "code",
   "source": [
    "some_tensor = torch.rand(3,4, dtype=torch.float16)\n",
    "some_tensor\n",
    "# 0.96271,0.78899,0.16476,0.17654\n",
    "# 0.40736,0.24902,0.94571,0.67510\n",
    "# 0.79564,0.68495,0.79836,0.89421\n"
   ],
   "id": "c7df1759ba1c9830",
   "outputs": [
    {
     "data": {
      "text/plain": [
       "tensor([[0.5107, 0.8521, 0.5615, 0.1895],\n",
       "        [0.5542, 0.8271, 0.3540, 0.6353],\n",
       "        [0.4707, 0.0581, 0.3120, 0.0786]], dtype=torch.float16)"
      ]
     },
     "execution_count": 133,
     "metadata": {},
     "output_type": "execute_result"
    }
   ],
   "execution_count": 133
  },
  {
   "metadata": {
    "ExecuteTime": {
     "end_time": "2025-06-17T21:15:16.736296600Z",
     "start_time": "2025-06-16T11:56:09.128187Z"
    }
   },
   "cell_type": "code",
   "source": [
    "print(f\"Datatype of tensor: {some_tensor.dtype}\")\n",
    "print(f\"Shape of tensor: {some_tensor.shape}\")\n",
    "print(f\"Device of tensor: {some_tensor.device}\")\n",
    "# Datatype of tensor: torch.float32\n",
    "# Shape of tensor: torch.Size([3, 4])\n",
    "# Device of tensor: cpu"
   ],
   "id": "6655d917b5673ae7",
   "outputs": [
    {
     "name": "stdout",
     "output_type": "stream",
     "text": [
      "Datatype of tensor: torch.float16\n",
      "Shape of tensor: torch.Size([3, 4])\n",
      "Device of tensor: cpu\n"
     ]
    }
   ],
   "execution_count": 134
  },
  {
   "metadata": {
    "ExecuteTime": {
     "end_time": "2025-06-17T21:15:16.748697900Z",
     "start_time": "2025-06-16T11:56:09.300146Z"
    }
   },
   "cell_type": "code",
   "source": [
    "tensor = torch.tensor([1,2,3])\n",
    "tensor + 10, tensor + 100\n",
    "# (tensor([11, 12, 13]), tensor([101, 102, 103]))"
   ],
   "id": "79e9f495d6476421",
   "outputs": [
    {
     "data": {
      "text/plain": [
       "(tensor([11, 12, 13]), tensor([101, 102, 103]))"
      ]
     },
     "execution_count": 135,
     "metadata": {},
     "output_type": "execute_result"
    }
   ],
   "execution_count": 135
  },
  {
   "metadata": {
    "ExecuteTime": {
     "end_time": "2025-06-17T21:15:16.770361900Z",
     "start_time": "2025-06-16T11:56:09.339245Z"
    }
   },
   "cell_type": "code",
   "source": [
    "tensor * 10, (tensor * 10)// 2, tensor - 10\n",
    "# (tensor([10, 20, 30]), tensor([ 5, 10, 15]), tensor([-9, -8, -7]))"
   ],
   "id": "845751fb44134e5d",
   "outputs": [
    {
     "data": {
      "text/plain": [
       "(tensor([10, 20, 30]), tensor([ 5, 10, 15]), tensor([-9, -8, -7]))"
      ]
     },
     "execution_count": 136,
     "metadata": {},
     "output_type": "execute_result"
    }
   ],
   "execution_count": 136
  },
  {
   "metadata": {
    "ExecuteTime": {
     "end_time": "2025-06-17T21:15:16.781491Z",
     "start_time": "2025-06-16T11:56:09.374031Z"
    }
   },
   "cell_type": "code",
   "source": [
    "#In-built functions. Usually just use python operators\n",
    "torch.mul(tensor, 10), torch.add(tensor,10)\n",
    "#(tensor([10, 20, 30]), tensor([11, 12, 13]))"
   ],
   "id": "723540690354c7d8",
   "outputs": [
    {
     "data": {
      "text/plain": [
       "(tensor([10, 20, 30]), tensor([11, 12, 13]))"
      ]
     },
     "execution_count": 137,
     "metadata": {},
     "output_type": "execute_result"
    }
   ],
   "execution_count": 137
  },
  {
   "metadata": {
    "ExecuteTime": {
     "end_time": "2025-06-17T21:15:16.802403500Z",
     "start_time": "2025-06-16T11:56:09.405174Z"
    }
   },
   "cell_type": "code",
   "source": [
    "# Matrix Multiplication (element wise)\n",
    "print(tensor, \"*\", tensor, \"=\", tensor * tensor)\n",
    "# tensor([1, 2, 3]) * tensor([1, 2, 3]) = tensor([1, 4, 9])"
   ],
   "id": "ceaa96423b357918",
   "outputs": [
    {
     "name": "stdout",
     "output_type": "stream",
     "text": [
      "tensor([1, 2, 3]) * tensor([1, 2, 3]) = tensor([1, 4, 9])\n"
     ]
    }
   ],
   "execution_count": 138
  },
  {
   "metadata": {
    "ExecuteTime": {
     "end_time": "2025-06-17T21:15:16.816716600Z",
     "start_time": "2025-06-16T11:56:09.443771Z"
    }
   },
   "cell_type": "code",
   "source": [
    "# Normal Matrix Multiplication (matmul)\n",
    "torch.matmul(tensor, tensor)\n",
    "# tensor(14)"
   ],
   "id": "c415d86797f292b4",
   "outputs": [
    {
     "data": {
      "text/plain": [
       "tensor(14)"
      ]
     },
     "execution_count": 139,
     "metadata": {},
     "output_type": "execute_result"
    }
   ],
   "execution_count": 139
  },
  {
   "metadata": {
    "ExecuteTime": {
     "end_time": "2025-06-17T21:15:16.836270600Z",
     "start_time": "2025-06-16T11:56:09.475328Z"
    }
   },
   "cell_type": "code",
   "source": [
    "#Remember inner dimensions must match, result is the outer dimensions\n",
    "x,y = torch.rand(4,3),torch.rand(3,2)\n",
    "z = torch.matmul(x,y)\n",
    "z.shape, z.ndim\n",
    "#(torch.Size([4, 2]), 2)"
   ],
   "id": "b5ddf56289b31961",
   "outputs": [
    {
     "data": {
      "text/plain": [
       "(torch.Size([4, 2]), 2)"
      ]
     },
     "execution_count": 140,
     "metadata": {},
     "output_type": "execute_result"
    }
   ],
   "execution_count": 140
  },
  {
   "metadata": {
    "ExecuteTime": {
     "end_time": "2025-06-17T21:15:16.848124100Z",
     "start_time": "2025-06-16T11:56:09.500176Z"
    }
   },
   "cell_type": "code",
   "source": [
    "#Shapes for matrix multiplication\n",
    "tensor_A = torch.tensor([[1,2],\n",
    "                         [3,4],\n",
    "                         [5,6]])\n",
    "tensor_B = torch.tensor([[7,10],\n",
    "                         [8,11],\n",
    "                         ])\n",
    "torch.mm(tensor_A, tensor_B)   #torch.mm is the same as torch.matmul"
   ],
   "id": "47147271f9abbd31",
   "outputs": [
    {
     "data": {
      "text/plain": [
       "tensor([[ 23,  32],\n",
       "        [ 53,  74],\n",
       "        [ 83, 116]])"
      ]
     },
     "execution_count": 141,
     "metadata": {},
     "output_type": "execute_result"
    }
   ],
   "execution_count": 141
  },
  {
   "metadata": {
    "ExecuteTime": {
     "end_time": "2025-06-17T21:15:16.877461900Z",
     "start_time": "2025-06-16T11:56:09.571428Z"
    }
   },
   "cell_type": "code",
   "source": [
    "# A Transpose switches the dimensions of a matrix\n",
    "tensor_B.T\n",
    "# 7,8,9\n",
    "# 10,11,12\n"
   ],
   "id": "fadf216294d2c213",
   "outputs": [
    {
     "data": {
      "text/plain": [
       "tensor([[ 7,  8],\n",
       "        [10, 11]])"
      ]
     },
     "execution_count": 142,
     "metadata": {},
     "output_type": "execute_result"
    }
   ],
   "execution_count": 142
  },
  {
   "metadata": {
    "ExecuteTime": {
     "end_time": "2025-06-17T21:15:16.886470100Z",
     "start_time": "2025-06-16T11:56:09.691047Z"
    }
   },
   "cell_type": "code",
   "source": [
    "# We can now multiply A and B\n",
    "torch.mm(tensor_A, tensor_B.T)\n",
    "# 27,30,33\n",
    "# 61,68,75\n",
    "# 95,106,117\n"
   ],
   "id": "f3b01fbad8c63b8b",
   "outputs": [
    {
     "data": {
      "text/plain": [
       "tensor([[ 27,  30],\n",
       "        [ 61,  68],\n",
       "        [ 95, 106]])"
      ]
     },
     "execution_count": 143,
     "metadata": {},
     "output_type": "execute_result"
    }
   ],
   "execution_count": 143
  },
  {
   "metadata": {
    "ExecuteTime": {
     "end_time": "2025-06-17T21:15:16.921501900Z",
     "start_time": "2025-06-16T11:56:09.819998Z"
    }
   },
   "cell_type": "code",
   "source": [
    "x = torch.arange(0,100,10)\n",
    "torch.min(x), torch.max(x), torch.mean(x.type(torch.float32)), torch.sum(x)"
   ],
   "id": "12e50b9cb67b05fa",
   "outputs": [
    {
     "data": {
      "text/plain": [
       "(tensor(0), tensor(90), tensor(45.), tensor(450))"
      ]
     },
     "execution_count": 144,
     "metadata": {},
     "output_type": "execute_result"
    }
   ],
   "execution_count": 144
  },
  {
   "metadata": {
    "ExecuteTime": {
     "end_time": "2025-06-17T21:15:16.929509Z",
     "start_time": "2025-06-16T11:56:09.961230Z"
    }
   },
   "cell_type": "code",
   "source": [
    "x.dtype\n",
    "#torch.int64"
   ],
   "id": "7a7afd744214d620",
   "outputs": [
    {
     "data": {
      "text/plain": [
       "torch.int64"
      ]
     },
     "execution_count": 145,
     "metadata": {},
     "output_type": "execute_result"
    }
   ],
   "execution_count": 145
  },
  {
   "metadata": {
    "ExecuteTime": {
     "end_time": "2025-06-17T21:15:16.967327400Z",
     "start_time": "2025-06-16T11:56:10.040885Z"
    }
   },
   "cell_type": "code",
   "source": [
    "torch.mean(x.type(torch.float32))\n",
    "#tensor(45.)   now it works"
   ],
   "id": "a74dc304ba02ef26",
   "outputs": [
    {
     "data": {
      "text/plain": [
       "tensor(45.)"
      ]
     },
     "execution_count": 146,
     "metadata": {},
     "output_type": "execute_result"
    }
   ],
   "execution_count": 146
  },
  {
   "metadata": {
    "ExecuteTime": {
     "end_time": "2025-06-17T21:15:16.997525300Z",
     "start_time": "2025-06-16T11:56:10.099310Z"
    }
   },
   "cell_type": "code",
   "source": [
    "x = torch.arange(0,100,10)\n",
    "torch.min(x), torch.max(x), torch.mean(x.type(torch.float32)), torch.sum(x)\n",
    "#(tensor(0), tensor(90), tensor(45.), tensor(450))"
   ],
   "id": "6d3691e835a31eaf",
   "outputs": [
    {
     "data": {
      "text/plain": [
       "(tensor(0), tensor(90), tensor(45.), tensor(450))"
      ]
     },
     "execution_count": 147,
     "metadata": {},
     "output_type": "execute_result"
    }
   ],
   "execution_count": 147
  },
  {
   "metadata": {
    "ExecuteTime": {
     "end_time": "2025-06-17T21:15:17.031983700Z",
     "start_time": "2025-06-16T11:56:10.157437Z"
    }
   },
   "cell_type": "code",
   "source": [
    "# Find the index of the min and max with argmin and argmax\n",
    "torch.argmin(x.type(torch.float32)), torch.argmax(x.type(torch.float32))\n",
    "#(tensor(0), tensor(9))"
   ],
   "id": "9e3ded4eef73e330",
   "outputs": [
    {
     "data": {
      "text/plain": [
       "(tensor(0), tensor(9))"
      ]
     },
     "execution_count": 148,
     "metadata": {},
     "output_type": "execute_result"
    }
   ],
   "execution_count": 148
  },
  {
   "metadata": {
    "ExecuteTime": {
     "end_time": "2025-06-17T21:15:17.101214500Z",
     "start_time": "2025-06-16T11:56:10.218190Z"
    }
   },
   "cell_type": "code",
   "source": [
    "x = torch.arange(1., 10.)\n",
    "x, x.shape\n",
    "# (tensor([1., 2., 3., 4., 5., 6., 7., 8., 9.]), torch.Size([9]))\n"
   ],
   "id": "869c559cb362213b",
   "outputs": [
    {
     "data": {
      "text/plain": [
       "(tensor([1., 2., 3., 4., 5., 6., 7., 8., 9.]), torch.Size([9]))"
      ]
     },
     "execution_count": 149,
     "metadata": {},
     "output_type": "execute_result"
    }
   ],
   "execution_count": 149
  },
  {
   "metadata": {
    "ExecuteTime": {
     "end_time": "2025-06-17T21:15:17.120950100Z",
     "start_time": "2025-06-16T11:56:10.263429Z"
    }
   },
   "cell_type": "code",
   "source": [
    "# dimensions must be compatible with original dimensions\n",
    "x_reshaped = x.reshape(3,3)\n",
    "x_reshaped, x_reshaped.shape\n",
    "# (tensor([[1., 2., 3.],\n",
    "#          [4., 5., 6.],\n",
    "#          [7., 8., 9.]]),\n",
    "#  torch.Size([3, 3]))"
   ],
   "id": "23c76a8d2abcb973",
   "outputs": [
    {
     "data": {
      "text/plain": [
       "(tensor([[1., 2., 3.],\n",
       "         [4., 5., 6.],\n",
       "         [7., 8., 9.]]),\n",
       " torch.Size([3, 3]))"
      ]
     },
     "execution_count": 150,
     "metadata": {},
     "output_type": "execute_result"
    }
   ],
   "execution_count": 150
  },
  {
   "metadata": {
    "ExecuteTime": {
     "end_time": "2025-06-17T21:15:17.135564100Z",
     "start_time": "2025-06-16T11:56:10.305934Z"
    }
   },
   "cell_type": "code",
   "source": [
    "# Change the view (similar to reshape. however, z shares memory with x)\n",
    "# thus, changing z changes x\n",
    "z = x.view(3,3)\n",
    "z, z.shape\n",
    "# (tensor([[1., 2., 3.],\n",
    "#          [4., 5., 6.],\n",
    "#          [7., 8., 9.]]),\n",
    "#  torch.Size([3, 3]))"
   ],
   "id": "648ff074bb396dcb",
   "outputs": [
    {
     "data": {
      "text/plain": [
       "(tensor([[1., 2., 3.],\n",
       "         [4., 5., 6.],\n",
       "         [7., 8., 9.]]),\n",
       " torch.Size([3, 3]))"
      ]
     },
     "execution_count": 151,
     "metadata": {},
     "output_type": "execute_result"
    }
   ],
   "execution_count": 151
  },
  {
   "metadata": {
    "ExecuteTime": {
     "end_time": "2025-06-17T21:15:17.170748700Z",
     "start_time": "2025-06-16T11:56:10.345214Z"
    }
   },
   "cell_type": "code",
   "source": [
    "# Stack tensors on top of each other\n",
    "x_stacked = torch.stack([x,x,x,x], dim=1)\n",
    "x_stacked\n",
    "# 1.00000,2.00000,3.00000,4.00000,5.00000,6.00000,7.00000,8.00000,9.00000\n",
    "# 1.00000,2.00000,3.00000,4.00000,5.00000,6.00000,7.00000,8.00000,9.00000\n",
    "# 1.00000,2.00000,3.00000,4.00000,5.00000,6.00000,7.00000,8.00000,9.00000\n",
    "# 1.00000,2.00000,3.00000,4.00000,5.00000,6.00000,7.00000,8.00000,9.00000\n"
   ],
   "id": "e692326f5c91651a",
   "outputs": [
    {
     "data": {
      "text/plain": [
       "tensor([[1., 1., 1., 1.],\n",
       "        [2., 2., 2., 2.],\n",
       "        [3., 3., 3., 3.],\n",
       "        [4., 4., 4., 4.],\n",
       "        [5., 5., 5., 5.],\n",
       "        [6., 6., 6., 6.],\n",
       "        [7., 7., 7., 7.],\n",
       "        [8., 8., 8., 8.],\n",
       "        [9., 9., 9., 9.]])"
      ]
     },
     "execution_count": 152,
     "metadata": {},
     "output_type": "execute_result"
    }
   ],
   "execution_count": 152
  },
  {
   "metadata": {
    "ExecuteTime": {
     "end_time": "2025-06-17T21:15:17.181209800Z",
     "start_time": "2025-06-16T11:57:39.162629Z"
    }
   },
   "cell_type": "code",
   "source": [
    "x_reshaped\n",
    "# tensor([[[1., 2., 3.],\n",
    "#          [4., 5., 6.],\n",
    "#          [7., 8., 9.]]])"
   ],
   "id": "9e435dc22c7efb45",
   "outputs": [
    {
     "data": {
      "text/plain": [
       "tensor([[[1., 2., 3.],\n",
       "         [4., 5., 6.],\n",
       "         [7., 8., 9.]]])"
      ]
     },
     "execution_count": 157,
     "metadata": {},
     "output_type": "execute_result"
    }
   ],
   "execution_count": 157
  },
  {
   "metadata": {
    "ExecuteTime": {
     "end_time": "2025-06-17T21:15:17.212816700Z",
     "start_time": "2025-06-16T12:00:46.715442Z"
    }
   },
   "cell_type": "code",
   "source": [
    "print(f\"Previous tensor: {x_reshaped}\")\n",
    "print(f\"Previous shape: {x_reshaped.shape}\")\n",
    "\n",
    "x_squeezed = x_reshaped.squeeze()\n",
    "print(f\"\\nNew tensor: {x_squeezed}\")\n",
    "print(f\"New shape: {x_squeezed.shape}\")"
   ],
   "id": "6a1e2f928265044d",
   "outputs": [
    {
     "name": "stdout",
     "output_type": "stream",
     "text": [
      "Previous tensor: tensor([[[1., 2., 3.],\n",
      "         [4., 5., 6.],\n",
      "         [7., 8., 9.]]])\n",
      "Previous shape: torch.Size([1, 3, 3])\n",
      "\n",
      "New tensor: tensor([[1., 2., 3.],\n",
      "        [4., 5., 6.],\n",
      "        [7., 8., 9.]])\n",
      "New shape: torch.Size([3, 3])\n"
     ]
    }
   ],
   "execution_count": 160
  },
  {
   "metadata": {
    "ExecuteTime": {
     "end_time": "2025-06-17T21:15:17.276027100Z",
     "start_time": "2025-06-16T12:05:32.136875Z"
    }
   },
   "cell_type": "code",
   "source": [
    "#Unsqueeze the previous squeeze\n",
    "print(f\"Previous target: {x_squeezed}\")\n",
    "print(f\"Previous shape: {x_squeezed.shape}\")\n",
    "\n",
    "#Add an extra dimension with unsqueeze\n",
    "x_unsqueezed = x_squeezed.unsqueeze(dim=0)\n",
    "print(f\"\\nNew tensor: {x_unsqueezed}\")\n",
    "print(f\"New shape: {x_unsqueezed.shape}\")\n",
    "# Previous target: tensor([[1., 2., 3.],\n",
    "#         [4., 5., 6.],\n",
    "#         [7., 8., 9.]])\n",
    "# Previous shape: torch.Size([3, 3])\n",
    "#\n",
    "# New tensor: tensor([[[1., 2., 3.],\n",
    "#          [4., 5., 6.],\n",
    "#          [7., 8., 9.]]])\n",
    "# New shape: torch.Size([1, 3, 3])"
   ],
   "id": "fdaf183602db5f57",
   "outputs": [
    {
     "name": "stdout",
     "output_type": "stream",
     "text": [
      "Previous target: tensor([[1., 2., 3.],\n",
      "        [4., 5., 6.],\n",
      "        [7., 8., 9.]])\n",
      "Previous shape: torch.Size([3, 3])\n",
      "\n",
      "New tensor: tensor([[[1., 2., 3.],\n",
      "         [4., 5., 6.],\n",
      "         [7., 8., 9.]]])\n",
      "New shape: torch.Size([1, 3, 3])\n"
     ]
    }
   ],
   "execution_count": 166
  },
  {
   "metadata": {
    "ExecuteTime": {
     "end_time": "2025-06-17T21:15:17.322768900Z",
     "start_time": "2025-06-16T12:12:54.084718Z"
    }
   },
   "cell_type": "code",
   "source": [
    "x_original = torch.rand(size=(224,224,3))  # Height, Width, color_channels of image data\n",
    "\n",
    "#Permute the original tensor to rearrange the axis (or dim) order\n",
    "x_permuted = x_original.permute(2, 0, 1) # Shifts axis 0 to 1, 1 to 2, and 2 to 0\n",
    "\n",
    "print(f\"Previous shape: {x_original.shape}\")\n",
    "print(f\"New shape: {x_permuted.shape}\") #[color channels, height, width]\n",
    "# Previous shape: torch.Size([224, 224, 3])\n",
    "# New shape: torch.Size([3, 224, 224])\n",
    "x_permuted\n"
   ],
   "id": "4f3d0822f76c6489",
   "outputs": [
    {
     "name": "stdout",
     "output_type": "stream",
     "text": [
      "Previous shape: torch.Size([224, 224, 3])\n",
      "New shape: torch.Size([3, 224, 224])\n"
     ]
    },
    {
     "data": {
      "text/plain": [
       "tensor([[[0.9901, 0.7499, 0.2933,  ..., 0.9308, 0.7500, 0.2643],\n",
       "         [0.5838, 0.6410, 0.2402,  ..., 0.6947, 0.9368, 0.2405],\n",
       "         [0.2173, 0.5879, 0.6467,  ..., 0.1865, 0.8878, 0.8970],\n",
       "         ...,\n",
       "         [0.3409, 0.1038, 0.5731,  ..., 0.3703, 0.2952, 0.3661],\n",
       "         [0.9795, 0.3634, 0.7047,  ..., 0.0095, 0.8800, 0.2111],\n",
       "         [0.8293, 0.3351, 0.2470,  ..., 0.6382, 0.1949, 0.5463]],\n",
       "\n",
       "        [[0.5907, 0.0126, 0.7461,  ..., 0.1411, 0.2088, 0.5495],\n",
       "         [0.9296, 0.7756, 0.6974,  ..., 0.2369, 0.2810, 0.7557],\n",
       "         [0.8547, 0.0636, 0.5705,  ..., 0.5641, 0.5164, 0.6574],\n",
       "         ...,\n",
       "         [0.5773, 0.7921, 0.0303,  ..., 0.3019, 0.5313, 0.7833],\n",
       "         [0.6453, 0.1968, 0.5427,  ..., 0.0681, 0.3705, 0.7459],\n",
       "         [0.0322, 0.8438, 0.0878,  ..., 0.8123, 0.3712, 0.7978]],\n",
       "\n",
       "        [[0.5055, 0.0984, 0.8524,  ..., 0.3516, 0.7064, 0.1936],\n",
       "         [0.0314, 0.1024, 0.5946,  ..., 0.3499, 0.5834, 0.0027],\n",
       "         [0.8135, 0.2329, 0.0736,  ..., 0.9390, 0.8077, 0.6924],\n",
       "         ...,\n",
       "         [0.0615, 0.5474, 0.1417,  ..., 0.4687, 0.6825, 0.0015],\n",
       "         [0.5835, 0.5242, 0.4407,  ..., 0.6945, 0.5186, 0.4848],\n",
       "         [0.0873, 0.0277, 0.2484,  ..., 0.9510, 0.4952, 0.6218]]])"
      ]
     },
     "execution_count": 172,
     "metadata": {},
     "output_type": "execute_result"
    }
   ],
   "execution_count": 172
  },
  {
   "metadata": {
    "ExecuteTime": {
     "end_time": "2025-06-17T21:15:17.346590300Z",
     "start_time": "2025-06-16T12:14:01.481046Z"
    }
   },
   "cell_type": "code",
   "source": [
    "x_original[0,0,0] = 69\n",
    "x_permuted"
   ],
   "id": "f73aea12268a6f8e",
   "outputs": [
    {
     "data": {
      "text/plain": [
       "tensor([[[6.9000e+01, 7.4994e-01, 2.9329e-01,  ..., 9.3076e-01,\n",
       "          7.5004e-01, 2.6431e-01],\n",
       "         [5.8383e-01, 6.4098e-01, 2.4019e-01,  ..., 6.9472e-01,\n",
       "          9.3684e-01, 2.4050e-01],\n",
       "         [2.1733e-01, 5.8791e-01, 6.4671e-01,  ..., 1.8648e-01,\n",
       "          8.8785e-01, 8.9698e-01],\n",
       "         ...,\n",
       "         [3.4085e-01, 1.0381e-01, 5.7308e-01,  ..., 3.7029e-01,\n",
       "          2.9516e-01, 3.6615e-01],\n",
       "         [9.7947e-01, 3.6338e-01, 7.0475e-01,  ..., 9.5237e-03,\n",
       "          8.8004e-01, 2.1105e-01],\n",
       "         [8.2933e-01, 3.3511e-01, 2.4695e-01,  ..., 6.3825e-01,\n",
       "          1.9489e-01, 5.4625e-01]],\n",
       "\n",
       "        [[5.9072e-01, 1.2577e-02, 7.4608e-01,  ..., 1.4107e-01,\n",
       "          2.0880e-01, 5.4954e-01],\n",
       "         [9.2964e-01, 7.7557e-01, 6.9742e-01,  ..., 2.3693e-01,\n",
       "          2.8103e-01, 7.5568e-01],\n",
       "         [8.5465e-01, 6.3558e-02, 5.7052e-01,  ..., 5.6410e-01,\n",
       "          5.1641e-01, 6.5736e-01],\n",
       "         ...,\n",
       "         [5.7732e-01, 7.9206e-01, 3.0337e-02,  ..., 3.0186e-01,\n",
       "          5.3131e-01, 7.8329e-01],\n",
       "         [6.4529e-01, 1.9678e-01, 5.4274e-01,  ..., 6.8144e-02,\n",
       "          3.7052e-01, 7.4594e-01],\n",
       "         [3.2198e-02, 8.4382e-01, 8.7790e-02,  ..., 8.1229e-01,\n",
       "          3.7117e-01, 7.9775e-01]],\n",
       "\n",
       "        [[5.0547e-01, 9.8396e-02, 8.5236e-01,  ..., 3.5162e-01,\n",
       "          7.0643e-01, 1.9358e-01],\n",
       "         [3.1428e-02, 1.0236e-01, 5.9458e-01,  ..., 3.4987e-01,\n",
       "          5.8341e-01, 2.7385e-03],\n",
       "         [8.1347e-01, 2.3294e-01, 7.3590e-02,  ..., 9.3896e-01,\n",
       "          8.0766e-01, 6.9236e-01],\n",
       "         ...,\n",
       "         [6.1525e-02, 5.4737e-01, 1.4168e-01,  ..., 4.6875e-01,\n",
       "          6.8245e-01, 1.4741e-03],\n",
       "         [5.8355e-01, 5.2421e-01, 4.4067e-01,  ..., 6.9445e-01,\n",
       "          5.1860e-01, 4.8479e-01],\n",
       "         [8.7335e-02, 2.7711e-02, 2.4841e-01,  ..., 9.5096e-01,\n",
       "          4.9520e-01, 6.2177e-01]]])"
      ]
     },
     "execution_count": 175,
     "metadata": {},
     "output_type": "execute_result"
    }
   ],
   "execution_count": 175
  },
  {
   "metadata": {},
   "cell_type": "markdown",
   "source": "### INDEXING",
   "id": "57fc87ebee35d9b7"
  },
  {
   "metadata": {
    "ExecuteTime": {
     "end_time": "2025-06-17T21:15:17.416888400Z",
     "start_time": "2025-06-16T12:18:28.568861Z"
    }
   },
   "cell_type": "code",
   "source": [
    "# Selecting Data from tensors with indexing (similar to Numpy indexing)\n",
    "\n",
    "import torch\n",
    "\n",
    "x = torch.arange(1,10).reshape(1,3,3)\n",
    "x, x.shape\n",
    "# (tensor([[[1, 2, 3],\n",
    "#           [4, 5, 6],\n",
    "#           [7, 8, 9]]]),\n",
    "#  torch.Size([1, 3, 3]))"
   ],
   "id": "545ffdbd08cf531d",
   "outputs": [
    {
     "data": {
      "text/plain": [
       "(tensor([[[1, 2, 3],\n",
       "          [4, 5, 6],\n",
       "          [7, 8, 9]]]),\n",
       " torch.Size([1, 3, 3]))"
      ]
     },
     "execution_count": 177,
     "metadata": {},
     "output_type": "execute_result"
    }
   ],
   "execution_count": 177
  },
  {
   "metadata": {
    "ExecuteTime": {
     "end_time": "2025-06-17T21:15:17.438233600Z",
     "start_time": "2025-06-16T12:19:21.916425Z"
    }
   },
   "cell_type": "code",
   "source": [
    "x[0], x[0][1], x[0][1][2]\n",
    "# (tensor([[1, 2, 3],\n",
    "#          [4, 5, 6],\n",
    "#          [7, 8, 9]]),\n",
    "#  tensor([4, 5, 6]),\n",
    "#  tensor(6))"
   ],
   "id": "455cc7361570cad7",
   "outputs": [
    {
     "data": {
      "text/plain": [
       "(tensor([[1, 2, 3],\n",
       "         [4, 5, 6],\n",
       "         [7, 8, 9]]),\n",
       " tensor([4, 5, 6]),\n",
       " tensor(6))"
      ]
     },
     "execution_count": 181,
     "metadata": {},
     "output_type": "execute_result"
    }
   ],
   "execution_count": 181
  },
  {
   "metadata": {
    "ExecuteTime": {
     "end_time": "2025-06-17T21:15:17.452815800Z",
     "start_time": "2025-06-16T12:46:38.905761Z"
    }
   },
   "cell_type": "code",
   "source": [
    "# Convert data from Numpy to Tensor\n",
    "import numpy as np\n",
    "\n",
    "array = np.arange(1.0, 8.0)\n",
    "tensor = torch.from_numpy(array)\n",
    "array, tensor\n",
    "# tensor([1., 2., 3., 4., 5., 6., 7.], dtype=torch.float64)\n",
    "# Be careful. Numpy default datatype is float 64, but pytorch is float32"
   ],
   "id": "bc9a0991fb7cd252",
   "outputs": [
    {
     "data": {
      "text/plain": [
       "(array([1., 2., 3., 4., 5., 6., 7.]),\n",
       " tensor([1., 2., 3., 4., 5., 6., 7.], dtype=torch.float64))"
      ]
     },
     "execution_count": 211,
     "metadata": {},
     "output_type": "execute_result"
    }
   ],
   "execution_count": 211
  },
  {
   "metadata": {
    "ExecuteTime": {
     "end_time": "2025-06-17T21:15:17.476337700Z",
     "start_time": "2025-06-16T12:46:54.490746Z"
    }
   },
   "cell_type": "code",
   "source": [
    "array = array + 1\n",
    "array, tensor\n",
    "# (array([2., 3., 4., 5., 6., 7., 8.]),  They do not share memory\n",
    "#  tensor([1., 2., 3., 4., 5., 6., 7.], dtype=torch.float64))"
   ],
   "id": "54496295ea6c798b",
   "outputs": [
    {
     "data": {
      "text/plain": [
       "(array([2., 3., 4., 5., 6., 7., 8.]),\n",
       " tensor([1., 2., 3., 4., 5., 6., 7.], dtype=torch.float64))"
      ]
     },
     "execution_count": 212,
     "metadata": {},
     "output_type": "execute_result"
    }
   ],
   "execution_count": 212
  },
  {
   "metadata": {
    "ExecuteTime": {
     "end_time": "2025-06-17T21:15:17.492658100Z",
     "start_time": "2025-06-16T12:48:54.422646Z"
    }
   },
   "cell_type": "code",
   "source": [
    "#Tensor to NumPy array\n",
    "tensor = torch.ones(7)  #default dtype is float32\n",
    "numpy_tensor = tensor.numpy()\n",
    "tensor, numpy_tensor\n",
    "# (tensor([1., 1., 1., 1., 1., 1., 1.]),\n",
    "#  array([1., 1., 1., 1., 1., 1., 1.], dtype=float32))  data type is transferred"
   ],
   "id": "17d0e02673a69b0b",
   "outputs": [
    {
     "data": {
      "text/plain": [
       "(tensor([1., 1., 1., 1., 1., 1., 1.]),\n",
       " array([1., 1., 1., 1., 1., 1., 1.], dtype=float32))"
      ]
     },
     "execution_count": 213,
     "metadata": {},
     "output_type": "execute_result"
    }
   ],
   "execution_count": 213
  },
  {
   "metadata": {
    "ExecuteTime": {
     "end_time": "2025-06-17T21:15:17.535899300Z",
     "start_time": "2025-06-16T12:50:20.811426Z"
    }
   },
   "cell_type": "code",
   "source": [
    "#Changing the tensor, what happens to numpy_tensor?\n",
    "tensor = tensor + 1\n",
    "tensor, numpy_tensor"
   ],
   "id": "af45e29730510f38",
   "outputs": [
    {
     "data": {
      "text/plain": [
       "(tensor([2., 2., 2., 2., 2., 2., 2.]),\n",
       " array([1., 1., 1., 1., 1., 1., 1.], dtype=float32))"
      ]
     },
     "execution_count": 214,
     "metadata": {},
     "output_type": "execute_result"
    }
   ],
   "execution_count": 214
  },
  {
   "metadata": {},
   "cell_type": "markdown",
   "source": "### Reproducibility",
   "id": "2dce9742aa3fbe03"
  },
  {
   "metadata": {
    "ExecuteTime": {
     "end_time": "2025-06-17T21:15:17.586679900Z",
     "start_time": "2025-06-16T13:13:26.190924Z"
    }
   },
   "cell_type": "code",
   "source": [
    "# Creating random but reproducible tensors\n",
    "RANDOM_SEED = 43  #think of as a different \"flavor\" of randomness\n",
    "torch.manual_seed(RANDOM_SEED)\n",
    "\n",
    "random_tensor_C = torch.rand(3,4)\n",
    "\n",
    "torch.manual_seed(RANDOM_SEED)     #Call each time you need a random seed\n",
    "random_tensor_D = torch.rand(3,4)\n",
    "\n",
    "random_tensor_C, random_tensor_D\n",
    "# tensor([[True, True, True, True],\n",
    "#         [True, True, True, True],\n",
    "#         [True, True, True, True]])"
   ],
   "id": "d7d4472ea5fff674",
   "outputs": [
    {
     "data": {
      "text/plain": [
       "(tensor([[0.4540, 0.1965, 0.9210, 0.3462],\n",
       "         [0.1481, 0.0858, 0.5909, 0.0659],\n",
       "         [0.7476, 0.6253, 0.9392, 0.1338]]),\n",
       " tensor([[0.4540, 0.1965, 0.9210, 0.3462],\n",
       "         [0.1481, 0.0858, 0.5909, 0.0659],\n",
       "         [0.7476, 0.6253, 0.9392, 0.1338]]))"
      ]
     },
     "execution_count": 270,
     "metadata": {},
     "output_type": "execute_result"
    }
   ],
   "execution_count": 270
  },
  {
   "metadata": {
    "ExecuteTime": {
     "end_time": "2025-06-17T21:15:17.640969500Z",
     "start_time": "2025-06-16T14:10:08.891491Z"
    }
   },
   "cell_type": "code",
   "source": [
    "# Check for GPU access with PyTorch\n",
    "torch.cuda.is_available()\n",
    "#False (current pc doesn't have a GPU)"
   ],
   "id": "bb1bb0892edd354",
   "outputs": [
    {
     "data": {
      "text/plain": [
       "False"
      ]
     },
     "execution_count": 271,
     "metadata": {},
     "output_type": "execute_result"
    }
   ],
   "execution_count": 271
  },
  {
   "metadata": {
    "ExecuteTime": {
     "end_time": "2025-06-17T21:15:17.661897200Z",
     "start_time": "2025-06-16T14:11:49.653722Z"
    }
   },
   "cell_type": "code",
   "source": [
    "# set device to default to the CPU if we don't have a GPU\n",
    "device = \"cuda\" if torch.cuda.is_available() else \"cpu\""
   ],
   "id": "a30fa7942d911e6d",
   "outputs": [
    {
     "data": {
      "text/plain": [
       "'cpu'"
      ]
     },
     "execution_count": 272,
     "metadata": {},
     "output_type": "execute_result"
    }
   ],
   "execution_count": 272
  },
  {
   "metadata": {
    "ExecuteTime": {
     "end_time": "2025-06-17T21:15:17.686083700Z",
     "start_time": "2025-06-16T14:19:27.668744Z"
    }
   },
   "cell_type": "code",
   "source": [
    "tensor = torch.tensor([1,2,3])\n",
    "\n",
    "print(tensor, tensor.device)\n",
    "#tensor([1, 2, 3]) cpu"
   ],
   "id": "24191bd9b1de20c",
   "outputs": [
    {
     "name": "stdout",
     "output_type": "stream",
     "text": [
      "tensor([1, 2, 3]) cpu\n"
     ]
    }
   ],
   "execution_count": 273
  },
  {
   "metadata": {
    "ExecuteTime": {
     "end_time": "2025-06-17T21:15:17.712150800Z",
     "start_time": "2025-06-16T14:20:14.226816Z"
    }
   },
   "cell_type": "code",
   "source": [
    "# \"to\" keyword changes device tensor runs on\n",
    "tensor_on_gpu = tensor.to(device)\n",
    "tensor_on_gpu, tensor_on_gpu.device\n",
    "#(tensor([1, 2, 3]), device(type='cpu')) would be GPU if we had one"
   ],
   "id": "43b8d94182e73261",
   "outputs": [
    {
     "data": {
      "text/plain": [
       "(tensor([1, 2, 3]), device(type='cpu'))"
      ]
     },
     "execution_count": 275,
     "metadata": {},
     "output_type": "execute_result"
    }
   ],
   "execution_count": 275
  },
  {
   "metadata": {
    "ExecuteTime": {
     "end_time": "2025-06-17T21:15:17.734113200Z",
     "start_time": "2025-06-16T14:39:04.906716Z"
    }
   },
   "cell_type": "code",
   "source": [
    "#Move tensor back to CPU (for Numpy computations)\n",
    "tensor_on_gpu = tensor_on_gpu.to('cpu')\n",
    "tensor_on_gpu"
   ],
   "id": "3c483df420564371",
   "outputs": [
    {
     "data": {
      "text/plain": [
       "tensor([1, 2, 3])"
      ]
     },
     "execution_count": 276,
     "metadata": {},
     "output_type": "execute_result"
    }
   ],
   "execution_count": 276
  },
  {
   "metadata": {
    "ExecuteTime": {
     "end_time": "2025-06-17T21:15:17.748125900Z",
     "start_time": "2025-06-16T14:45:59.050668Z"
    }
   },
   "cell_type": "code",
   "source": [
    "RANDOM_SEED = 0\n",
    "torch.manual_seed(RANDOM_SEED)\n",
    "x = torch.rand(7,7)\n",
    "torch.manual_seed(RANDOM_SEED)\n",
    "y = torch.rand(1,7)\n",
    "\n",
    "torch.mm(x, y.transpose(0,1))"
   ],
   "id": "572da3cc1e44d287",
   "outputs": [
    {
     "data": {
      "text/plain": [
       "tensor([[1.5985],\n",
       "        [1.1173],\n",
       "        [1.2741],\n",
       "        [1.6838],\n",
       "        [0.8279],\n",
       "        [1.0347],\n",
       "        [1.2498]])"
      ]
     },
     "execution_count": 289,
     "metadata": {},
     "output_type": "execute_result"
    }
   ],
   "execution_count": 289
  },
  {
   "metadata": {
    "ExecuteTime": {
     "end_time": "2025-06-17T21:15:17.768833100Z",
     "start_time": "2025-06-16T14:56:47.357132Z"
    }
   },
   "cell_type": "code",
   "source": [
    "RANDOM_SEED = 7\n",
    "\n",
    "torch.manual_seed(RANDOM_SEED)\n",
    "x = torch.rand(1,1,1,10)\n",
    "x.squeeze()"
   ],
   "id": "a91fc747ca0582cc",
   "outputs": [
    {
     "data": {
      "text/plain": [
       "tensor([0.5349, 0.1988, 0.6592, 0.6569, 0.2328, 0.4251, 0.2071, 0.6297, 0.3653,\n",
       "        0.8513])"
      ]
     },
     "execution_count": 291,
     "metadata": {},
     "output_type": "execute_result"
    }
   ],
   "execution_count": 291
  }
 ],
 "metadata": {
  "kernelspec": {
   "display_name": "Python 3",
   "language": "python",
   "name": "python3"
  },
  "language_info": {
   "codemirror_mode": {
    "name": "ipython",
    "version": 2
   },
   "file_extension": ".py",
   "mimetype": "text/x-python",
   "name": "python",
   "nbconvert_exporter": "python",
   "pygments_lexer": "ipython2",
   "version": "2.7.6"
  }
 },
 "nbformat": 4,
 "nbformat_minor": 5
}
