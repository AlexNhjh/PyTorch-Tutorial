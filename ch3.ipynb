{
 "cells": [
  {
   "cell_type": "code",
   "id": "initial_id",
   "metadata": {
    "collapsed": true,
    "ExecuteTime": {
     "end_time": "2025-06-26T20:32:25.645247Z",
     "start_time": "2025-06-26T20:32:25.641249Z"
    }
   },
   "source": [
    "import torch\n",
    "from torch import nn\n",
    "import torchvision\n",
    "from torchvision import datasets, transforms\n",
    "from torchvision import transforms\n",
    "from torchvision.transforms import ToTensor\n",
    "import matplotlib.pyplot as plt\n",
    "\n",
    "print(torch.__version__)\n",
    "print(torchvision.__version__)"
   ],
   "outputs": [
    {
     "name": "stdout",
     "output_type": "stream",
     "text": [
      "2.7.1+cpu\n",
      "0.22.1+cpu\n"
     ]
    }
   ],
   "execution_count": 127
  },
  {
   "metadata": {
    "ExecuteTime": {
     "end_time": "2025-06-26T20:32:25.745606Z",
     "start_time": "2025-06-26T20:32:25.712199Z"
    }
   },
   "cell_type": "code",
   "source": [
    "train_data = datasets.FashionMNIST(\n",
    "    root=\"data\", # Where to download data to?\n",
    "    train=True,  # Do we want the training dataset?\n",
    "    download = True,  #Do we want to download it?\n",
    "    transform=ToTensor(), # How do we transform the data?\n",
    "    target_transform=None  # How do we transform the labels/targets?\n",
    ")\n",
    "test_data = datasets.FashionMNIST(\n",
    "    root=\"data\", # Where to download data to?\n",
    "    train=False,  # Do we want the training dataset?\n",
    "    download = True,  #Do we want to download it?\n",
    "    transform=ToTensor(), # How do we transform the data?\n",
    "    target_transform=None  # How do we transform the labels/targets?\n",
    ")"
   ],
   "id": "9849fab48a4235de",
   "outputs": [],
   "execution_count": 128
  },
  {
   "metadata": {
    "ExecuteTime": {
     "end_time": "2025-06-26T20:32:25.797826Z",
     "start_time": "2025-06-26T20:32:25.793826Z"
    }
   },
   "cell_type": "code",
   "source": "len(train_data), len(test_data)",
   "id": "92d87afc9736b143",
   "outputs": [
    {
     "data": {
      "text/plain": [
       "(60000, 10000)"
      ]
     },
     "execution_count": 129,
     "metadata": {},
     "output_type": "execute_result"
    }
   ],
   "execution_count": 129
  },
  {
   "metadata": {
    "ExecuteTime": {
     "end_time": "2025-06-26T20:32:25.862802Z",
     "start_time": "2025-06-26T20:32:25.859361Z"
    }
   },
   "cell_type": "code",
   "source": "image, label = train_data[0]",
   "id": "20061a3454e5a709",
   "outputs": [],
   "execution_count": 130
  },
  {
   "metadata": {
    "ExecuteTime": {
     "end_time": "2025-06-26T20:32:25.918266Z",
     "start_time": "2025-06-26T20:32:25.913268Z"
    }
   },
   "cell_type": "code",
   "source": [
    "class_names = train_data.classes\n",
    "class_names\n",
    "# ['T-shirt/top',\n",
    "#  'Trouser',\n",
    "#  'Pullover',\n",
    "#  'Dress',\n",
    "#  'Coat',\n",
    "#  'Sandal',\n",
    "#  'Shirt',\n",
    "#  'Sneaker',\n",
    "#  'Bag',\n",
    "#  'Ankle boot']"
   ],
   "id": "b654f729a93d4831",
   "outputs": [
    {
     "data": {
      "text/plain": [
       "['T-shirt/top',\n",
       " 'Trouser',\n",
       " 'Pullover',\n",
       " 'Dress',\n",
       " 'Coat',\n",
       " 'Sandal',\n",
       " 'Shirt',\n",
       " 'Sneaker',\n",
       " 'Bag',\n",
       " 'Ankle boot']"
      ]
     },
     "execution_count": 131,
     "metadata": {},
     "output_type": "execute_result"
    }
   ],
   "execution_count": 131
  },
  {
   "metadata": {
    "ExecuteTime": {
     "end_time": "2025-06-26T20:32:25.987525Z",
     "start_time": "2025-06-26T20:32:25.983292Z"
    }
   },
   "cell_type": "code",
   "source": [
    "class_to_idx = train_data.class_to_idx\n",
    "class_to_idx\n",
    "# {'T-shirt/top': 0,\n",
    "#  'Trouser': 1,\n",
    "#  'Pullover': 2,\n",
    "#  'Dress': 3,\n",
    "#  'Coat': 4,\n",
    "#  'Sandal': 5,\n",
    "#  'Shirt': 6,\n",
    "#  'Sneaker': 7,\n",
    "#  'Bag': 8,\n",
    "#  'Ankle boot': 9}   returns a dict with class and index"
   ],
   "id": "afea42046acbd7a5",
   "outputs": [
    {
     "data": {
      "text/plain": [
       "{'T-shirt/top': 0,\n",
       " 'Trouser': 1,\n",
       " 'Pullover': 2,\n",
       " 'Dress': 3,\n",
       " 'Coat': 4,\n",
       " 'Sandal': 5,\n",
       " 'Shirt': 6,\n",
       " 'Sneaker': 7,\n",
       " 'Bag': 8,\n",
       " 'Ankle boot': 9}"
      ]
     },
     "execution_count": 132,
     "metadata": {},
     "output_type": "execute_result"
    }
   ],
   "execution_count": 132
  },
  {
   "metadata": {
    "ExecuteTime": {
     "end_time": "2025-06-26T20:32:26.055354Z",
     "start_time": "2025-06-26T20:32:26.051044Z"
    }
   },
   "cell_type": "code",
   "source": [
    "image.shape, label\n",
    "print(f\"Image shape: {image.shape} -> [color channels, height, width]\")\n",
    "print(f\"Label shape: {class_names[label]}\")\n",
    "# Image shape: torch.Size([1, 28, 28]) -> [color channels, height, width]\n",
    "# Label shape: Ankle boot"
   ],
   "id": "47fa4aee28f10f50",
   "outputs": [
    {
     "name": "stdout",
     "output_type": "stream",
     "text": [
      "Image shape: torch.Size([1, 28, 28]) -> [color channels, height, width]\n",
      "Label shape: Ankle boot\n"
     ]
    }
   ],
   "execution_count": 133
  },
  {
   "metadata": {
    "ExecuteTime": {
     "end_time": "2025-06-26T20:32:26.221284Z",
     "start_time": "2025-06-26T20:32:26.114834Z"
    }
   },
   "cell_type": "code",
   "source": [
    "# Visualizing our data\n",
    "# matplotlib expects [H, W, C] while our data is in [C, H, W]\n",
    "# However, since our image is greyscale and C is 1, we can\n",
    "# Squeeze it out\n",
    "plt.imshow(image.squeeze())\n",
    "plt.title(label)"
   ],
   "id": "2f81689fa14cdc1b",
   "outputs": [
    {
     "data": {
      "text/plain": [
       "Text(0.5, 1.0, '9')"
      ]
     },
     "execution_count": 134,
     "metadata": {},
     "output_type": "execute_result"
    },
    {
     "data": {
      "text/plain": [
       "<Figure size 640x480 with 1 Axes>"
      ],
      "image/png": "[encoded data removed]"
     },
     "metadata": {},
     "output_type": "display_data"
    }
   ],
   "execution_count": 134
  },
  {
   "metadata": {
    "ExecuteTime": {
     "end_time": "2025-06-26T20:32:26.322702Z",
     "start_time": "2025-06-26T20:32:26.269530Z"
    }
   },
   "cell_type": "code",
   "source": [
    "plt.imshow(image.squeeze(), cmap='gray')\n",
    "plt.title(class_names[label])\n",
    "plt.axis('off')"
   ],
   "id": "591f8238dca55877",
   "outputs": [
    {
     "data": {
      "text/plain": [
       "(np.float64(-0.5), np.float64(27.5), np.float64(27.5), np.float64(-0.5))"
      ]
     },
     "execution_count": 135,
     "metadata": {},
     "output_type": "execute_result"
    },
    {
     "data": {
      "text/plain": [
       "<Figure size 640x480 with 1 Axes>"
      ],
      "image/png": "[encoded data removed]"
     },
     "metadata": {},
     "output_type": "display_data"
    }
   ],
   "execution_count": 135
  },
  {
   "metadata": {
    "ExecuteTime": {
     "end_time": "2025-06-26T20:32:26.966865Z",
     "start_time": "2025-06-26T20:32:26.377189Z"
    }
   },
   "cell_type": "code",
   "source": [
    "# Plot more images\n",
    "torch.manual_seed(45)\n",
    "fig = plt.figure(figsize=(6,4))\n",
    "rows, cols = 3,5\n",
    "for i in range(1, rows * cols + 1):\n",
    "    random_idx = torch.randint(0, len(train_data), size=[1]).item()\n",
    "    img, label = train_data[random_idx]\n",
    "    fig.add_subplot(rows, cols, i)\n",
    "    plt.imshow(img.squeeze(), cmap='gray')\n",
    "    plt.title(class_names[label])\n",
    "    plt.axis(False)"
   ],
   "id": "6543a45baa6c3887",
   "outputs": [
    {
     "data": {
      "text/plain": [
       "<Figure size 600x400 with 15 Axes>"
      ],
      "image/png": "[encoded data removed]"
     },
     "metadata": {},
     "output_type": "display_data"
    }
   ],
   "execution_count": 136
  },
  {
   "metadata": {
    "ExecuteTime": {
     "end_time": "2025-06-26T20:32:27.019332Z",
     "start_time": "2025-06-26T20:32:27.014359Z"
    }
   },
   "cell_type": "code",
   "source": [
    "from torch.utils.data import DataLoader\n",
    "\n",
    "# Setup batch size hyperparameter\n",
    "BATCH_SIZE = 32\n",
    "\n",
    "# Turn datasets into iterables (batches)\n",
    "train_dataloader = DataLoader(dataset=train_data,\n",
    "                              batch_size=BATCH_SIZE,\n",
    "                              shuffle=True)\n",
    "# It is usually easier to test data if it is NOT shuffled around\n",
    "test_dataloader = DataLoader(dataset=test_data,\n",
    "                             batch_size=BATCH_SIZE,\n",
    "                             shuffle=False)\n",
    "\n",
    "# Lets check out what we made\n",
    "print(f'Dataloaders: {train_dataloader, test_dataloader}')\n",
    "print(f\"Length of train_dataloader: {len(train_dataloader)} batches of {BATCH_SIZE} batches\")\n",
    "print(f\"Length of test_dataloader: {len(test_dataloader)} batches of {BATCH_SIZE} batches\")\n",
    "# Dataloaders: (<torch.utils.data.dataloader.DataLoader object at 0x000002CF001D4920>, <torch.utils.data.dataloader.DataLoader object at 0x000002CF78112C30>)\n",
    "# Length of train_dataloader: 1875 batches of 32 batches\n",
    "# Length of test_dataloader: 313 batches of 32 batches"
   ],
   "id": "e653d4ef4235a91a",
   "outputs": [
    {
     "name": "stdout",
     "output_type": "stream",
     "text": [
      "Dataloaders: (<torch.utils.data.dataloader.DataLoader object at 0x0000016C57057B00>, <torch.utils.data.dataloader.DataLoader object at 0x0000016C56AA0B90>)\n",
      "Length of train_dataloader: 1875 batches of 32 batches\n",
      "Length of test_dataloader: 313 batches of 32 batches\n"
     ]
    }
   ],
   "execution_count": 137
  },
  {
   "metadata": {
    "ExecuteTime": {
     "end_time": "2025-06-26T20:32:27.096168Z",
     "start_time": "2025-06-26T20:32:27.086152Z"
    }
   },
   "cell_type": "code",
   "source": [
    "# Check out what's inside the training dataloader\n",
    "train_features_batch, train_labels_batch = next(iter(train_dataloader))\n",
    "train_features_batch.shape, train_labels_batch.shape\n",
    "#(torch.Size([32, 1, 28, 28]), torch.Size([32]))"
   ],
   "id": "95ccef2f8b7ac844",
   "outputs": [
    {
     "data": {
      "text/plain": [
       "(torch.Size([32, 1, 28, 28]), torch.Size([32]))"
      ]
     },
     "execution_count": 138,
     "metadata": {},
     "output_type": "execute_result"
    }
   ],
   "execution_count": 138
  },
  {
   "metadata": {
    "ExecuteTime": {
     "end_time": "2025-06-26T20:32:27.216067Z",
     "start_time": "2025-06-26T20:32:27.156206Z"
    }
   },
   "cell_type": "code",
   "source": [
    "# Show a sample\n",
    "torch.manual_seed(42)\n",
    "random_idx = torch.randint(0, len(train_features_batch), size=[1]).item()\n",
    "img, label = train_features_batch[random_idx], train_labels_batch[random_idx]\n",
    "plt.imshow(img.squeeze(), cmap='gray')\n",
    "plt.title(class_names[label])\n",
    "plt.axis(False)\n",
    "print(f\"Image size: {img.shape}\")\n",
    "print(f\"Label: {label}, label size: {label.shape}\")\n",
    "# Image size: torch.Size([1, 28, 28])\n",
    "# Label: 0, label size: torch.Size([])"
   ],
   "id": "a9843eeb251a94ff",
   "outputs": [
    {
     "name": "stdout",
     "output_type": "stream",
     "text": [
      "Image size: torch.Size([1, 28, 28])\n",
      "Label: 0, label size: torch.Size([])\n"
     ]
    },
    {
     "data": {
      "text/plain": [
       "<Figure size 640x480 with 1 Axes>"
      ],
      "image/png": "[encoded data removed]"
     },
     "metadata": {},
     "output_type": "display_data"
    }
   ],
   "execution_count": 139
  },
  {
   "metadata": {
    "ExecuteTime": {
     "end_time": "2025-06-26T20:32:27.289377Z",
     "start_time": "2025-06-26T20:32:27.286376Z"
    }
   },
   "cell_type": "code",
   "source": "",
   "id": "aa4e235990374f71",
   "outputs": [],
   "execution_count": null
  },
  {
   "metadata": {
    "ExecuteTime": {
     "end_time": "2025-06-26T20:32:27.343392Z",
     "start_time": "2025-06-26T20:32:27.339108Z"
    }
   },
   "cell_type": "code",
   "source": [
    "# Create a flatten layer\n",
    "flatten_model = nn.Flatten()\n",
    "\n",
    "# Get a single sample\n",
    "x = train_features_batch[0]\n",
    "\n",
    "# Flattehn sample\n",
    "output = flatten_model(x)\n",
    "\n",
    "print(f'Shape before flattening: {x.shape}')\n",
    "print(f'Shape after flattening: {output.shape}')\n",
    "# Shape before flattening: torch.Size([1, 28, 28])\n",
    "# Shape after flattening: torch.Size([1, 784])"
   ],
   "id": "65631449cad0c94a",
   "outputs": [
    {
     "name": "stdout",
     "output_type": "stream",
     "text": [
      "Shape before flattening: torch.Size([1, 28, 28])\n",
      "Shape after flattening: torch.Size([1, 784])\n"
     ]
    }
   ],
   "execution_count": 140
  },
  {
   "metadata": {
    "ExecuteTime": {
     "end_time": "2025-06-26T20:32:27.421271Z",
     "start_time": "2025-06-26T20:32:27.416816Z"
    }
   },
   "cell_type": "code",
   "source": [
    "from torch import nn\n",
    "\n",
    "class FashionMNISTModelV0(nn.Module):\n",
    "    def __init__(self,\n",
    "                 input_shape: int,\n",
    "                 hidden_units: int,\n",
    "                 output_shape: int):\n",
    "        super().__init__()\n",
    "        # shapes are immediately flattened and passed through two linear layers\n",
    "        self.layer_stack = nn.Sequential(\n",
    "            nn.Flatten(),\n",
    "            nn.Linear(in_features = input_shape,\n",
    "                      out_features = hidden_units),\n",
    "            nn.Linear(in_features = hidden_units,\n",
    "                      out_features = output_shape)\n",
    "        )\n",
    "\n",
    "    def forward(self,x):\n",
    "        return self.layer_stack(x)"
   ],
   "id": "312c31ef9c3d036f",
   "outputs": [],
   "execution_count": 141
  },
  {
   "metadata": {
    "ExecuteTime": {
     "end_time": "2025-06-26T20:32:27.483209Z",
     "start_time": "2025-06-26T20:32:27.476315Z"
    }
   },
   "cell_type": "code",
   "source": [
    "torch.manual_seed(42)\n",
    "\n",
    "# Setup model with input parameters\n",
    "model_0 = FashionMNISTModelV0(\n",
    "    input_shape = 28*28,  # 28 x 28\n",
    "    hidden_units = 10, # how many units in hidden layer\n",
    "    output_shape = len(class_names) # one for every class\n",
    ").to('cpu')\n",
    "model_0"
   ],
   "id": "b0fccc9ec9a6259d",
   "outputs": [
    {
     "data": {
      "text/plain": [
       "FashionMNISTModelV0(\n",
       "  (layer_stack): Sequential(\n",
       "    (0): Flatten(start_dim=1, end_dim=-1)\n",
       "    (1): Linear(in_features=784, out_features=10, bias=True)\n",
       "    (2): Linear(in_features=10, out_features=10, bias=True)\n",
       "  )\n",
       ")"
      ]
     },
     "execution_count": 142,
     "metadata": {},
     "output_type": "execute_result"
    }
   ],
   "execution_count": 142
  },
  {
   "metadata": {
    "ExecuteTime": {
     "end_time": "2025-06-26T20:32:27.548216Z",
     "start_time": "2025-06-26T20:32:27.544292Z"
    }
   },
   "cell_type": "code",
   "source": [
    "dummy_x = torch.rand([1,1,28,28]) # Batch one, color channel 1, 28x28\n",
    "print(model_0(dummy_x))\n",
    "# tensor([[-0.1747,  0.2848,  0.0754, -0.1747,  0.4594,  0.1398,  0.4141,  0.2572,\n",
    "#          -0.2044, -0.0451]], grad_fn=<AddmmBackward0>)"
   ],
   "id": "2013129ced3df17d",
   "outputs": [
    {
     "name": "stdout",
     "output_type": "stream",
     "text": [
      "tensor([[-0.0315,  0.3171,  0.0531, -0.2525,  0.5959,  0.2112,  0.3233,  0.2694,\n",
      "         -0.1004,  0.0157]], grad_fn=<AddmmBackward0>)\n"
     ]
    }
   ],
   "execution_count": 143
  },
  {
   "metadata": {
    "ExecuteTime": {
     "end_time": "2025-06-26T20:32:27.608789Z",
     "start_time": "2025-06-26T20:32:27.605573Z"
    }
   },
   "cell_type": "code",
   "source": [
    "import helper_functions #import from Learn PyTorch repo\n",
    "from helper_functions import accuracy_fn\n",
    "\n",
    "loss_fn = nn.CrossEntropyLoss()\n",
    "optimizer = torch.optim.SGD(params=model_0.parameters(),\n",
    "                            lr=0.001)"
   ],
   "id": "3d8e1e780525cf4e",
   "outputs": [],
   "execution_count": 144
  },
  {
   "metadata": {
    "ExecuteTime": {
     "end_time": "2025-06-26T20:32:27.655700Z",
     "start_time": "2025-06-26T20:32:27.652701Z"
    }
   },
   "cell_type": "code",
   "source": "device = 'gpu' if torch.cuda.is_available() else 'gpu'",
   "id": "c4325e09b1f42f86",
   "outputs": [],
   "execution_count": 145
  },
  {
   "metadata": {
    "ExecuteTime": {
     "end_time": "2025-06-26T20:32:27.701565Z",
     "start_time": "2025-06-26T20:32:27.698697Z"
    }
   },
   "cell_type": "code",
   "source": [
    "# Creating a function to time our model\n",
    "from timeit import default_timer as timer\n",
    "def print_train_time(start: float,\n",
    "                     end: float,\n",
    "                     device: torch.device = None):\n",
    "    total_time = end - start\n",
    "    print(f\"Train time on {device}: {total_time:.3f} seconds\")\n",
    "    return total_time"
   ],
   "id": "b6a4c7542c6d11f6",
   "outputs": [],
   "execution_count": 146
  },
  {
   "metadata": {
    "ExecuteTime": {
     "end_time": "2025-06-26T20:32:27.749640Z",
     "start_time": "2025-06-26T20:32:27.745533Z"
    }
   },
   "cell_type": "code",
   "source": [
    "start_time = timer()\n",
    "\n",
    "end_time = timer()\n",
    "print_train_time(start_time, end_time, 'cpu')\n",
    "# Train time on cpu: 0.000 seconds\n",
    "# 2.880000010918593e-05"
   ],
   "id": "60b4402b49f729a1",
   "outputs": [
    {
     "name": "stdout",
     "output_type": "stream",
     "text": [
      "Train time on cpu: 0.000 seconds\n"
     ]
    },
    {
     "data": {
      "text/plain": [
       "1.720000000204891e-05"
      ]
     },
     "execution_count": 147,
     "metadata": {},
     "output_type": "execute_result"
    }
   ],
   "execution_count": 147
  },
  {
   "metadata": {
    "ExecuteTime": {
     "end_time": "2025-06-26T20:32:47.186876Z",
     "start_time": "2025-06-26T20:32:27.807782Z"
    }
   },
   "cell_type": "code",
   "source": [
    "# Import tqdm for progress bar\n",
    "from tqdm.auto import tqdm\n",
    "\n",
    "# Set the seed and start the timer\n",
    "torch.manual_seed(42)\n",
    "train_time_start_on_cpu = timer()\n",
    "\n",
    "# Set the number of epochs (we'll keep this small for faster training times)\n",
    "epochs = 3\n",
    "\n",
    "# Create training and testing loop\n",
    "for epoch in tqdm(range(epochs)):\n",
    "    print(f\"Epoch: {epoch}\\n-------\")\n",
    "    ### Training\n",
    "    train_loss = 0\n",
    "    # Add a loop to loop through training batches\n",
    "    for batch, (X, y) in enumerate(train_dataloader):\n",
    "        model_0.train()\n",
    "        # 1. Forward pass\n",
    "        y_pred = model_0(X)\n",
    "\n",
    "        # 2. Calculate loss (per batch)\n",
    "        loss = loss_fn(y_pred, y)\n",
    "        train_loss += loss # accumulatively add up the loss per epoch\n",
    "\n",
    "        # 3. Optimizer zero grad\n",
    "        optimizer.zero_grad()\n",
    "\n",
    "        # 4. Loss backward\n",
    "        loss.backward()\n",
    "\n",
    "        # 5. Optimizer step\n",
    "        optimizer.step()\n",
    "\n",
    "        # Print out how many samples have been seen\n",
    "        if batch % 400 == 0:\n",
    "            print(f\"Looked at {batch * len(X)}/{len(train_dataloader.dataset)} samples\")\n",
    "\n",
    "    # Divide total train loss by length of train dataloader (average loss per batch per epoch)\n",
    "    train_loss /= len(train_dataloader)\n",
    "\n",
    "    ### Testing\n",
    "    # Setup variables for accumulatively adding up loss and accuracy\n",
    "    test_loss, test_acc = 0, 0\n",
    "    model_0.eval()\n",
    "    with torch.inference_mode():\n",
    "        for X, y in test_dataloader:\n",
    "            # 1. Forward pass\n",
    "            test_pred = model_0(X)\n",
    "\n",
    "            # 2. Calculate loss (accumulatively)\n",
    "            test_loss += loss_fn(test_pred, y) # accumulatively add up the loss per epoch\n",
    "\n",
    "            # 3. Calculate accuracy (preds need to be same as y_true)\n",
    "            test_acc += accuracy_fn(y_true=y, y_pred=test_pred.argmax(dim=1))\n",
    "\n",
    "        # Calculations on test metrics need to happen inside torch.inference_mode()\n",
    "        # Divide total test loss by length of test dataloader (per batch)\n",
    "        test_loss /= len(test_dataloader)\n",
    "\n",
    "        # Divide total accuracy by length of test dataloader (per batch)\n",
    "        test_acc /= len(test_dataloader)\n",
    "\n",
    "    ## Print out what's happening\n",
    "    print(f\"\\nTrain loss: {train_loss:.5f} | Test loss: {test_loss:.5f}, Test acc: {test_acc:.2f}%\\n\")\n",
    "\n",
    "# Calculate training time\n",
    "train_time_end_on_cpu = timer()\n",
    "total_train_time_model_0 = print_train_time(start=train_time_start_on_cpu,\n",
    "                                           end=train_time_end_on_cpu,\n",
    "                                           device=str(next(model_0.parameters()).device))"
   ],
   "id": "3868429a145e5c8e",
   "outputs": [
    {
     "name": "stderr",
     "output_type": "stream",
     "text": [
      "  0%|          | 0/3 [00:00<?, ?it/s]"
     ]
    },
    {
     "name": "stdout",
     "output_type": "stream",
     "text": [
      "Epoch: 0\n",
      "-------\n",
      "Looked at 0/60000 samples\n",
      "Looked at 12800/60000 samples\n",
      "Looked at 25600/60000 samples\n",
      "Looked at 38400/60000 samples\n",
      "Looked at 51200/60000 samples\n"
     ]
    },
    {
     "name": "stderr",
     "output_type": "stream",
     "text": [
      " 33%|███▎      | 1/3 [00:06<00:13,  6.66s/it]"
     ]
    },
    {
     "name": "stdout",
     "output_type": "stream",
     "text": [
      "\n",
      "Train loss: 1.93787 | Test loss: 1.54349, Test acc: 62.42%\n",
      "\n",
      "Epoch: 1\n",
      "-------\n",
      "Looked at 0/60000 samples\n",
      "Looked at 12800/60000 samples\n",
      "Looked at 25600/60000 samples\n",
      "Looked at 38400/60000 samples\n",
      "Looked at 51200/60000 samples\n"
     ]
    },
    {
     "name": "stderr",
     "output_type": "stream",
     "text": [
      " 67%|██████▋   | 2/3 [00:13<00:06,  6.48s/it]"
     ]
    },
    {
     "name": "stdout",
     "output_type": "stream",
     "text": [
      "\n",
      "Train loss: 1.24920 | Test loss: 1.06094, Test acc: 66.15%\n",
      "\n",
      "Epoch: 2\n",
      "-------\n",
      "Looked at 0/60000 samples\n",
      "Looked at 12800/60000 samples\n",
      "Looked at 25600/60000 samples\n",
      "Looked at 38400/60000 samples\n",
      "Looked at 51200/60000 samples\n"
     ]
    },
    {
     "name": "stderr",
     "output_type": "stream",
     "text": [
      "100%|██████████| 3/3 [00:19<00:00,  6.46s/it]"
     ]
    },
    {
     "name": "stdout",
     "output_type": "stream",
     "text": [
      "\n",
      "Train loss: 0.95073 | Test loss: 0.89137, Test acc: 70.00%\n",
      "\n",
      "Train time on cpu: 19.373 seconds\n"
     ]
    },
    {
     "name": "stderr",
     "output_type": "stream",
     "text": [
      "\n"
     ]
    }
   ],
   "execution_count": 148
  },
  {
   "metadata": {
    "ExecuteTime": {
     "end_time": "2025-06-26T20:32:48.015386Z",
     "start_time": "2025-06-26T20:32:47.245389Z"
    }
   },
   "cell_type": "code",
   "source": [
    "# Make predictions and get model_0 results\n",
    "torch.manual_seed(42)\n",
    "def eval_model(model: torch.nn.Module,\n",
    "               data_loader: torch.utils.data.DataLoader,\n",
    "               loss_fn: torch.nn.Module,\n",
    "               accuracy_fn,\n",
    "               device):\n",
    "    # Returns a dictionary containing the results of model predicting on dataloader\n",
    "    loss, acc = 0, 0\n",
    "    model.eval()\n",
    "    with torch.inference_mode():\n",
    "        for X, y in tqdm(data_loader):\n",
    "            # Make predictions\n",
    "            y_pred = model(X)\n",
    "            # Accumulate loss and acc values per batch\n",
    "            loss += loss_fn(y_pred, y)\n",
    "            acc += accuracy_fn(y_true=y,\n",
    "                               y_pred=y_pred.argmax(dim=1))\n",
    "        # Scale loss and acc to find avg loss/acc per batch\n",
    "        loss /= len(data_loader)\n",
    "        acc /= len(data_loader)\n",
    "\n",
    "    return {\"model_name\": model.__class__.__name__, # only works when model\n",
    "                                                    # was created in a class\n",
    "            \"model_loss\": loss.item(),\n",
    "            \"model_acc\": acc}\n",
    "\n",
    "model_0_results = eval_model(model = model_0,\n",
    "                             data_loader = test_dataloader,\n",
    "                             loss_fn = loss_fn,\n",
    "                             accuracy_fn = accuracy_fn,\n",
    "                             device=device)\n",
    "model_0_results\n",
    "# {'model_name': 'FashionMNISTModelV0',\n",
    "#  'model_loss': 0.5980282425880432,\n",
    "#  'model_acc': 79.56269968051119}"
   ],
   "id": "b25f19b8a8986469",
   "outputs": [
    {
     "name": "stderr",
     "output_type": "stream",
     "text": [
      "100%|██████████| 313/313 [00:00<00:00, 411.84it/s]\n"
     ]
    },
    {
     "data": {
      "text/plain": [
       "{'model_name': 'FashionMNISTModelV0',\n",
       " 'model_loss': 0.8913663625717163,\n",
       " 'model_acc': 69.99800319488818}"
      ]
     },
     "execution_count": 149,
     "metadata": {},
     "output_type": "execute_result"
    }
   ],
   "execution_count": 149
  },
  {
   "metadata": {
    "ExecuteTime": {
     "end_time": "2025-06-26T20:32:48.077099Z",
     "start_time": "2025-06-26T20:32:48.071887Z"
    }
   },
   "cell_type": "code",
   "source": [
    "device = 'cuda' if torch.cuda.is_available() else 'cpu'\n",
    "class FashionMNISTModelV1(nn.Module):\n",
    "    def __init__(self,\n",
    "                 input_shape: int,\n",
    "                 hidden_units: int,\n",
    "                 output_shape: int):\n",
    "        super().__init__()\n",
    "        self.layer_stack = nn.Sequential(\n",
    "            nn.Flatten(),\n",
    "            nn.Linear(in_features = input_shape,\n",
    "                      out_features = hidden_units),\n",
    "            nn.ReLU(),\n",
    "            nn.Linear(in_features = hidden_units,\n",
    "                      out_features = output_shape),\n",
    "            nn.ReLU()\n",
    "        )\n",
    "    def forward(self, x:torch.Tensor):\n",
    "        return self.layer_stack(x)"
   ],
   "id": "8ee4bfdebc3db481",
   "outputs": [],
   "execution_count": 150
  },
  {
   "metadata": {
    "ExecuteTime": {
     "end_time": "2025-06-26T20:32:48.140243Z",
     "start_time": "2025-06-26T20:32:48.135242Z"
    }
   },
   "cell_type": "code",
   "source": [
    "# Create an instance of model_1\n",
    "torch.manual_seed(42)\n",
    "model_1 = FashionMNISTModelV1(input_shape = 784,\n",
    "                              hidden_units = 10,\n",
    "                              output_shape = len(class_names)).to(device)"
   ],
   "id": "6b6eda9e2c303489",
   "outputs": [],
   "execution_count": 151
  },
  {
   "metadata": {
    "ExecuteTime": {
     "end_time": "2025-06-26T20:32:48.197834Z",
     "start_time": "2025-06-26T20:32:48.193834Z"
    }
   },
   "cell_type": "code",
   "source": [
    "from helper_functions import accuracy_fn\n",
    "loss_fn = nn.CrossEntropyLoss()\n",
    "optimizer = torch.optim.SGD(params = model_1.parameters(),\n",
    "                            lr = 0.1)"
   ],
   "id": "27bbecf3fad5fe77",
   "outputs": [],
   "execution_count": 152
  },
  {
   "metadata": {
    "ExecuteTime": {
     "end_time": "2025-06-26T20:32:48.253844Z",
     "start_time": "2025-06-26T20:32:48.249557Z"
    }
   },
   "cell_type": "code",
   "source": [
    "# Lets functionize it\n",
    "def train_step(model: torch.nn.Module,\n",
    "               data_loader: torch.utils.data.DataLoader,\n",
    "               loss_fn: torch.nn.Module,\n",
    "               optimizer: torch.optim.Optimizer,\n",
    "               accuracy_fn,\n",
    "               device: torch.device = device):\n",
    "    train_loss, train_acc = 0,0\n",
    "    model.train()\n",
    "    for batch, (X, y) in enumerate(data_loader):\n",
    "        X, y = X.to(device), y.to(device)\n",
    "        # 1. Forward pass\n",
    "        y_pred = model(X)\n",
    "\n",
    "        # 2. Calculate loss (per batch)\n",
    "        loss = loss_fn(y_pred, y)\n",
    "        train_loss += loss # accumulatively add up the loss per epoch\n",
    "        train_acc += accuracy_fn(y_true = y,\n",
    "                                 y_pred = y_pred.argmax(dim=1))\n",
    "        # 3. Optimizer zero grad\n",
    "        optimizer.zero_grad()\n",
    "        # 4. Loss backward\n",
    "        loss.backward()\n",
    "        # 5. Optimizer step\n",
    "        optimizer.step()\n",
    "\n",
    "        # Print out how many samples have been seen\n",
    "        if batch % 400 == 0:\n",
    "            print(f\"Looked at {batch * len(X)}/{len(train_dataloader.dataset)} samples\")\n",
    "\n",
    "    # Divide total train loss and acc by length of data loader\n",
    "    train_loss /= len(data_loader)\n",
    "    train_acc /= len(data_loader)\n",
    "    print(f\"Train Loss: {train_loss:.5f} | Train acc: {train_acc:.2f}%\")"
   ],
   "id": "894a86158018bfdc",
   "outputs": [],
   "execution_count": 153
  },
  {
   "metadata": {
    "ExecuteTime": {
     "end_time": "2025-06-26T20:32:48.302757Z",
     "start_time": "2025-06-26T20:32:48.298897Z"
    }
   },
   "cell_type": "code",
   "source": [
    "def test_step(model: torch.nn.Module,\n",
    "              data_loader: torch.utils.data.DataLoader,\n",
    "              loss_fn: torch.nn.Module,\n",
    "              accuracy_fn,\n",
    "              device: torch.device = device):\n",
    "    test_loss, test_acc = 0, 0\n",
    "    model_0.eval()\n",
    "    with torch.inference_mode():\n",
    "        for X, y in data_loader:\n",
    "            X,y = X.to(device), y.to(device)\n",
    "            # 1. Forward pass\n",
    "            test_pred = model(X)\n",
    "\n",
    "            # 2. Calculate loss (accumulatively)\n",
    "            test_loss += loss_fn(test_pred, y) # accumulatively add up the loss per epoch\n",
    "\n",
    "            # 3. Calculate accuracy (preds need to be same as y_true)\n",
    "            test_acc += accuracy_fn(y_true=y,\n",
    "                                    y_pred=test_pred.argmax(dim=1))\n",
    "\n",
    "        test_loss /= len(test_dataloader)\n",
    "        test_acc /= len(test_dataloader)\n",
    "        print(f\"Test loss: {test_loss:.5f} | Test acc: {test_acc:.2f}%\\n\")"
   ],
   "id": "3b24bfd5957ac341",
   "outputs": [],
   "execution_count": 154
  },
  {
   "metadata": {
    "ExecuteTime": {
     "end_time": "2025-06-26T20:33:07.947218Z",
     "start_time": "2025-06-26T20:32:48.345857Z"
    }
   },
   "cell_type": "code",
   "source": [
    "torch.manual_seed(42)\n",
    "test_time_start_on_gpu = timer()\n",
    "epochs = 3\n",
    "for epoch in tqdm(range(epochs)):\n",
    "    print(f\"Epoch: {epoch}\\n-------\")\n",
    "    # Training loop\n",
    "    train_step(model = model_1,\n",
    "               data_loader = train_dataloader,\n",
    "               loss_fn = loss_fn,\n",
    "               optimizer = optimizer,\n",
    "               accuracy_fn = accuracy_fn,\n",
    "               device=device)\n",
    "    # Testing loop\n",
    "    test_step(model = model_1,\n",
    "              data_loader = test_dataloader,\n",
    "              loss_fn = loss_fn,\n",
    "              accuracy_fn = accuracy_fn,\n",
    "              device=device)\n",
    "test_time_end_on_gpu = timer()\n",
    "total_test_time_model_1 = print_train_time(start=test_time_start_on_gpu,\n",
    "                                           end=test_time_end_on_gpu,\n",
    "                                           device=device)\n",
    "# Epoch: 0\n",
    "# Test loss: 0.95637 | Test acc: 65.00%\n",
    "# Epoch: 1\n",
    "# Test loss: 0.72227 | Test acc: 73.91%\n",
    "# Epoch: 2\n",
    "# Test loss: 0.68500 | Test acc: 75.02%"
   ],
   "id": "67cb82c7d7b3835",
   "outputs": [
    {
     "name": "stderr",
     "output_type": "stream",
     "text": [
      "  0%|          | 0/3 [00:00<?, ?it/s]"
     ]
    },
    {
     "name": "stdout",
     "output_type": "stream",
     "text": [
      "Epoch: 0\n",
      "-------\n",
      "Looked at 0/60000 samples\n",
      "Looked at 12800/60000 samples\n",
      "Looked at 25600/60000 samples\n",
      "Looked at 38400/60000 samples\n",
      "Looked at 51200/60000 samples\n",
      "Train Loss: 1.09199 | Train acc: 61.34%\n"
     ]
    },
    {
     "name": "stderr",
     "output_type": "stream",
     "text": [
      " 33%|███▎      | 1/3 [00:06<00:13,  6.59s/it]"
     ]
    },
    {
     "name": "stdout",
     "output_type": "stream",
     "text": [
      "Test loss: 0.95637 | Test acc: 65.00%\n",
      "\n",
      "Epoch: 1\n",
      "-------\n",
      "Looked at 0/60000 samples\n",
      "Looked at 12800/60000 samples\n",
      "Looked at 25600/60000 samples\n",
      "Looked at 38400/60000 samples\n",
      "Looked at 51200/60000 samples\n",
      "Train Loss: 0.78101 | Train acc: 71.93%\n"
     ]
    },
    {
     "name": "stderr",
     "output_type": "stream",
     "text": [
      " 67%|██████▋   | 2/3 [00:13<00:06,  6.59s/it]"
     ]
    },
    {
     "name": "stdout",
     "output_type": "stream",
     "text": [
      "Test loss: 0.72227 | Test acc: 73.91%\n",
      "\n",
      "Epoch: 2\n",
      "-------\n",
      "Looked at 0/60000 samples\n",
      "Looked at 12800/60000 samples\n",
      "Looked at 25600/60000 samples\n",
      "Looked at 38400/60000 samples\n",
      "Looked at 51200/60000 samples\n",
      "Train Loss: 0.67027 | Train acc: 75.94%\n"
     ]
    },
    {
     "name": "stderr",
     "output_type": "stream",
     "text": [
      "100%|██████████| 3/3 [00:19<00:00,  6.53s/it]"
     ]
    },
    {
     "name": "stdout",
     "output_type": "stream",
     "text": [
      "Test loss: 0.68500 | Test acc: 75.02%\n",
      "\n",
      "Train time on cpu: 19.597 seconds\n"
     ]
    },
    {
     "name": "stderr",
     "output_type": "stream",
     "text": [
      "\n"
     ]
    }
   ],
   "execution_count": 155
  },
  {
   "metadata": {
    "ExecuteTime": {
     "end_time": "2025-06-26T20:33:08.806736Z",
     "start_time": "2025-06-26T20:33:08.000737Z"
    }
   },
   "cell_type": "code",
   "source": [
    "model_1_results = eval_model(model = model_1,\n",
    "                             data_loader = test_dataloader,\n",
    "                             loss_fn = loss_fn,\n",
    "                             accuracy_fn = accuracy_fn,\n",
    "                             device=device)\n",
    "model_1_results, model_0_results\n",
    "# ({'model_name': 'FashionMNISTModelV1',\n",
    "#   'model_loss': 0.6850008964538574,\n",
    "#   'model_acc': 75.01996805111821},\n",
    "#  {'model_name': 'FashionMNISTModelV0',\n",
    "#   'model_loss': 0.8913663625717163,\n",
    "#   'model_acc': 69.99800319488818})"
   ],
   "id": "5ae76e75c59e1c8e",
   "outputs": [
    {
     "name": "stderr",
     "output_type": "stream",
     "text": [
      "100%|██████████| 313/313 [00:00<00:00, 391.74it/s]\n"
     ]
    },
    {
     "data": {
      "text/plain": [
       "({'model_name': 'FashionMNISTModelV1',\n",
       "  'model_loss': 0.6850008964538574,\n",
       "  'model_acc': 75.01996805111821},\n",
       " {'model_name': 'FashionMNISTModelV0',\n",
       "  'model_loss': 0.8913663625717163,\n",
       "  'model_acc': 69.99800319488818})"
      ]
     },
     "execution_count": 156,
     "metadata": {},
     "output_type": "execute_result"
    }
   ],
   "execution_count": 156
  },
  {
   "metadata": {
    "ExecuteTime": {
     "end_time": "2025-06-26T20:33:08.878509Z",
     "start_time": "2025-06-26T20:33:08.872512Z"
    }
   },
   "cell_type": "code",
   "source": [
    "class FashionMNISTModelV2(nn.Module):\n",
    "    \"\"\" Model architecture that replicates the TinyVGG\n",
    "    model from the CNN explainer website\"\"\"\n",
    "    def __init__(self, input_shape: int, hidden_units: int, output_shape: int):\n",
    "        super().__init__()\n",
    "        self.conv_block_1 = nn.Sequential(\n",
    "            nn.Conv2d(in_channels = input_shape,\n",
    "                      out_channels = hidden_units,\n",
    "                      kernel_size = 3,\n",
    "                      stride = 1,\n",
    "                      padding = 1\n",
    "                      ),\n",
    "            nn.ReLU(),\n",
    "            nn.Conv2d(in_channels = hidden_units,\n",
    "                      out_channels = hidden_units,\n",
    "                      kernel_size = 3,\n",
    "                      stride = 1,\n",
    "                      padding = 1),\n",
    "            nn.ReLU(),\n",
    "            nn.MaxPool2d(kernel_size = 2)\n",
    "        )  # This represents just one conv block in a NN\n",
    "        self.conv_block_2 = nn.Sequential(\n",
    "            nn.Conv2d(in_channels = hidden_units,\n",
    "                      out_channels = hidden_units,\n",
    "                      kernel_size = 3,\n",
    "                      stride = 1,\n",
    "                      padding = 1),\n",
    "            nn.ReLU(),\n",
    "            nn.Conv2d(in_channels = hidden_units,\n",
    "                      out_channels = hidden_units,\n",
    "                      kernel_size = 3,\n",
    "                      stride = 1,\n",
    "                      padding = 1),\n",
    "            nn.ReLU(),\n",
    "            nn.MaxPool2d(kernel_size = 2)\n",
    "        )  # Block 2\n",
    "        self.classifier = nn.Sequential(\n",
    "            nn.Flatten(),\n",
    "            nn.Linear(in_features = hidden_units * 7 * 7,\n",
    "                      out_features = output_shape\n",
    "                      )\n",
    "        )\n",
    "    def forward(self, x):\n",
    "        x = self.conv_block_1(x)\n",
    "        #print(x.shape)\n",
    "        x = self.conv_block_2(x)\n",
    "        #print(x.shape)\n",
    "        x = self.classifier(x)\n",
    "        #print(x.shape)\n",
    "        return x"
   ],
   "id": "ce3684471e59b8ed",
   "outputs": [],
   "execution_count": 157
  },
  {
   "metadata": {
    "ExecuteTime": {
     "end_time": "2025-06-26T20:33:08.935533Z",
     "start_time": "2025-06-26T20:33:08.929528Z"
    }
   },
   "cell_type": "code",
   "source": [
    "torch.manual_seed(42)\n",
    "model_2 = FashionMNISTModelV2(input_shape = 1,  # Color channels\n",
    "                              hidden_units = 10,\n",
    "                              output_shape = len(class_names)).to(device)\n",
    "# color channels"
   ],
   "id": "5ecafb7a75edc322",
   "outputs": [],
   "execution_count": 158
  },
  {
   "metadata": {
    "ExecuteTime": {
     "end_time": "2025-06-26T20:33:08.994196Z",
     "start_time": "2025-06-26T20:33:08.985143Z"
    }
   },
   "cell_type": "code",
   "source": [
    "# Stepping through nn.Conv2d()\n",
    "torch.manual_seed(42)\n",
    "# Create a batch of random images\n",
    "images = torch.randn(size=(32,3,64,64))\n",
    "test_image = images[0]\n",
    "\n",
    "print(f'Image batch shape: {images.shape}')\n",
    "print(f'Single image shape: {test_image.shape}')\n",
    "print(f'Test image:\\n{test_image}')"
   ],
   "id": "859b8242dada58dd",
   "outputs": [
    {
     "name": "stdout",
     "output_type": "stream",
     "text": [
      "Image batch shape: torch.Size([32, 3, 64, 64])\n",
      "Single image shape: torch.Size([3, 64, 64])\n",
      "Test image:\n",
      "tensor([[[ 1.9269,  1.4873,  0.9007,  ...,  1.8446, -1.1845,  1.3835],\n",
      "         [ 1.4451,  0.8564,  2.2181,  ...,  0.3399,  0.7200,  0.4114],\n",
      "         [ 1.9312,  1.0119, -1.4364,  ..., -0.5558,  0.7043,  0.7099],\n",
      "         ...,\n",
      "         [-0.5610, -0.4830,  0.4770,  ..., -0.2713, -0.9537, -0.6737],\n",
      "         [ 0.3076, -0.1277,  0.0366,  ..., -2.0060,  0.2824, -0.8111],\n",
      "         [-1.5486,  0.0485, -0.7712,  ..., -0.1403,  0.9416, -0.0118]],\n",
      "\n",
      "        [[-0.5197,  1.8524,  1.8365,  ...,  0.8935, -1.5114, -0.8515],\n",
      "         [ 2.0818,  1.0677, -1.4277,  ...,  1.6612, -2.6223, -0.4319],\n",
      "         [-0.1010, -0.4388, -1.9775,  ...,  0.2106,  0.2536, -0.7318],\n",
      "         ...,\n",
      "         [ 0.2779,  0.7342, -0.3736,  ..., -0.4601,  0.1815,  0.1850],\n",
      "         [ 0.7205, -0.2833,  0.0937,  ..., -0.1002, -2.3609,  2.2465],\n",
      "         [-1.3242, -0.1973,  0.2920,  ...,  0.5409,  0.6940,  1.8563]],\n",
      "\n",
      "        [[-0.7978,  1.0261,  1.1465,  ...,  1.2134,  0.9354, -0.0780],\n",
      "         [-1.4647, -1.9571,  0.1017,  ..., -1.9986, -0.7409,  0.7011],\n",
      "         [-1.3938,  0.8466, -1.7191,  ..., -1.1867,  0.1320,  0.3407],\n",
      "         ...,\n",
      "         [ 0.8206, -0.3745,  1.2499,  ..., -0.0676,  0.0385,  0.6335],\n",
      "         [-0.5589, -0.3393,  0.2347,  ...,  2.1181,  2.4569,  1.3083],\n",
      "         [-0.4092,  1.5199,  0.2401,  ..., -0.2558,  0.7870,  0.9924]]])\n"
     ]
    }
   ],
   "execution_count": 159
  },
  {
   "metadata": {
    "ExecuteTime": {
     "end_time": "2025-06-26T20:33:09.054386Z",
     "start_time": "2025-06-26T20:33:09.048570Z"
    }
   },
   "cell_type": "code",
   "source": [
    "# Create a single conv2d layer\n",
    "conv_layer = nn.Conv2d(in_channels = 3,\n",
    "                       out_channels = 64,\n",
    "                       kernel_size = (5,5), #sliding window of 3x3 over the image\n",
    "                       stride = 1,\n",
    "                       padding = 2) # number of cells out from the edge we can go\n",
    "# Pass the data through the convolutional layter\n",
    "conv_output = conv_layer(test_image)\n",
    "conv_output.shape\n",
    "#torch.Size([10, 64, 64])"
   ],
   "id": "be68260c4629ca54",
   "outputs": [
    {
     "data": {
      "text/plain": [
       "torch.Size([64, 64, 64])"
      ]
     },
     "execution_count": 160,
     "metadata": {},
     "output_type": "execute_result"
    }
   ],
   "execution_count": 160
  },
  {
   "metadata": {
    "ExecuteTime": {
     "end_time": "2025-06-26T20:33:09.121823Z",
     "start_time": "2025-06-26T20:33:09.116703Z"
    }
   },
   "cell_type": "code",
   "source": [
    "# Stepping through nn.MaxPool2d\n",
    "print(f'Test image original shape: {test_image.shape}')\n",
    "print(f'Test image with unsqeueezed dimension: {test_image.unsqueeze(0).shape}')\n",
    "\n",
    "# Create a sample MaxPool2d layer\n",
    "max_pool_layer = nn.MaxPool2d(kernel_size=2)\n",
    "\n",
    "test_image_through_conv = conv_layer(test_image.unsqueeze(0))\n",
    "print(f\"Shape after going through conv_layer: {test_image_through_conv.shape}\")\n",
    "\n",
    "# Pass data from the convolutional through the max pool layer\n",
    "test_image_through_conv_and_max_pool = max_pool_layer(test_image_through_conv)\n",
    "print(f'Shape after going through conv layer and max pool layer: {test_image_through_conv_and_max_pool.shape}')\n",
    "# Test image original shape: torch.Size([3, 64, 64])\n",
    "# Test image with unsqeueezed dimension: torch.Size([1, 3, 64, 64])\n",
    "# Shape after going through conv_layer: torch.Size([1, 64, 64, 64])\n",
    "# Shape after going through conv layer and max pool layer: torch.Size([1, 64, 32, 32])"
   ],
   "id": "a942c51cdf0ba22c",
   "outputs": [
    {
     "name": "stdout",
     "output_type": "stream",
     "text": [
      "Test image original shape: torch.Size([3, 64, 64])\n",
      "Test image with unsqeueezed dimension: torch.Size([1, 3, 64, 64])\n",
      "Shape after going through conv_layer: torch.Size([1, 64, 64, 64])\n",
      "Shape after going through conv layer and max pool layer: torch.Size([1, 64, 32, 32])\n"
     ]
    }
   ],
   "execution_count": 161
  },
  {
   "metadata": {
    "ExecuteTime": {
     "end_time": "2025-06-26T20:33:09.183744Z",
     "start_time": "2025-06-26T20:33:09.178287Z"
    }
   },
   "cell_type": "code",
   "source": [
    "torch.manual_seed(42)\n",
    "# Create another random tensor with  similar dimension to our image to test\n",
    "random_tensor = torch.rand(size=(1,1,2,2))\n",
    "print(f'random_tensor: {random_tensor}')\n",
    "print(f'random_tensor shape: {random_tensor.shape}')\n",
    "\n",
    "max_pool_layer = nn.MaxPool2d(kernel_size=2)\n",
    "\n",
    "max_pool_tensor = max_pool_layer(random_tensor)\n",
    "print(f\"Max Pool tensor: {max_pool_tensor}\")\n",
    "print(f'Max pool tensor shape: {max_pool_tensor.shape}')"
   ],
   "id": "c9e589484c5777cf",
   "outputs": [
    {
     "name": "stdout",
     "output_type": "stream",
     "text": [
      "random_tensor: tensor([[[[0.8823, 0.9150],\n",
      "          [0.3829, 0.9593]]]])\n",
      "random_tensor shape: torch.Size([1, 1, 2, 2])\n",
      "Max Pool tensor: tensor([[[[0.9593]]]])\n",
      "Max pool tensor shape: torch.Size([1, 1, 1, 1])\n"
     ]
    }
   ],
   "execution_count": 162
  },
  {
   "metadata": {
    "ExecuteTime": {
     "end_time": "2025-06-26T20:33:09.318537Z",
     "start_time": "2025-06-26T20:33:09.234251Z"
    }
   },
   "cell_type": "code",
   "source": "plt.imshow(image.squeeze(), cmap='gray')",
   "id": "476af5475f31942d",
   "outputs": [
    {
     "data": {
      "text/plain": [
       "<matplotlib.image.AxesImage at 0x16c5709e330>"
      ]
     },
     "execution_count": 163,
     "metadata": {},
     "output_type": "execute_result"
    },
    {
     "data": {
      "text/plain": [
       "<Figure size 640x480 with 1 Axes>"
      ],
      "image/png": "[encoded data removed]"
     },
     "metadata": {},
     "output_type": "display_data"
    }
   ],
   "execution_count": 163
  },
  {
   "metadata": {
    "ExecuteTime": {
     "end_time": "2025-06-26T20:33:09.438057Z",
     "start_time": "2025-06-26T20:33:09.363053Z"
    }
   },
   "cell_type": "code",
   "source": [
    "# Declare a random tensor of the same size as our images\n",
    "rand_image_tensor = torch.randn(size=(1,28,28))\n",
    "plt.imshow(rand_image_tensor.squeeze(), cmap='gray')"
   ],
   "id": "7ef0144385c10c0",
   "outputs": [
    {
     "data": {
      "text/plain": [
       "<matplotlib.image.AxesImage at 0x16c4f8cd9d0>"
      ]
     },
     "execution_count": 164,
     "metadata": {},
     "output_type": "execute_result"
    },
    {
     "data": {
      "text/plain": [
       "<Figure size 640x480 with 1 Axes>"
      ],
      "image/png": "[encoded data removed]"
     },
     "metadata": {},
     "output_type": "display_data"
    }
   ],
   "execution_count": 164
  },
  {
   "metadata": {
    "ExecuteTime": {
     "end_time": "2025-06-26T20:33:09.491094Z",
     "start_time": "2025-06-26T20:33:09.486094Z"
    }
   },
   "cell_type": "code",
   "source": [
    "print(model_2(rand_image_tensor.unsqueeze(0).to(device)))\n",
    "# torch.Size([1, 10, 14, 14])\n",
    "# torch.Size([1, 10, 7, 7])\n",
    "# torch.Size([1, 10])\n",
    "# tensor([[ 0.0403, -0.0905,  0.0655, -0.0386,  0.0060,  0.0168,  0.0116,  0.0094,\n",
    "#          -0.0144, -0.0078]], grad_fn=<AddmmBackward0>)"
   ],
   "id": "99cd1b12eea1a659",
   "outputs": [
    {
     "name": "stdout",
     "output_type": "stream",
     "text": [
      "tensor([[ 0.0403, -0.0905,  0.0655, -0.0386,  0.0060,  0.0168,  0.0116,  0.0094,\n",
      "         -0.0144, -0.0078]], grad_fn=<AddmmBackward0>)\n"
     ]
    }
   ],
   "execution_count": 165
  },
  {
   "metadata": {
    "ExecuteTime": {
     "end_time": "2025-06-26T20:33:09.556922Z",
     "start_time": "2025-06-26T20:33:09.552606Z"
    }
   },
   "cell_type": "code",
   "source": [
    "# Setup a loss function and optimizer\n",
    "from helper_functions import accuracy_fn\n",
    "\n",
    "loss_fn = nn.CrossEntropyLoss()\n",
    "optimizer = torch.optim.SGD(params = model_2.parameters(),\n",
    "                            lr = 0.1)"
   ],
   "id": "eded3991b988472a",
   "outputs": [],
   "execution_count": 166
  },
  {
   "metadata": {
    "ExecuteTime": {
     "end_time": "2025-06-26T20:34:07.404836Z",
     "start_time": "2025-06-26T20:33:09.611877Z"
    }
   },
   "cell_type": "code",
   "source": [
    "torch.manual_seed(42)\n",
    "torch.cuda.manual_seed(42)\n",
    "\n",
    "#Measure Time\n",
    "from timeit import default_timer as timer\n",
    "train_time_start_model_2 = timer()\n",
    "\n",
    "epochs = 3\n",
    "for epoch in tqdm(range(epochs)):\n",
    "    print(f'Epoch: {epoch}\\n----')\n",
    "    train_step(model = model_2,\n",
    "               data_loader = train_dataloader,\n",
    "               loss_fn = loss_fn,\n",
    "               optimizer = optimizer,\n",
    "               accuracy_fn = accuracy_fn,\n",
    "               device = device)\n",
    "    test_step(model = model_2,\n",
    "              data_loader = test_dataloader,\n",
    "              loss_fn = loss_fn,\n",
    "              accuracy_fn = accuracy_fn,\n",
    "              device = device)\n",
    "train_time_end_model_2 = timer()\n",
    "total_train_time_model_2 = print_train_time(train_time_start_model_2, train_time_end_model_2, device=device)\n",
    "# Epoch: 0\n",
    "# Test loss: 0.40317 | Test acc: 85.76%\n",
    "# Epoch: 1\n",
    "# Test loss: 0.34778 | Test acc: 87.11%\n",
    "# Epoch: 2\n",
    "# Test loss: 0.31492 | Test acc: 88.69%"
   ],
   "id": "47f0e5f6325c8a9c",
   "outputs": [
    {
     "name": "stderr",
     "output_type": "stream",
     "text": [
      "  0%|          | 0/3 [00:00<?, ?it/s]"
     ]
    },
    {
     "name": "stdout",
     "output_type": "stream",
     "text": [
      "Epoch: 0\n",
      "----\n",
      "Looked at 0/60000 samples\n",
      "Looked at 12800/60000 samples\n",
      "Looked at 25600/60000 samples\n",
      "Looked at 38400/60000 samples\n",
      "Looked at 51200/60000 samples\n",
      "Train Loss: 0.58819 | Train acc: 78.67%\n"
     ]
    },
    {
     "name": "stderr",
     "output_type": "stream",
     "text": [
      " 33%|███▎      | 1/3 [00:17<00:35, 17.89s/it]"
     ]
    },
    {
     "name": "stdout",
     "output_type": "stream",
     "text": [
      "Test loss: 0.40317 | Test acc: 85.76%\n",
      "\n",
      "Epoch: 1\n",
      "----\n",
      "Looked at 0/60000 samples\n",
      "Looked at 12800/60000 samples\n",
      "Looked at 25600/60000 samples\n",
      "Looked at 38400/60000 samples\n",
      "Looked at 51200/60000 samples\n",
      "Train Loss: 0.36085 | Train acc: 86.94%\n"
     ]
    },
    {
     "name": "stderr",
     "output_type": "stream",
     "text": [
      " 67%|██████▋   | 2/3 [00:37<00:19, 19.16s/it]"
     ]
    },
    {
     "name": "stdout",
     "output_type": "stream",
     "text": [
      "Test loss: 0.34778 | Test acc: 87.11%\n",
      "\n",
      "Epoch: 2\n",
      "----\n",
      "Looked at 0/60000 samples\n",
      "Looked at 12800/60000 samples\n",
      "Looked at 25600/60000 samples\n",
      "Looked at 38400/60000 samples\n",
      "Looked at 51200/60000 samples\n",
      "Train Loss: 0.32424 | Train acc: 88.19%\n"
     ]
    },
    {
     "name": "stderr",
     "output_type": "stream",
     "text": [
      "100%|██████████| 3/3 [00:57<00:00, 19.26s/it]"
     ]
    },
    {
     "name": "stdout",
     "output_type": "stream",
     "text": [
      "Test loss: 0.31492 | Test acc: 88.69%\n",
      "\n",
      "Train time on cpu: 57.788 seconds\n"
     ]
    },
    {
     "name": "stderr",
     "output_type": "stream",
     "text": [
      "\n"
     ]
    }
   ],
   "execution_count": 167
  },
  {
   "metadata": {
    "ExecuteTime": {
     "end_time": "2025-06-26T20:34:16.183115Z",
     "start_time": "2025-06-26T20:34:07.464873Z"
    }
   },
   "cell_type": "code",
   "source": [
    "model_2_results = eval_model(\n",
    "    model = model_2,\n",
    "    data_loader = train_dataloader,\n",
    "    loss_fn = loss_fn,\n",
    "    accuracy_fn = accuracy_fn,\n",
    "    device = device\n",
    ")\n",
    "model_2_results\n",
    "# {'model_name': 'FashionMNISTModelV2',\n",
    "#  'model_loss': 0.2876949906349182,\n",
    "#  'model_acc': 89.55}"
   ],
   "id": "c7c6445e12fce1fe",
   "outputs": [
    {
     "name": "stderr",
     "output_type": "stream",
     "text": [
      "100%|██████████| 1875/1875 [00:08<00:00, 215.25it/s]\n"
     ]
    },
    {
     "data": {
      "text/plain": [
       "{'model_name': 'FashionMNISTModelV2',\n",
       " 'model_loss': 0.2876949906349182,\n",
       " 'model_acc': 89.55}"
      ]
     },
     "execution_count": 168,
     "metadata": {},
     "output_type": "execute_result"
    }
   ],
   "execution_count": 168
  },
  {
   "metadata": {
    "ExecuteTime": {
     "end_time": "2025-06-26T20:34:16.248128Z",
     "start_time": "2025-06-26T20:34:16.241282Z"
    }
   },
   "cell_type": "code",
   "source": [
    "# Comparing results and training time across experiments\n",
    "import pandas as pd\n",
    "compare_results = pd.DataFrame([model_0_results,\n",
    "                                model_1_results,\n",
    "                                model_2_results])\n",
    "compare_results\n",
    "#  model_name              model_loss          model_acc\n",
    "# 0,FashionMNISTModelV0,0.8913663625717163,69.99800319488818\n",
    "# 1,FashionMNISTModelV1,0.6850008964538574,75.01996805111821\n",
    "# 2,FashionMNISTModelV2,0.2876949906349182,89.55\n"
   ],
   "id": "dc165ece6bd4783c",
   "outputs": [
    {
     "data": {
      "text/plain": [
       "            model_name  model_loss  model_acc\n",
       "0  FashionMNISTModelV0    0.891366  69.998003\n",
       "1  FashionMNISTModelV1    0.685001  75.019968\n",
       "2  FashionMNISTModelV2    0.287695  89.550000"
      ],
      "text/html": [
       "<div>\n",
       "<style scoped>\n",
       "    .dataframe tbody tr th:only-of-type {\n",
       "        vertical-align: middle;\n",
       "    }\n",
       "\n",
       "    .dataframe tbody tr th {\n",
       "        vertical-align: top;\n",
       "    }\n",
       "\n",
       "    .dataframe thead th {\n",
       "        text-align: right;\n",
       "    }\n",
       "</style>\n",
       "<table border=\"1\" class=\"dataframe\">\n",
       "  <thead>\n",
       "    <tr style=\"text-align: right;\">\n",
       "      <th></th>\n",
       "      <th>model_name</th>\n",
       "      <th>model_loss</th>\n",
       "      <th>model_acc</th>\n",
       "    </tr>\n",
       "  </thead>\n",
       "  <tbody>\n",
       "    <tr>\n",
       "      <th>0</th>\n",
       "      <td>FashionMNISTModelV0</td>\n",
       "      <td>0.891366</td>\n",
       "      <td>69.998003</td>\n",
       "    </tr>\n",
       "    <tr>\n",
       "      <th>1</th>\n",
       "      <td>FashionMNISTModelV1</td>\n",
       "      <td>0.685001</td>\n",
       "      <td>75.019968</td>\n",
       "    </tr>\n",
       "    <tr>\n",
       "      <th>2</th>\n",
       "      <td>FashionMNISTModelV2</td>\n",
       "      <td>0.287695</td>\n",
       "      <td>89.550000</td>\n",
       "    </tr>\n",
       "  </tbody>\n",
       "</table>\n",
       "</div>"
      ]
     },
     "execution_count": 169,
     "metadata": {},
     "output_type": "execute_result"
    }
   ],
   "execution_count": 169
  },
  {
   "metadata": {
    "ExecuteTime": {
     "end_time": "2025-06-26T20:34:54.896102Z",
     "start_time": "2025-06-26T20:34:54.888984Z"
    }
   },
   "cell_type": "code",
   "source": [
    "# Add training time to results comparison\n",
    "compare_results['Training_time'] = [total_train_time_model_0,\n",
    "                                    total_test_time_model_1,\n",
    "                                    total_train_time_model_2]\n",
    "compare_results\n",
    "# 19.373129\n",
    "# 19.596952\n",
    "# 57.787808"
   ],
   "id": "2b07d971807ebe88",
   "outputs": [
    {
     "data": {
      "text/plain": [
       "            model_name  model_loss  model_acc  Training_time\n",
       "0  FashionMNISTModelV0    0.891366  69.998003      19.373129\n",
       "1  FashionMNISTModelV1    0.685001  75.019968      19.596952\n",
       "2  FashionMNISTModelV2    0.287695  89.550000      57.787808"
      ],
      "text/html": [
       "<div>\n",
       "<style scoped>\n",
       "    .dataframe tbody tr th:only-of-type {\n",
       "        vertical-align: middle;\n",
       "    }\n",
       "\n",
       "    .dataframe tbody tr th {\n",
       "        vertical-align: top;\n",
       "    }\n",
       "\n",
       "    .dataframe thead th {\n",
       "        text-align: right;\n",
       "    }\n",
       "</style>\n",
       "<table border=\"1\" class=\"dataframe\">\n",
       "  <thead>\n",
       "    <tr style=\"text-align: right;\">\n",
       "      <th></th>\n",
       "      <th>model_name</th>\n",
       "      <th>model_loss</th>\n",
       "      <th>model_acc</th>\n",
       "      <th>Training_time</th>\n",
       "    </tr>\n",
       "  </thead>\n",
       "  <tbody>\n",
       "    <tr>\n",
       "      <th>0</th>\n",
       "      <td>FashionMNISTModelV0</td>\n",
       "      <td>0.891366</td>\n",
       "      <td>69.998003</td>\n",
       "      <td>19.373129</td>\n",
       "    </tr>\n",
       "    <tr>\n",
       "      <th>1</th>\n",
       "      <td>FashionMNISTModelV1</td>\n",
       "      <td>0.685001</td>\n",
       "      <td>75.019968</td>\n",
       "      <td>19.596952</td>\n",
       "    </tr>\n",
       "    <tr>\n",
       "      <th>2</th>\n",
       "      <td>FashionMNISTModelV2</td>\n",
       "      <td>0.287695</td>\n",
       "      <td>89.550000</td>\n",
       "      <td>57.787808</td>\n",
       "    </tr>\n",
       "  </tbody>\n",
       "</table>\n",
       "</div>"
      ]
     },
     "execution_count": 170,
     "metadata": {},
     "output_type": "execute_result"
    }
   ],
   "execution_count": 170
  },
  {
   "metadata": {
    "ExecuteTime": {
     "end_time": "2025-06-26T20:38:40.679729Z",
     "start_time": "2025-06-26T20:38:40.545967Z"
    }
   },
   "cell_type": "code",
   "source": [
    "# Visualize our model results\n",
    "compare_results.set_index('model_name')['model_acc'].plot(kind='barh')\n",
    "plt.xlabel('Accuracy')\n",
    "plt.ylabel('Model')"
   ],
   "id": "ced6cca5761239f5",
   "outputs": [
    {
     "data": {
      "text/plain": [
       "Text(0, 0.5, 'Model')"
      ]
     },
     "execution_count": 171,
     "metadata": {},
     "output_type": "execute_result"
    },
    {
     "data": {
      "text/plain": [
       "<Figure size 640x480 with 1 Axes>"
      ],
      "image/png": "[encoded data removed]"
     },
     "metadata": {},
     "output_type": "display_data"
    }
   ],
   "execution_count": 171
  },
  {
   "metadata": {
    "ExecuteTime": {
     "end_time": "2025-06-26T20:48:13.074552Z",
     "start_time": "2025-06-26T20:48:13.070038Z"
    }
   },
   "cell_type": "code",
   "source": [
    "# Make and evaluate random predictions with best model\n",
    "def make_predictions(model: torch.nn.Module,\n",
    "                     data: list,\n",
    "                     device: torch.device = device):\n",
    "    pred_probs = []\n",
    "    model.to(device)\n",
    "    model.eval()\n",
    "    with torch.inference_mode():\n",
    "        for sample in data:\n",
    "            # Add a batch dimension\n",
    "            sample = torch.unsqueeze(sample, dim=0).to(device)\n",
    "\n",
    "            # Forward pass (model outputs raw logits)\n",
    "            pred_logit = model(sample)\n",
    "\n",
    "            # Get prediction probabilities\n",
    "            pred_prob = torch.softmax(pred_logit.squeeze(), dim=0)\n",
    "\n",
    "            # get pred_prob off the GPU for further calculations\n",
    "            pred_probs.append(pred_prob.cpu())\n",
    "    #Stack the pred_probs to turn list into tensor\n",
    "    return torch.stack(pred_probs)"
   ],
   "id": "ee471a4e92d91e8d",
   "outputs": [],
   "execution_count": 172
  },
  {
   "metadata": {
    "ExecuteTime": {
     "end_time": "2025-06-26T21:18:59.125519Z",
     "start_time": "2025-06-26T21:18:58.361963Z"
    }
   },
   "cell_type": "code",
   "source": [
    "import random\n",
    "random.seed(42)\n",
    "test_samples = []\n",
    "test_labels = []\n",
    "# Recall that test_data is our testing data declared at the start\n",
    "# We also made a dataloader for it with batch size = batch size\n",
    "for sample, label in random.sample(list(test_data), k = 9):\n",
    "    test_samples.append(sample)\n",
    "    test_labels.append(label)\n",
    "\n",
    "test_samples[0].shape, test_labels[0]\n",
    "#(torch.Size([1, 28, 28]), 5)"
   ],
   "id": "69ffa384def37d5e",
   "outputs": [
    {
     "data": {
      "text/plain": [
       "(torch.Size([1, 28, 28]), 5)"
      ]
     },
     "execution_count": 236,
     "metadata": {},
     "output_type": "execute_result"
    }
   ],
   "execution_count": 236
  },
  {
   "metadata": {
    "ExecuteTime": {
     "end_time": "2025-06-26T21:19:00.038329Z",
     "start_time": "2025-06-26T21:18:59.941828Z"
    }
   },
   "cell_type": "code",
   "source": [
    "# Plot our first sample in the test set\n",
    "plt.imshow(test_samples[0].squeeze(), cmap='gray')\n",
    "plt.title(class_names[test_labels[0]])"
   ],
   "id": "5d1ddd7d54658ccd",
   "outputs": [
    {
     "data": {
      "text/plain": [
       "Text(0.5, 1.0, 'Sandal')"
      ]
     },
     "execution_count": 237,
     "metadata": {},
     "output_type": "execute_result"
    },
    {
     "data": {
      "text/plain": [
       "<Figure size 640x480 with 1 Axes>"
      ],
      "image/png": "[encoded data removed]"
     },
     "metadata": {},
     "output_type": "display_data"
    }
   ],
   "execution_count": 237
  },
  {
   "metadata": {
    "ExecuteTime": {
     "end_time": "2025-06-26T21:19:01.840923Z",
     "start_time": "2025-06-26T21:19:01.830197Z"
    }
   },
   "cell_type": "code",
   "source": [
    "pred_probs = make_predictions(model_2, test_samples, device)\n",
    "pred_probs[:2]\n",
    "# 0.00000,0.00000,0.00000,0.00000,0.00000,0.99982,0.00000,0.00002,0.00002,0.00014\n",
    "# 0.02280,0.67606,0.00085,0.09904,0.05878,0.00011,0.14036,0.00028,0.00054,0.00119\n"
   ],
   "id": "be5441496c191180",
   "outputs": [
    {
     "data": {
      "text/plain": [
       "tensor([[1.9760e-07, 1.0548e-07, 1.3250e-07, 9.2053e-07, 9.9930e-08, 9.9982e-01,\n",
       "         4.8932e-07, 1.7345e-05, 1.8923e-05, 1.4102e-04],\n",
       "        [2.2797e-02, 6.7606e-01, 8.4893e-04, 9.9038e-02, 5.8776e-02, 1.1199e-04,\n",
       "         1.4036e-01, 2.7557e-04, 5.4492e-04, 1.1890e-03]])"
      ]
     },
     "execution_count": 238,
     "metadata": {},
     "output_type": "execute_result"
    }
   ],
   "execution_count": 238
  },
  {
   "metadata": {
    "ExecuteTime": {
     "end_time": "2025-06-26T21:19:03.058739Z",
     "start_time": "2025-06-26T21:19:03.053919Z"
    }
   },
   "cell_type": "code",
   "source": [
    "pred_classes = pred_probs.argmax(dim=1)\n",
    "pred_classes, test_labels\n",
    "# (tensor([5, 1, 7, 4, 3, 0, 4, 7, 1]), [5, 1, 7, 4, 3, 0, 4, 7, 1])"
   ],
   "id": "371e123b4b280f48",
   "outputs": [
    {
     "data": {
      "text/plain": [
       "(tensor([5, 1, 7, 4, 3, 0, 4, 7, 1]), [5, 1, 7, 4, 3, 0, 4, 7, 1])"
      ]
     },
     "execution_count": 239,
     "metadata": {},
     "output_type": "execute_result"
    }
   ],
   "execution_count": 239
  },
  {
   "metadata": {
    "ExecuteTime": {
     "end_time": "2025-06-26T21:19:04.750001Z",
     "start_time": "2025-06-26T21:19:04.125815Z"
    }
   },
   "cell_type": "code",
   "source": [
    "plt.figure(figsize=(9,9))\n",
    "nrows = 3\n",
    "ncols = 3\n",
    "\n",
    "for i, sample in enumerate(test_samples):\n",
    "    # Create a new subplot\n",
    "    plt.subplot(nrows, ncols, i + 1)\n",
    "    plt.imshow(sample.squeeze(), cmap='gray')\n",
    "    # Find the prediction (in test form)\n",
    "    pred_label = class_names[pred_classes[i]]\n",
    "\n",
    "    truth_label = class_names[test_labels[i]]\n",
    "    title_text = f'Pred: {pred_label} | Truth: {truth_label}'\n",
    "    # Label as green if correct, red if wrong\n",
    "    if pred_label == truth_label:\n",
    "        plt.title(title_text, fontsize=10,c='g')\n",
    "    else:\n",
    "        plt.title(title_text, fontsize=10,c='r')"
   ],
   "id": "719b3159a591024c",
   "outputs": [
    {
     "data": {
      "text/plain": [
       "<Figure size 900x900 with 9 Axes>"
      ],
      "image/png": "[encoded data removed]"
     },
     "metadata": {},
     "output_type": "display_data"
    }
   ],
   "execution_count": 240
  }
 ],
 "metadata": {
  "kernelspec": {
   "display_name": "Python 3",
   "language": "python",
   "name": "python3"
  },
  "language_info": {
   "codemirror_mode": {
    "name": "ipython",
    "version": 2
   },
   "file_extension": ".py",
   "mimetype": "text/x-python",
   "name": "python",
   "nbconvert_exporter": "python",
   "pygments_lexer": "ipython2",
   "version": "2.7.6"
  }
 },
 "nbformat": 4,
 "nbformat_minor": 5
}
