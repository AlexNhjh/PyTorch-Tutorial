{
 "cells": [
  {
   "cell_type": "code",
   "id": "initial_id",
   "metadata": {
    "collapsed": true,
    "ExecuteTime": {
     "end_time": "2025-06-12T12:57:48.336238Z",
     "start_time": "2025-06-12T12:57:48.332306Z"
    }
   },
   "source": [
    "import torch\n",
    "import pandas as pd\n",
    "import numpy as np\n",
    "import matplotlib.pyplot as plt\n",
    "print(torch.__version__)\n",
    "import random"
   ],
   "outputs": [
    {
     "name": "stdout",
     "output_type": "stream",
     "text": [
      "2.7.1+cpu\n"
     ]
    }
   ],
   "execution_count": 46
  },
  {
   "metadata": {
    "ExecuteTime": {
     "end_time": "2025-06-12T12:12:46.055146Z",
     "start_time": "2025-06-12T12:12:46.018414Z"
    }
   },
   "cell_type": "code",
   "source": [
    "#init a tensor (scalar)\n",
    "scalar = torch.tensor(7)\n",
    "scalar\n",
    "#Returns tensor(7)"
   ],
   "id": "444e57bf28aed3bf",
   "outputs": [
    {
     "data": {
      "text/plain": [
       "tensor(7)"
      ]
     },
     "execution_count": 2,
     "metadata": {},
     "output_type": "execute_result"
    }
   ],
   "execution_count": 2
  },
  {
   "metadata": {
    "ExecuteTime": {
     "end_time": "2025-06-12T12:15:48.898099Z",
     "start_time": "2025-06-12T12:15:48.892979Z"
    }
   },
   "cell_type": "code",
   "source": [
    "scalar.ndim\n",
    "#returns 0, it is a 0 dimensional vector"
   ],
   "id": "243582ed108a7cb1",
   "outputs": [
    {
     "data": {
      "text/plain": [
       "0"
      ]
     },
     "execution_count": 3,
     "metadata": {},
     "output_type": "execute_result"
    }
   ],
   "execution_count": 3
  },
  {
   "metadata": {},
   "cell_type": "code",
   "outputs": [],
   "execution_count": null,
   "source": [
    "scalar.item()\n",
    "# returns 7. Get tensor back as python int"
   ],
   "id": "7d9e15b9a54a8eef"
  },
  {
   "metadata": {
    "ExecuteTime": {
     "end_time": "2025-06-12T12:17:55.181758Z",
     "start_time": "2025-06-12T12:17:55.172609Z"
    }
   },
   "cell_type": "code",
   "source": [
    "#Vector\n",
    "vector = torch.tensor([7,7])\n",
    "vector\n",
    "#tensor([7, 7])"
   ],
   "id": "d7998d4c0355bece",
   "outputs": [
    {
     "data": {
      "text/plain": [
       "tensor([7, 7])"
      ]
     },
     "execution_count": 4,
     "metadata": {},
     "output_type": "execute_result"
    }
   ],
   "execution_count": 4
  },
  {
   "metadata": {
    "ExecuteTime": {
     "end_time": "2025-06-12T12:18:52.573518Z",
     "start_time": "2025-06-12T12:18:52.568498Z"
    }
   },
   "cell_type": "code",
   "source": [
    "vector.ndim\n",
    "# returns 1. think of dimensions of a tensor as the number of nested square brackets"
   ],
   "id": "2b5d905a7a4304e7",
   "outputs": [
    {
     "data": {
      "text/plain": [
       "1"
      ]
     },
     "execution_count": 5,
     "metadata": {},
     "output_type": "execute_result"
    }
   ],
   "execution_count": 5
  },
  {
   "metadata": {
    "ExecuteTime": {
     "end_time": "2025-06-12T12:19:51.548867Z",
     "start_time": "2025-06-12T12:19:51.543226Z"
    }
   },
   "cell_type": "code",
   "source": [
    "vector.shape\n",
    "#torch.Size([2])"
   ],
   "id": "a11d621694b8b313",
   "outputs": [
    {
     "data": {
      "text/plain": [
       "torch.Size([2])"
      ]
     },
     "execution_count": 6,
     "metadata": {},
     "output_type": "execute_result"
    }
   ],
   "execution_count": 6
  },
  {
   "metadata": {
    "ExecuteTime": {
     "end_time": "2025-06-12T12:21:27.741255Z",
     "start_time": "2025-06-12T12:21:27.735321Z"
    }
   },
   "cell_type": "code",
   "source": [
    "#MATRIX\n",
    "MATRIX = torch.tensor([[7,8],\n",
    "                       [9,10]])\n",
    "MATRIX.shape, MATRIX.ndim\n",
    "#(torch.Size([2, 2]), 2)"
   ],
   "id": "4c254b04c9de80f5",
   "outputs": [
    {
     "data": {
      "text/plain": [
       "(torch.Size([2, 2]), 2)"
      ]
     },
     "execution_count": 8,
     "metadata": {},
     "output_type": "execute_result"
    }
   ],
   "execution_count": 8
  },
  {
   "metadata": {
    "ExecuteTime": {
     "end_time": "2025-06-12T12:27:33.504064Z",
     "start_time": "2025-06-12T12:27:33.499060Z"
    }
   },
   "cell_type": "code",
   "source": [
    "#TENSOR\n",
    "TENSOR = torch.tensor([[[1,2,3],\n",
    "                        [3,6,9],\n",
    "                        [2,5,4]],\n",
    "                       [[5,6,8],\n",
    "                        [9,10,11],\n",
    "                        [13,14,15]]])\n",
    "TENSOR.shape, TENSOR.ndim\n",
    "#(torch.Size([1, 3, 3]), 3)"
   ],
   "id": "6dffa8144990a765",
   "outputs": [
    {
     "data": {
      "text/plain": [
       "(torch.Size([2, 3, 3]), 3)"
      ]
     },
     "execution_count": 16,
     "metadata": {},
     "output_type": "execute_result"
    }
   ],
   "execution_count": 16
  },
  {
   "metadata": {
    "ExecuteTime": {
     "end_time": "2025-06-12T12:27:43.579765Z",
     "start_time": "2025-06-12T12:27:43.574767Z"
    }
   },
   "cell_type": "code",
   "source": "TENSOR\n",
   "id": "9a43199e519cebb9",
   "outputs": [
    {
     "data": {
      "text/plain": [
       "tensor([[[ 1,  2,  3],\n",
       "         [ 3,  6,  9],\n",
       "         [ 2,  5,  4]],\n",
       "\n",
       "        [[ 5,  6,  8],\n",
       "         [ 9, 10, 11],\n",
       "         [13, 14, 15]]])"
      ]
     },
     "execution_count": 17,
     "metadata": {},
     "output_type": "execute_result"
    }
   ],
   "execution_count": 17
  },
  {
   "metadata": {},
   "cell_type": "markdown",
   "source": [
    "### CH13 - Creating Random Tensors\n",
    "\n",
    "\n"
   ],
   "id": "1f4e897a42514635"
  },
  {
   "metadata": {
    "ExecuteTime": {
     "end_time": "2025-06-12T12:43:51.621538Z",
     "start_time": "2025-06-12T12:43:51.615756Z"
    }
   },
   "cell_type": "code",
   "source": [
    "# Create a random tensor of size (3,4)\n",
    "random_tensor = torch.rand(3,4)\n",
    "random_tensor\n",
    "#0.00333,0.83908,0.47228,0.84238\n",
    "#0.69856,0.58338,0.54370,0.24816\n",
    "#0.52106,0.59562,0.00936,0.40265\n",
    "\n"
   ],
   "id": "5119d3a2aa323874",
   "outputs": [
    {
     "data": {
      "text/plain": [
       "tensor([[0.5998, 0.8659, 0.7958, 0.5642],\n",
       "        [0.4093, 0.5566, 0.4842, 0.3007],\n",
       "        [0.4343, 0.6334, 0.5090, 0.4333]])"
      ]
     },
     "execution_count": 26,
     "metadata": {},
     "output_type": "execute_result"
    }
   ],
   "execution_count": 26
  },
  {
   "metadata": {
    "ExecuteTime": {
     "end_time": "2025-06-12T12:40:54.324043Z",
     "start_time": "2025-06-12T12:40:54.318044Z"
    }
   },
   "cell_type": "code",
   "source": [
    "# Create a random tensor with similar shape to an image\n",
    "random_image_size_tensor = torch.rand(size=(224,224,3)) #height, width, color channels (RGB)\n",
    "random_image_size_tensor.shape, random_image_size_tensor.ndim\n",
    "# (torch.Size([224, 224, 3]), 3)"
   ],
   "id": "a4d15cc798d640fb",
   "outputs": [
    {
     "data": {
      "text/plain": [
       "(torch.Size([224, 224, 3]), 3)"
      ]
     },
     "execution_count": 24,
     "metadata": {},
     "output_type": "execute_result"
    }
   ],
   "execution_count": 24
  },
  {
   "metadata": {
    "ExecuteTime": {
     "end_time": "2025-06-12T12:45:16.836463Z",
     "start_time": "2025-06-12T12:45:16.827634Z"
    }
   },
   "cell_type": "code",
   "source": [
    "# Tensor of Zeros and Ones\n",
    "zero = torch.zeros(size=(3,4))\n",
    "zero\n",
    "# 0.00000,0.00000,0.00000,0.00000\n",
    "# 0.00000,0.00000,0.00000,0.00000\n",
    "# 0.00000,0.00000,0.00000,0.00000\n",
    "\n"
   ],
   "id": "8e9ad277739b88be",
   "outputs": [
    {
     "data": {
      "text/plain": [
       "tensor([[0., 0., 0., 0.],\n",
       "        [0., 0., 0., 0.],\n",
       "        [0., 0., 0., 0.]])"
      ]
     },
     "execution_count": 28,
     "metadata": {},
     "output_type": "execute_result"
    }
   ],
   "execution_count": 28
  },
  {
   "metadata": {
    "ExecuteTime": {
     "end_time": "2025-06-12T12:46:12.557627Z",
     "start_time": "2025-06-12T12:46:12.549631Z"
    }
   },
   "cell_type": "code",
   "source": [
    "# Anything multiplied by zero matrix is 0 matrix\n",
    "zero * random_tensor\n",
    "# 0.00000,0.00000,0.00000,0.00000\n",
    "# 0.00000,0.00000,0.00000,0.00000\n",
    "# 0.00000,0.00000,0.00000,0.00000\n"
   ],
   "id": "e11f8c864d768959",
   "outputs": [
    {
     "data": {
      "text/plain": [
       "tensor([[0., 0., 0., 0.],\n",
       "        [0., 0., 0., 0.],\n",
       "        [0., 0., 0., 0.]])"
      ]
     },
     "execution_count": 29,
     "metadata": {},
     "output_type": "execute_result"
    }
   ],
   "execution_count": 29
  },
  {
   "metadata": {
    "ExecuteTime": {
     "end_time": "2025-06-12T12:47:45.914404Z",
     "start_time": "2025-06-12T12:47:45.908782Z"
    }
   },
   "cell_type": "code",
   "source": [
    "# Anything Multiplied by a one matrix is itself\n",
    "ones = torch.ones(size=(3,4))\n",
    "ones\n",
    "# 1.00000,1.00000,1.00000,1.00000\n",
    "# 1.00000,1.00000,1.00000,1.00000\n",
    "# 1.00000,1.00000,1.00000,1.00000"
   ],
   "id": "622ef950cd7aa4f5",
   "outputs": [
    {
     "data": {
      "text/plain": [
       "tensor([[1., 1., 1., 1.],\n",
       "        [1., 1., 1., 1.],\n",
       "        [1., 1., 1., 1.]])"
      ]
     },
     "execution_count": 32,
     "metadata": {},
     "output_type": "execute_result"
    }
   ],
   "execution_count": 32
  },
  {
   "metadata": {
    "ExecuteTime": {
     "end_time": "2025-06-12T12:48:57.408365Z",
     "start_time": "2025-06-12T12:48:57.403857Z"
    }
   },
   "cell_type": "code",
   "source": [
    "# default data type is torch.float32\n",
    "ones.dtype\n",
    "#torch.float32"
   ],
   "id": "a66b0d9bbdb105a9",
   "outputs": [
    {
     "data": {
      "text/plain": [
       "torch.float32"
      ]
     },
     "execution_count": 33,
     "metadata": {},
     "output_type": "execute_result"
    }
   ],
   "execution_count": 33
  },
  {
   "metadata": {
    "ExecuteTime": {
     "end_time": "2025-06-12T12:54:18.307893Z",
     "start_time": "2025-06-12T12:54:18.303894Z"
    }
   },
   "cell_type": "code",
   "source": [
    "# Use torch.arange() to create a tensor of len 10 in order\n",
    "one_to_ten = torch.arange(0,10)\n",
    "# tensor([0, 1, 2, 3, 4, 5, 6, 7, 8, 9])"
   ],
   "id": "ad45ea75a90d25",
   "outputs": [],
   "execution_count": 37
  },
  {
   "metadata": {
    "ExecuteTime": {
     "end_time": "2025-06-12T12:52:16.255356Z",
     "start_time": "2025-06-12T12:52:16.250334Z"
    }
   },
   "cell_type": "code",
   "source": [
    "torch.arange(start=0, end=77, step=11)\n",
    "# tensor([ 0, 11, 22, 33, 44, 55, 66])"
   ],
   "id": "60665bd39d7f7a6f",
   "outputs": [
    {
     "data": {
      "text/plain": [
       "tensor([ 0, 11, 22, 33, 44, 55, 66])"
      ]
     },
     "execution_count": 36,
     "metadata": {},
     "output_type": "execute_result"
    }
   ],
   "execution_count": 36
  },
  {
   "metadata": {
    "ExecuteTime": {
     "end_time": "2025-06-12T12:57:58.119348Z",
     "start_time": "2025-06-12T12:57:58.114271Z"
    }
   },
   "cell_type": "code",
   "source": [
    "# Creating tensors like (copy attributes of another tensor)\n",
    "ten_zeros = torch.full_like(input = one_to_ten, fill_value = random.randint(0,5))\n",
    "ten_zeros\n",
    "# tensor([0, 0, 0, 0, 0, 0, 0, 0, 0, 0])"
   ],
   "id": "e74780d7a3e8b17c",
   "outputs": [
    {
     "data": {
      "text/plain": [
       "tensor([2, 2, 2, 2, 2, 2, 2, 2, 2, 2])"
      ]
     },
     "execution_count": 47,
     "metadata": {},
     "output_type": "execute_result"
    }
   ],
   "execution_count": 47
  },
  {
   "metadata": {
    "ExecuteTime": {
     "end_time": "2025-06-12T13:08:43.650884Z",
     "start_time": "2025-06-12T13:08:43.645379Z"
    }
   },
   "cell_type": "code",
   "source": [
    "# Float 32 tensor is default data type\n",
    "float_32_tensor = torch.tensor([3.0, 6.0, 9.0],\n",
    "                               dtype = None,        # Data Type (int, float32, float16, etc)\n",
    "                               device=None,         # Default is CPU\n",
    "                               requires_grad=False) # Track the gradient of the tensor as it goes through certain operations. worry about later\n",
    "float_32_tensor, float_32_tensor.dtype"
   ],
   "id": "4555546b0f45c58c",
   "outputs": [
    {
     "data": {
      "text/plain": [
       "(tensor([3., 6., 9.]), torch.float32)"
      ]
     },
     "execution_count": 49,
     "metadata": {},
     "output_type": "execute_result"
    }
   ],
   "execution_count": 49
  },
  {
   "metadata": {
    "ExecuteTime": {
     "end_time": "2025-06-12T13:08:45.280005Z",
     "start_time": "2025-06-12T13:08:45.270025Z"
    }
   },
   "cell_type": "code",
   "source": [
    "# Refactor float_32 tensor\n",
    "float_16_tensor = float_32_tensor.type(torch.float16)\n",
    "float_16_tensor\n",
    "# tensor([3., 6., 9.], dtype=torch.float16)"
   ],
   "id": "8cd3b14e617149fd",
   "outputs": [
    {
     "data": {
      "text/plain": [
       "tensor([3., 6., 9.], dtype=torch.float16)"
      ]
     },
     "execution_count": 50,
     "metadata": {},
     "output_type": "execute_result"
    }
   ],
   "execution_count": 50
  },
  {
   "metadata": {
    "ExecuteTime": {
     "end_time": "2025-06-12T13:10:25.224880Z",
     "start_time": "2025-06-12T13:10:25.219880Z"
    }
   },
   "cell_type": "code",
   "source": [
    "# multiplying a 16 x 32 converts the output to a 32\n",
    "x = float_16_tensor * float_32_tensor\n",
    "x, x.dtype\n",
    "# (tensor([ 9., 36., 81.]), torch.float32)"
   ],
   "id": "1177674b0670c236",
   "outputs": [
    {
     "data": {
      "text/plain": [
       "(tensor([ 9., 36., 81.]), torch.float32)"
      ]
     },
     "execution_count": 52,
     "metadata": {},
     "output_type": "execute_result"
    }
   ],
   "execution_count": 52
  },
  {
   "metadata": {
    "ExecuteTime": {
     "end_time": "2025-06-12T13:15:55.631006Z",
     "start_time": "2025-06-12T13:15:55.626051Z"
    }
   },
   "cell_type": "code",
   "source": [
    "# Operations on different dtypes doesnt always work\n",
    "int_32_tensor = torch.tensor([3, 6, 9], dtype=torch.int32)\n",
    "int_32_tensor * float_32_tensor"
   ],
   "id": "17ead2ba69a59a3a",
   "outputs": [
    {
     "data": {
      "text/plain": [
       "tensor([ 9., 36., 81.])"
      ]
     },
     "execution_count": 56,
     "metadata": {},
     "output_type": "execute_result"
    }
   ],
   "execution_count": 56
  },
  {
   "metadata": {
    "ExecuteTime": {
     "end_time": "2025-06-12T13:16:19.134650Z",
     "start_time": "2025-06-12T13:16:19.130121Z"
    }
   },
   "cell_type": "code",
   "source": [
    "# Getting Information from tensors\n",
    "# e.g. Shape, Datatype, and Device\n",
    "float_16_tensor.shape, float_16_tensor.ndim, float_16_tensor.device\n",
    "# (torch.Size([3]), 1, device(type='cpu'))"
   ],
   "id": "aeeb6ac7f2b866df",
   "outputs": [
    {
     "data": {
      "text/plain": [
       "(torch.Size([3]), 1, device(type='cpu'))"
      ]
     },
     "execution_count": 57,
     "metadata": {},
     "output_type": "execute_result"
    }
   ],
   "execution_count": 57
  },
  {
   "metadata": {
    "ExecuteTime": {
     "end_time": "2025-06-12T13:21:46.863845Z",
     "start_time": "2025-06-12T13:21:46.856376Z"
    }
   },
   "cell_type": "code",
   "source": [
    "some_tensor = torch.rand(3,4, dtype=torch.float16)\n",
    "some_tensor\n",
    "# 0.96271,0.78899,0.16476,0.17654\n",
    "# 0.40736,0.24902,0.94571,0.67510\n",
    "# 0.79564,0.68495,0.79836,0.89421\n"
   ],
   "id": "c7df1759ba1c9830",
   "outputs": [
    {
     "data": {
      "text/plain": [
       "tensor([[0.1147, 0.0908, 0.9941, 0.5654],\n",
       "        [0.7910, 0.7114, 0.4102, 0.7378],\n",
       "        [0.3735, 0.0137, 0.2505, 0.8555]], dtype=torch.float16)"
      ]
     },
     "execution_count": 63,
     "metadata": {},
     "output_type": "execute_result"
    }
   ],
   "execution_count": 63
  },
  {
   "metadata": {
    "ExecuteTime": {
     "end_time": "2025-06-12T13:21:49.231729Z",
     "start_time": "2025-06-12T13:21:49.228673Z"
    }
   },
   "cell_type": "code",
   "source": [
    "print(f\"Datatype of tensor: {some_tensor.dtype}\")\n",
    "print(f\"Shape of tensor: {some_tensor.shape}\")\n",
    "print(f\"Device of tensor: {some_tensor.device}\")\n",
    "# Datatype of tensor: torch.float32\n",
    "# Shape of tensor: torch.Size([3, 4])\n",
    "# Device of tensor: cpu"
   ],
   "id": "6655d917b5673ae7",
   "outputs": [
    {
     "name": "stdout",
     "output_type": "stream",
     "text": [
      "Datatype of tensor: torch.float16\n",
      "Shape of tensor: torch.Size([3, 4])\n",
      "Device of tensor: cpu\n"
     ]
    }
   ],
   "execution_count": 64
  },
  {
   "metadata": {
    "ExecuteTime": {
     "end_time": "2025-06-12T13:25:29.979461Z",
     "start_time": "2025-06-12T13:25:29.974136Z"
    }
   },
   "cell_type": "code",
   "source": [
    "tensor = torch.tensor([1,2,3])\n",
    "tensor + 10, tensor + 100\n",
    "# (tensor([11, 12, 13]), tensor([101, 102, 103]))"
   ],
   "id": "79e9f495d6476421",
   "outputs": [
    {
     "data": {
      "text/plain": [
       "(tensor([11, 12, 13]), tensor([101, 102, 103]))"
      ]
     },
     "execution_count": 66,
     "metadata": {},
     "output_type": "execute_result"
    }
   ],
   "execution_count": 66
  },
  {
   "metadata": {
    "ExecuteTime": {
     "end_time": "2025-06-12T13:26:47.062103Z",
     "start_time": "2025-06-12T13:26:47.054736Z"
    }
   },
   "cell_type": "code",
   "source": [
    "tensor * 10, (tensor * 10)// 2, tensor - 10\n",
    "# (tensor([10, 20, 30]), tensor([ 5, 10, 15]), tensor([-9, -8, -7]))"
   ],
   "id": "845751fb44134e5d",
   "outputs": [
    {
     "data": {
      "text/plain": [
       "(tensor([10, 20, 30]), tensor([ 5, 10, 15]), tensor([-9, -8, -7]))"
      ]
     },
     "execution_count": 70,
     "metadata": {},
     "output_type": "execute_result"
    }
   ],
   "execution_count": 70
  },
  {
   "metadata": {
    "ExecuteTime": {
     "end_time": "2025-06-12T13:27:56.199691Z",
     "start_time": "2025-06-12T13:27:56.193648Z"
    }
   },
   "cell_type": "code",
   "source": [
    "#In-built functions. Usually just use python operators\n",
    "torch.mul(tensor, 10), torch.add(tensor,10)\n",
    "#(tensor([10, 20, 30]), tensor([11, 12, 13]))"
   ],
   "id": "723540690354c7d8",
   "outputs": [
    {
     "data": {
      "text/plain": [
       "(tensor([10, 20, 30]), tensor([11, 12, 13]))"
      ]
     },
     "execution_count": 71,
     "metadata": {},
     "output_type": "execute_result"
    }
   ],
   "execution_count": 71
  },
  {
   "metadata": {
    "ExecuteTime": {
     "end_time": "2025-06-12T13:36:59.454674Z",
     "start_time": "2025-06-12T13:36:59.449523Z"
    }
   },
   "cell_type": "code",
   "source": [
    "# Matrix Multiplication (element wise)\n",
    "print(tensor, \"*\", tensor, \"=\", tensor * tensor)\n",
    "# tensor([1, 2, 3]) * tensor([1, 2, 3]) = tensor([1, 4, 9])"
   ],
   "id": "ceaa96423b357918",
   "outputs": [
    {
     "name": "stdout",
     "output_type": "stream",
     "text": [
      "tensor([1, 2, 3]) * tensor([1, 2, 3]) = tensor([1, 4, 9])\n"
     ]
    }
   ],
   "execution_count": 72
  },
  {
   "metadata": {
    "ExecuteTime": {
     "end_time": "2025-06-12T13:37:28.914814Z",
     "start_time": "2025-06-12T13:37:28.903806Z"
    }
   },
   "cell_type": "code",
   "source": [
    "# Normal Matrix Multiplication (matmul)\n",
    "torch.matmul(tensor, tensor)\n",
    "# tensor(14)"
   ],
   "id": "c415d86797f292b4",
   "outputs": [
    {
     "data": {
      "text/plain": [
       "tensor(14)"
      ]
     },
     "execution_count": 73,
     "metadata": {},
     "output_type": "execute_result"
    }
   ],
   "execution_count": 73
  },
  {
   "metadata": {
    "ExecuteTime": {
     "end_time": "2025-06-12T14:33:05.845141Z",
     "start_time": "2025-06-12T14:33:05.840218Z"
    }
   },
   "cell_type": "code",
   "source": [
    "#Remember inner dimensions must match, result is the outer dimensions\n",
    "x,y = torch.rand(4,3),torch.rand(3,2)\n",
    "z = torch.matmul(x,y)\n",
    "z.shape, z.ndim\n",
    "#(torch.Size([4, 2]), 2)"
   ],
   "id": "b5ddf56289b31961",
   "outputs": [
    {
     "data": {
      "text/plain": [
       "(torch.Size([4, 2]), 2)"
      ]
     },
     "execution_count": 138,
     "metadata": {},
     "output_type": "execute_result"
    }
   ],
   "execution_count": 138
  },
  {
   "metadata": {
    "ExecuteTime": {
     "end_time": "2025-06-12T14:55:01.996978Z",
     "start_time": "2025-06-12T14:55:01.969963Z"
    }
   },
   "cell_type": "code",
   "source": [
    "#Shapes for matrix multiplication\n",
    "tensor_A = torch.tensor([[1,2],\n",
    "                         [3,4],\n",
    "                         [5,6]])\n",
    "tensor_B = torch.tensor([[7,10],\n",
    "                         [8,11],\n",
    "                         [9,12]])\n",
    "torch.mm(tensor_A, tensor_B)   #torch.mm is the same as torch.matmul"
   ],
   "id": "47147271f9abbd31",
   "outputs": [
    {
     "ename": "RuntimeError",
     "evalue": "mat1 and mat2 shapes cannot be multiplied (3x2 and 3x2)",
     "output_type": "error",
     "traceback": [
      "\u001B[31m---------------------------------------------------------------------------\u001B[39m",
      "\u001B[31mRuntimeError\u001B[39m                              Traceback (most recent call last)",
      "\u001B[36mCell\u001B[39m\u001B[36m \u001B[39m\u001B[32mIn[147]\u001B[39m\u001B[32m, line 8\u001B[39m\n\u001B[32m      2\u001B[39m tensor_A = torch.tensor([[\u001B[32m1\u001B[39m,\u001B[32m2\u001B[39m],\n\u001B[32m      3\u001B[39m                          [\u001B[32m3\u001B[39m,\u001B[32m4\u001B[39m],\n\u001B[32m      4\u001B[39m                          [\u001B[32m5\u001B[39m,\u001B[32m6\u001B[39m]])\n\u001B[32m      5\u001B[39m tensor_B = torch.tensor([[\u001B[32m7\u001B[39m,\u001B[32m10\u001B[39m],\n\u001B[32m      6\u001B[39m                          [\u001B[32m8\u001B[39m,\u001B[32m11\u001B[39m],\n\u001B[32m      7\u001B[39m                          [\u001B[32m9\u001B[39m,\u001B[32m12\u001B[39m]])\n\u001B[32m----> \u001B[39m\u001B[32m8\u001B[39m \u001B[43mtorch\u001B[49m\u001B[43m.\u001B[49m\u001B[43mmm\u001B[49m\u001B[43m(\u001B[49m\u001B[43mtensor_A\u001B[49m\u001B[43m,\u001B[49m\u001B[43m \u001B[49m\u001B[43mtensor_B\u001B[49m\u001B[43m)\u001B[49m   \u001B[38;5;66;03m#torch.mm is the same as torch.matmul\u001B[39;00m\n",
      "\u001B[31mRuntimeError\u001B[39m: mat1 and mat2 shapes cannot be multiplied (3x2 and 3x2)"
     ]
    }
   ],
   "execution_count": 147
  },
  {
   "metadata": {
    "ExecuteTime": {
     "end_time": "2025-06-12T14:56:50.535101Z",
     "start_time": "2025-06-12T14:56:50.524768Z"
    }
   },
   "cell_type": "code",
   "source": [
    "# A Transpose switches the dimensions of a matrix\n",
    "tensor_B.T\n",
    "# 7,8,9\n",
    "# 10,11,12\n"
   ],
   "id": "fadf216294d2c213",
   "outputs": [
    {
     "data": {
      "text/plain": [
       "tensor([[ 7,  8,  9],\n",
       "        [10, 11, 12]])"
      ]
     },
     "execution_count": 148,
     "metadata": {},
     "output_type": "execute_result"
    }
   ],
   "execution_count": 148
  },
  {
   "metadata": {
    "ExecuteTime": {
     "end_time": "2025-06-12T14:57:41.489744Z",
     "start_time": "2025-06-12T14:57:41.484636Z"
    }
   },
   "cell_type": "code",
   "source": [
    "# We can now multiply A and B\n",
    "torch.mm(tensor_A, tensor_B.T)\n",
    "# 27,30,33\n",
    "# 61,68,75\n",
    "# 95,106,117\n"
   ],
   "id": "f3b01fbad8c63b8b",
   "outputs": [
    {
     "data": {
      "text/plain": [
       "tensor([[ 27,  30,  33],\n",
       "        [ 61,  68,  75],\n",
       "        [ 95, 106, 117]])"
      ]
     },
     "execution_count": 149,
     "metadata": {},
     "output_type": "execute_result"
    }
   ],
   "execution_count": 149
  },
  {
   "metadata": {
    "ExecuteTime": {
     "end_time": "2025-06-12T15:16:04.438799Z",
     "start_time": "2025-06-12T15:16:04.407943Z"
    }
   },
   "cell_type": "code",
   "source": [
    "x = torch.arange(0,100,10)\n",
    "torch.min(x), torch.max(x), torch.mean(x), torch.sum(x)"
   ],
   "id": "12e50b9cb67b05fa",
   "outputs": [
    {
     "ename": "RuntimeError",
     "evalue": "mean(): could not infer output dtype. Input dtype must be either a floating point or complex dtype. Got: Long",
     "output_type": "error",
     "traceback": [
      "\u001B[31m---------------------------------------------------------------------------\u001B[39m",
      "\u001B[31mRuntimeError\u001B[39m                              Traceback (most recent call last)",
      "\u001B[36mCell\u001B[39m\u001B[36m \u001B[39m\u001B[32mIn[152]\u001B[39m\u001B[32m, line 2\u001B[39m\n\u001B[32m      1\u001B[39m x = torch.arange(\u001B[32m0\u001B[39m,\u001B[32m100\u001B[39m,\u001B[32m10\u001B[39m)\n\u001B[32m----> \u001B[39m\u001B[32m2\u001B[39m torch.min(x), torch.max(x), \u001B[43mtorch\u001B[49m\u001B[43m.\u001B[49m\u001B[43mmean\u001B[49m\u001B[43m(\u001B[49m\u001B[43mx\u001B[49m\u001B[43m)\u001B[49m, torch.sum(x)\n",
      "\u001B[31mRuntimeError\u001B[39m: mean(): could not infer output dtype. Input dtype must be either a floating point or complex dtype. Got: Long"
     ]
    }
   ],
   "execution_count": 152
  },
  {
   "metadata": {
    "ExecuteTime": {
     "end_time": "2025-06-12T15:17:02.504195Z",
     "start_time": "2025-06-12T15:17:02.499681Z"
    }
   },
   "cell_type": "code",
   "source": [
    "x.dtype\n",
    "#torch.int64"
   ],
   "id": "7a7afd744214d620",
   "outputs": [
    {
     "data": {
      "text/plain": [
       "torch.int64"
      ]
     },
     "execution_count": 153,
     "metadata": {},
     "output_type": "execute_result"
    }
   ],
   "execution_count": 153
  },
  {
   "metadata": {
    "ExecuteTime": {
     "end_time": "2025-06-12T15:18:29.673284Z",
     "start_time": "2025-06-12T15:18:29.665302Z"
    }
   },
   "cell_type": "code",
   "source": [
    "torch.mean(x.type(torch.float32))\n",
    "#tensor(45.)   now it works"
   ],
   "id": "a74dc304ba02ef26",
   "outputs": [
    {
     "data": {
      "text/plain": [
       "tensor(45.)"
      ]
     },
     "execution_count": 154,
     "metadata": {},
     "output_type": "execute_result"
    }
   ],
   "execution_count": 154
  },
  {
   "metadata": {
    "ExecuteTime": {
     "end_time": "2025-06-12T15:20:30.184716Z",
     "start_time": "2025-06-12T15:20:30.175718Z"
    }
   },
   "cell_type": "code",
   "source": [
    "x = torch.arange(0,100,10)\n",
    "torch.min(x), torch.max(x), torch.mean(x.type(torch.float32)), torch.sum(x)\n",
    "#(tensor(0), tensor(90), tensor(45.), tensor(450))"
   ],
   "id": "6d3691e835a31eaf",
   "outputs": [
    {
     "data": {
      "text/plain": [
       "(tensor(0), tensor(90), tensor(45.), tensor(450))"
      ]
     },
     "execution_count": 155,
     "metadata": {},
     "output_type": "execute_result"
    }
   ],
   "execution_count": 155
  },
  {
   "metadata": {
    "ExecuteTime": {
     "end_time": "2025-06-12T15:22:26.507800Z",
     "start_time": "2025-06-12T15:22:26.502752Z"
    }
   },
   "cell_type": "code",
   "source": [
    "# Find the index of the min and max with argmin and argmax\n",
    "torch.argmin(x.type(torch.float32)), torch.argmax(x.type(torch.float32))\n",
    "#(tensor(0), tensor(9))"
   ],
   "id": "9e3ded4eef73e330",
   "outputs": [
    {
     "data": {
      "text/plain": [
       "(tensor(0), tensor(9))"
      ]
     },
     "execution_count": 158,
     "metadata": {},
     "output_type": "execute_result"
    }
   ],
   "execution_count": 158
  },
  {
   "metadata": {
    "ExecuteTime": {
     "end_time": "2025-06-12T15:40:49.550139Z",
     "start_time": "2025-06-12T15:40:49.544271Z"
    }
   },
   "cell_type": "code",
   "source": [
    "x = torch.arange(1., 10.)\n",
    "x, x.shape\n",
    "# (tensor([1., 2., 3., 4., 5., 6., 7., 8., 9.]), torch.Size([9]))\n"
   ],
   "id": "869c559cb362213b",
   "outputs": [
    {
     "data": {
      "text/plain": [
       "(tensor([1., 2., 3., 4., 5., 6., 7., 8., 9.]), torch.Size([9]))"
      ]
     },
     "execution_count": 176,
     "metadata": {},
     "output_type": "execute_result"
    }
   ],
   "execution_count": 176
  },
  {
   "metadata": {
    "ExecuteTime": {
     "end_time": "2025-06-12T15:34:19.923684Z",
     "start_time": "2025-06-12T15:34:19.917147Z"
    }
   },
   "cell_type": "code",
   "source": [
    "# dimensions must be compatible with original dimensions\n",
    "x_reshaped = x.reshape(3,3)\n",
    "x_reshaped, x_reshaped.shape\n",
    "# (tensor([[1., 2., 3.],\n",
    "#          [4., 5., 6.],\n",
    "#          [7., 8., 9.]]),\n",
    "#  torch.Size([3, 3]))"
   ],
   "id": "23c76a8d2abcb973",
   "outputs": [
    {
     "data": {
      "text/plain": [
       "(tensor([[1., 2., 3.],\n",
       "         [4., 5., 6.],\n",
       "         [7., 8., 9.]]),\n",
       " torch.Size([3, 3]))"
      ]
     },
     "execution_count": 168,
     "metadata": {},
     "output_type": "execute_result"
    }
   ],
   "execution_count": 168
  },
  {
   "metadata": {
    "ExecuteTime": {
     "end_time": "2025-06-12T15:36:10.834652Z",
     "start_time": "2025-06-12T15:36:10.829424Z"
    }
   },
   "cell_type": "code",
   "source": [
    "# Change the view (similar to reshape. however, z shares memory with x)\n",
    "# thus, changing z changes x\n",
    "z = x.view(3,3)\n",
    "z, z.shape\n",
    "# (tensor([[1., 2., 3.],\n",
    "#          [4., 5., 6.],\n",
    "#          [7., 8., 9.]]),\n",
    "#  torch.Size([3, 3]))"
   ],
   "id": "648ff074bb396dcb",
   "outputs": [
    {
     "data": {
      "text/plain": [
       "(tensor([[1., 2., 3.],\n",
       "         [4., 5., 6.],\n",
       "         [7., 8., 9.]]),\n",
       " torch.Size([3, 3]))"
      ]
     },
     "execution_count": 171,
     "metadata": {},
     "output_type": "execute_result"
    }
   ],
   "execution_count": 171
  },
  {
   "metadata": {
    "ExecuteTime": {
     "end_time": "2025-06-12T15:42:13.858341Z",
     "start_time": "2025-06-12T15:42:13.851506Z"
    }
   },
   "cell_type": "code",
   "source": [
    "# Stack tensors on top of each other\n",
    "x_stacked = torch.stack([x,x,x,x], dim=1)\n",
    "x_stacked\n",
    "# 1.00000,2.00000,3.00000,4.00000,5.00000,6.00000,7.00000,8.00000,9.00000\n",
    "# 1.00000,2.00000,3.00000,4.00000,5.00000,6.00000,7.00000,8.00000,9.00000\n",
    "# 1.00000,2.00000,3.00000,4.00000,5.00000,6.00000,7.00000,8.00000,9.00000\n",
    "# 1.00000,2.00000,3.00000,4.00000,5.00000,6.00000,7.00000,8.00000,9.00000\n"
   ],
   "id": "e692326f5c91651a",
   "outputs": [
    {
     "data": {
      "text/plain": [
       "tensor([[1., 1., 1., 1.],\n",
       "        [2., 2., 2., 2.],\n",
       "        [3., 3., 3., 3.],\n",
       "        [4., 4., 4., 4.],\n",
       "        [5., 5., 5., 5.],\n",
       "        [6., 6., 6., 6.],\n",
       "        [7., 7., 7., 7.],\n",
       "        [8., 8., 8., 8.],\n",
       "        [9., 9., 9., 9.]])"
      ]
     },
     "execution_count": 184,
     "metadata": {},
     "output_type": "execute_result"
    }
   ],
   "execution_count": 184
  }
 ],
 "metadata": {
  "kernelspec": {
   "display_name": "Python 3",
   "language": "python",
   "name": "python3"
  },
  "language_info": {
   "codemirror_mode": {
    "name": "ipython",
    "version": 2
   },
   "file_extension": ".py",
   "mimetype": "text/x-python",
   "name": "python",
   "nbconvert_exporter": "python",
   "pygments_lexer": "ipython2",
   "version": "2.7.6"
  }
 },
 "nbformat": 4,
 "nbformat_minor": 5
}
